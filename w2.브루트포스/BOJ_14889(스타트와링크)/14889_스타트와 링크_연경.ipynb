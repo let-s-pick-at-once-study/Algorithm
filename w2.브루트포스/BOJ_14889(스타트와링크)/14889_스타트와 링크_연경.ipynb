{
 "cells": [
  {
   "cell_type": "code",
   "execution_count": 3,
   "metadata": {},
   "outputs": [
    {
     "name": "stdout",
     "output_type": "stream",
     "text": [
      "4\n",
      "0 1 2 3\n",
      "4 0 5 6\n",
      "7 1 0 2\n",
      "3 4 5 0\n",
      "(0, 1)\n",
      "(0, 2)\n",
      "(0, 3)\n",
      "(1, 2)\n",
      "(1, 3)\n",
      "(2, 3)\n",
      "0\n"
     ]
    }
   ],
   "source": [
    "from itertools import combinations\n",
    "\n",
    "N = int(input())\n",
    "ability_board = []\n",
    "for _ in range(N):\n",
    "    ability_board.append(list(map(int, input().split())))\n",
    "\n",
    "num_list = [i for i in range(N)]\n",
    "res = float('inf')\n",
    "\n",
    "def solve():\n",
    "    global res\n",
    "    \n",
    "    # 조합을 이용하여 각 후보자를 생성함\n",
    "    for cand in combinations(num_list, N // 2):   #num_list에서 N//2을 뽑는 조합\n",
    "        # 선택된 후보와 나머지\n",
    "        print(cand)\n",
    "        start_member = list(cand)\n",
    "        link_member = list(set(num_list) - set(cand))\n",
    "        \n",
    "        # 점수 비교는 2명씩 이루어진다.\n",
    "        start_comb = list(combinations(start_member, 2))\n",
    "        link_comb = list(combinations(link_member, 2))\n",
    "        \n",
    "        # 점수 구하기\n",
    "        start_sum = 0\n",
    "        for x, y in start_comb:\n",
    "            start_sum += (ability_board[x][y] + ability_board[y][x])\n",
    "            \n",
    "        link_sum = 0\n",
    "        for x, y in link_comb:\n",
    "            link_sum += (ability_board[x][y] + ability_board[y][x])\n",
    "        \n",
    "        # 차이를 구하는 것이므로 abs 사용\n",
    "        if(res > abs(start_sum - link_sum)):  #최솟값을 출력하는 것이므로\n",
    "            res = abs(start_sum - link_sum)   #abs가 기존 res보다 작으면 res를 abs로 교체\n",
    "            \n",
    "solve()\n",
    "print(res)"
   ]
  },
  {
   "cell_type": "markdown",
   "metadata": {},
   "source": [
    "https://hwiyong.tistory.com/307"
   ]
  }
 ],
 "metadata": {
  "kernelspec": {
   "display_name": "Python 3",
   "language": "python",
   "name": "python3"
  },
  "language_info": {
   "codemirror_mode": {
    "name": "ipython",
    "version": 3
   },
   "file_extension": ".py",
   "mimetype": "text/x-python",
   "name": "python",
   "nbconvert_exporter": "python",
   "pygments_lexer": "ipython3",
   "version": "3.6.5"
  }
 },
 "nbformat": 4,
 "nbformat_minor": 2
}
