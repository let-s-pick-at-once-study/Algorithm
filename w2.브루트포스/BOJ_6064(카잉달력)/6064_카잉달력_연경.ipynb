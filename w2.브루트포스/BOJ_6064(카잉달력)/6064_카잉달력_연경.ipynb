{
 "cells": [
  {
   "cell_type": "code",
   "execution_count": 24,
   "metadata": {},
   "outputs": [
    {
     "name": "stdout",
     "output_type": "stream",
     "text": [
      "3\n",
      "10 12 3 9\n",
      "33\n",
      "10 12 7 2\n",
      "-1\n",
      "11 13 2 9\n",
      "35\n"
     ]
    }
   ],
   "source": [
    "n=int(input())\n",
    "\n",
    "\n",
    "for i in range(n):\n",
    "    year=1\n",
    "    j=1\n",
    "    k=1\n",
    "    check=1   ##유효한 표현식인지 확인하기 위해서\n",
    "    M, N, x, y=map(int,input().split())\n",
    "    #print(M, N, x, y)\n",
    "    mult=M*N\n",
    "    #print(mult)\n",
    "    \n",
    "    for _ in range(1, mult):\n",
    "        if j==M:\n",
    "            j=1\n",
    "        else:\n",
    "            j+=1\n",
    "        if k==N:\n",
    "            k=1\n",
    "        else:\n",
    "            k+=1\n",
    "        year+=1\n",
    "        #print(j, k, year)\n",
    "        if (j==x) & (k==y):\n",
    "            print(year)\n",
    "            check=0   ##유효한 표현식인 경우 check를 0으로 변환\n",
    "            break\n",
    "    if check==1:   ##유효한 표현식이 아닌 경우 -1 출력\n",
    "        print(-1)"
   ]
  },
  {
   "cell_type": "code",
   "execution_count": 25,
   "metadata": {},
   "outputs": [
    {
     "name": "stdout",
     "output_type": "stream",
     "text": [
      "3\n",
      "10 12 3 9\n",
      "33\n",
      "10 12 7 2\n",
      "-1\n",
      "11 13 8 5\n",
      "96\n"
     ]
    }
   ],
   "source": [
    "import sys\n",
    "#input = sys.stdin.readline\n",
    "\n",
    "t = int(input())\n",
    "for _ in range(t):\n",
    "    M, N, x, y = map(int, input().split())\n",
    "    x, y = x - 1, y - 1\n",
    "    ans = -1\n",
    "    for i in range(x, M * N + 1, M):\n",
    "        if i % N == y:\n",
    "            ans = i + 1\n",
    "            break\n",
    "    print(ans)"
   ]
  }
 ],
 "metadata": {
  "kernelspec": {
   "display_name": "Python 3",
   "language": "python",
   "name": "python3"
  },
  "language_info": {
   "codemirror_mode": {
    "name": "ipython",
    "version": 3
   },
   "file_extension": ".py",
   "mimetype": "text/x-python",
   "name": "python",
   "nbconvert_exporter": "python",
   "pygments_lexer": "ipython3",
   "version": "3.6.5"
  }
 },
 "nbformat": 4,
 "nbformat_minor": 2
}
