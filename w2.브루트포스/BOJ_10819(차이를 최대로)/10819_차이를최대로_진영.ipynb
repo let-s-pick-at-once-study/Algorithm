{
 "cells": [
  {
   "cell_type": "markdown",
   "metadata": {},
   "source": [
    "# 문제\n",
    "N개의 정수로 이루어진 배열 A가 주어진다. <br>\n",
    "이때, 배열에 들어있는 정수의 순서를 적절히 바꿔서 다음 식의 최댓값을 구하는 프로그램을 작성하시오.\n",
    "\n",
    "|A[0] - A[1]| + |A[1] - A[2]| + ... + |A[N-2] - A[N-1]|<br>\n",
    "\n",
    "## 입력\n",
    "첫째 줄에 N (3 ≤ N ≤ 8)이 주어진다. 둘째 줄에는 배열 A에 들어있는 정수가 주어진다. 배열에 들어있는 정수는 -100보다 크거나 같고, 100보다 작거나 같다.\n",
    "\n",
    "## 출력\n",
    "첫째 줄에 배열에 들어있는 수의 순서를 적절히 바꿔서 얻을 수 있는 식의 최댓값을 출력한다.\n",
    "\n",
    "### 예제 입력 1 \n",
    "6<br>\n",
    "20 1 15 8 4 10\n",
    "### 예제 출력 1 \n",
    "62"
   ]
  },
  {
   "cell_type": "markdown",
   "metadata": {},
   "source": [
    "### 아이디어\n",
    "경우의 수가 작아서 permutation을 사용해 가능한 모든 경우의 수열을 구해놓고 다 비교.. "
   ]
  },
  {
   "cell_type": "code",
   "execution_count": 5,
   "metadata": {},
   "outputs": [],
   "source": [
    "from itertools import permutations"
   ]
  },
  {
   "cell_type": "code",
   "execution_count": null,
   "metadata": {},
   "outputs": [],
   "source": [
    "for i in ex:\n",
    "    temp=0\n",
    "    for j in range(n-1):\n",
    "        temp=temp+abs(ex[i][j]-ex[i][j+1])\n",
    "    ans=max(ans,temp)"
   ]
  },
  {
   "cell_type": "code",
   "execution_count": 28,
   "metadata": {},
   "outputs": [
    {
     "data": {
      "text/plain": [
       "14"
      ]
     },
     "execution_count": 28,
     "metadata": {},
     "output_type": "execute_result"
    }
   ],
   "source": [
    "abs(ex[1][1]-ex[1][2])"
   ]
  },
  {
   "cell_type": "code",
   "execution_count": 79,
   "metadata": {},
   "outputs": [
    {
     "name": "stdout",
     "output_type": "stream",
     "text": [
      "6\n",
      "20 1 15 10 8 4\n"
     ]
    }
   ],
   "source": [
    "#최종\n",
    "from itertools import permutations\n",
    "n=int(input())\n",
    "a=list(map(int,input().split()))\n",
    "ex=list(map(list,permutations(a,n)))\n",
    "k=len(ex)\n",
    "ans=0\n",
    "for i in range(0,k):\n",
    "    temp=0\n",
    "    for j in range(n-1):\n",
    "        temp=temp+abs(ex[i][j]-ex[i][j+1])\n",
    "    ans=max(ans,temp)\n",
    "print(ans)\n",
    "#196ms"
   ]
  },
  {
   "cell_type": "code",
   "execution_count": null,
   "metadata": {},
   "outputs": [],
   "source": []
  }
 ],
 "metadata": {
  "kernelspec": {
   "display_name": "Python 3",
   "language": "python",
   "name": "python3"
  },
  "language_info": {
   "codemirror_mode": {
    "name": "ipython",
    "version": 3
   },
   "file_extension": ".py",
   "mimetype": "text/x-python",
   "name": "python",
   "nbconvert_exporter": "python",
   "pygments_lexer": "ipython3",
   "version": "3.8.5"
  }
 },
 "nbformat": 4,
 "nbformat_minor": 4
}
