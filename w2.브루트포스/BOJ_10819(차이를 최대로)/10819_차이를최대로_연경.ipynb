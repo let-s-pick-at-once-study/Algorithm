{
 "cells": [
  {
   "cell_type": "code",
   "execution_count": 6,
   "metadata": {},
   "outputs": [
    {
     "name": "stdout",
     "output_type": "stream",
     "text": [
      "46\n"
     ]
    }
   ],
   "source": [
    "arr=[20, 1, 15, 8, 4, 2]\n",
    "\n",
    "def sum_(n, arr):\n",
    "    sum=0\n",
    "    for i in range(0, n-1):\n",
    "        sum+=abs(arr[i]-arr[i+1])\n",
    "    return sum\n",
    "print(sum_(6, arr))"
   ]
  },
  {
   "cell_type": "code",
   "execution_count": null,
   "metadata": {},
   "outputs": [],
   "source": [
    "sum=sum_(6, arr)\n",
    "for i in range(0, len(arr)-1):\n",
    "    least = i\n",
    "    for j in range(i+1, n):\n",
    "        "
   ]
  },
  {
   "cell_type": "code",
   "execution_count": null,
   "metadata": {},
   "outputs": [],
   "source": [
    "for i in range(0, n-1):\n",
    "    least = i\n",
    "    for j in range (i+1, n):\n",
    "        if arr[least] > arr[j]:\n",
    "            least = j\n",
    "    arr[i], arr[least] = arr[least], arr[i]"
   ]
  },
  {
   "cell_type": "code",
   "execution_count": 10,
   "metadata": {},
   "outputs": [
    {
     "name": "stdout",
     "output_type": "stream",
     "text": [
      "4\n",
      "20 1 15 8 4 10\n",
      "49\n"
     ]
    }
   ],
   "source": [
    "# from itertools import permutations\n",
    "n=int(input())\n",
    "\n",
    "arr = permutations(list(map(int, input().split())))\n",
    "\n",
    "ans=0\n",
    "\n",
    "for i in arr:\n",
    "    sum=0\n",
    "    sum=sum_(n, i)\n",
    "    ans = max(ans, sum)\n",
    "    \n",
    "print(ans)"
   ]
  },
  {
   "cell_type": "code",
   "execution_count": 11,
   "metadata": {},
   "outputs": [
    {
     "name": "stdout",
     "output_type": "stream",
     "text": [
      "6\n",
      "20 15 1 4 8 10\n",
      "62\n"
     ]
    }
   ],
   "source": [
    "from itertools import permutations\n",
    "\n",
    "n = int(input())\n",
    "\n",
    "arr = permutations(list(map(int, input().split())))\n",
    "\n",
    "ans=0\n",
    "for i in arr:\n",
    "    sum=0\n",
    "    for j in range(0, n-1):\n",
    "        sum+=abs(i[j]-i[j+1])\n",
    "    ans=max(ans, sum)\n",
    "    \n",
    "print(ans)"
   ]
  }
 ],
 "metadata": {
  "kernelspec": {
   "display_name": "Python 3",
   "language": "python",
   "name": "python3"
  },
  "language_info": {
   "codemirror_mode": {
    "name": "ipython",
    "version": 3
   },
   "file_extension": ".py",
   "mimetype": "text/x-python",
   "name": "python",
   "nbconvert_exporter": "python",
   "pygments_lexer": "ipython3",
   "version": "3.6.5"
  }
 },
 "nbformat": 4,
 "nbformat_minor": 2
}
