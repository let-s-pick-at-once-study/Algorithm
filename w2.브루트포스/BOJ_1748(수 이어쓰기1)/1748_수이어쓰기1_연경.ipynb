{
 "cells": [
  {
   "cell_type": "code",
   "execution_count": 1,
   "metadata": {},
   "outputs": [
    {
     "name": "stdout",
     "output_type": "stream",
     "text": [
      "120\n",
      "252\n"
     ]
    }
   ],
   "source": [
    "N = int(input())\n",
    "nines = [int('9'+'0'*i) for i in range(0, len(str(N)))] # if 120 --> [9, 90, 900]\n",
    "result = 0\n",
    "\n",
    "for i, s in enumerate(nines):\n",
    "    if s == nines[-1]: # 마지막 자릿수를 계산할 때\n",
    "        result += len(str(s)) * (N - sum(nines[:-1])) # result += 3 * 21\n",
    "    else :\n",
    "        i += 1\n",
    "        result += i*s\n",
    "\n",
    "print(result)"
   ]
  },
  {
   "cell_type": "markdown",
   "metadata": {},
   "source": [
    "https://cjleee.tistory.com/10"
   ]
  }
 ],
 "metadata": {
  "kernelspec": {
   "display_name": "Python 3",
   "language": "python",
   "name": "python3"
  },
  "language_info": {
   "codemirror_mode": {
    "name": "ipython",
    "version": 3
   },
   "file_extension": ".py",
   "mimetype": "text/x-python",
   "name": "python",
   "nbconvert_exporter": "python",
   "pygments_lexer": "ipython3",
   "version": "3.6.5"
  }
 },
 "nbformat": 4,
 "nbformat_minor": 2
}
