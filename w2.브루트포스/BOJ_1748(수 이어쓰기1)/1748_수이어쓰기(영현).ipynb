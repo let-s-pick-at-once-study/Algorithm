{
 "cells": [
  {
   "cell_type": "markdown",
   "metadata": {},
   "source": [
    "# 수 이어 쓰기\n",
    "\n",
    "## 문제\n",
    "\n",
    "1부터 N까지의 수를 이어서 쓰면 다음과 같이 새로운 하나의 수를 얻을 수 있다.\n",
    "\n",
    "> 1234567891011121314151617181920212223...\n",
    "\n",
    "이렇게 만들어진 새로운 수는 몇 자리 수일까? 이 수의 자릿수를 구하는 프로그램을 작성하시오.\n",
    "\n",
    "## 입력\n",
    "\n",
    "첫째 줄에 N(1 ≤ N ≤ 100,000,000)이 주어진다.\n",
    "\n",
    "## 출력\n",
    "\n",
    "첫째 줄에 새로운 수의 자릿수를 출력한다.\n",
    "\n",
    "## 예제 입력 1\n",
    "\n",
    "```\n",
    "120\n",
    "\n",
    "```\n",
    "\n",
    "## 예제 출력 1\n",
    "\n",
    "```\n",
    "252\n",
    "```"
   ]
  },
  {
   "cell_type": "code",
   "execution_count": 1,
   "metadata": {
    "ExecuteTime": {
     "end_time": "2021-01-13T08:05:55.172770Z",
     "start_time": "2021-01-13T08:05:55.166779Z"
    }
   },
   "outputs": [],
   "source": [
    "def sol(N):\n",
    "    ans = '1'\n",
    "    for i in range(2,N+1):\n",
    "        ans += str(i)\n",
    "    return len(ans)"
   ]
  },
  {
   "cell_type": "code",
   "execution_count": 3,
   "metadata": {
    "ExecuteTime": {
     "end_time": "2021-01-13T08:06:04.842779Z",
     "start_time": "2021-01-13T08:06:04.837819Z"
    }
   },
   "outputs": [
    {
     "data": {
      "text/plain": [
       "252"
      ]
     },
     "execution_count": 3,
     "metadata": {},
     "output_type": "execute_result"
    }
   ],
   "source": [
    "sol(120)"
   ]
  },
  {
   "cell_type": "code",
   "execution_count": 4,
   "metadata": {
    "ExecuteTime": {
     "end_time": "2021-01-13T08:09:16.804776Z",
     "start_time": "2021-01-13T08:09:16.800772Z"
    }
   },
   "outputs": [],
   "source": [
    "def sol(N):\n",
    "    ans = 0\n",
    "    for i in range(1,N+1):\n",
    "        ans += len(str(i))\n",
    "    return ans"
   ]
  },
  {
   "cell_type": "code",
   "execution_count": 5,
   "metadata": {
    "ExecuteTime": {
     "end_time": "2021-01-13T08:09:19.577776Z",
     "start_time": "2021-01-13T08:09:19.572783Z"
    }
   },
   "outputs": [
    {
     "data": {
      "text/plain": [
       "252"
      ]
     },
     "execution_count": 5,
     "metadata": {},
     "output_type": "execute_result"
    }
   ],
   "source": [
    "sol(120)"
   ]
  },
  {
   "cell_type": "code",
   "execution_count": 6,
   "metadata": {
    "ExecuteTime": {
     "end_time": "2021-01-13T08:16:25.819483Z",
     "start_time": "2021-01-13T08:16:23.401488Z"
    }
   },
   "outputs": [
    {
     "name": "stdout",
     "output_type": "stream",
     "text": [
      "13\n",
      "17\n"
     ]
    }
   ],
   "source": [
    "N = input()\n",
    "len_N = len(N)\n",
    "cnt = 0\n",
    "for i in range(len_N-1):\n",
    "    cnt += 9*10**i*(i+1)\n",
    "print(cnt+(int(N) - 10**(len_N-1) +1)*len_N)"
   ]
  },
  {
   "cell_type": "code",
   "execution_count": 7,
   "metadata": {
    "ExecuteTime": {
     "end_time": "2021-01-13T08:20:24.397486Z",
     "start_time": "2021-01-13T08:20:24.391486Z"
    }
   },
   "outputs": [
    {
     "data": {
      "text/plain": [
       "2"
      ]
     },
     "execution_count": 7,
     "metadata": {},
     "output_type": "execute_result"
    }
   ],
   "source": [
    "len('13')"
   ]
  },
  {
   "cell_type": "code",
   "execution_count": null,
   "metadata": {},
   "outputs": [],
   "source": []
  }
 ],
 "metadata": {
  "hide_input": false,
  "kernelspec": {
   "display_name": "Python 3",
   "language": "python",
   "name": "python3"
  },
  "language_info": {
   "codemirror_mode": {
    "name": "ipython",
    "version": 3
   },
   "file_extension": ".py",
   "mimetype": "text/x-python",
   "name": "python",
   "nbconvert_exporter": "python",
   "pygments_lexer": "ipython3",
   "version": "3.7.7"
  },
  "toc": {
   "base_numbering": 1,
   "nav_menu": {},
   "number_sections": true,
   "sideBar": true,
   "skip_h1_title": false,
   "title_cell": "Table of Contents",
   "title_sidebar": "Contents",
   "toc_cell": false,
   "toc_position": {},
   "toc_section_display": true,
   "toc_window_display": false
  }
 },
 "nbformat": 4,
 "nbformat_minor": 4
}
