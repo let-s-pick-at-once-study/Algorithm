{
 "cells": [
  {
   "cell_type": "code",
   "execution_count": 15,
   "metadata": {},
   "outputs": [
    {
     "name": "stdout",
     "output_type": "stream",
     "text": [
      "5\n",
      "Y C P Z Y\n",
      "C Y Z Z P\n",
      "C C P P P\n",
      "Y C Y Z C\n",
      "C P P Z Z\n",
      "4\n"
     ]
    }
   ],
   "source": [
    "n=int(input())\n",
    "a=[]\n",
    "for i in range(N):\n",
    "        a.append(list(map(str, input().split())))\n",
    "r=0\n",
    "\n",
    "def width():  #행에서 같은 색상 사탕이 최대 몇개인지 확인\n",
    "    global r\n",
    "    \n",
    "    for i in range(n):\n",
    "        c=1\n",
    "        for j in range(1, n):\n",
    "            if s[i][j]==a[i][j-1]: #현재 위치와 이전 위치 비교\n",
    "                c+=1  #같으면 c+1\n",
    "            else:  #다르면\n",
    "                if r<c:\n",
    "                    r=c  #c>r 일 때, r을 c로 바꾸고\n",
    "                c=1  #c는 다시 1\n",
    "        if r<c:  #최대 개수로 for문을 빠져 나온 경우를 대비\n",
    "            r=c   #최대 개수면 모두 색상이 같아 위의 else에서 걸리지 X\n",
    "\n",
    "def height():  #열에서 같은 생상 사탕이 최대 몇개인지 확인\n",
    "    global r\n",
    "    \n",
    "    for i in range(n):\n",
    "        c=1\n",
    "        for j in range(1, n):\n",
    "            if a[j][i] == a[j-1][i]:\n",
    "                c+=1\n",
    "            else:\n",
    "                if r<c:\n",
    "                    r=c\n",
    "                c=1\n",
    "        if r<c:\n",
    "            r=c\n",
    "\n",
    "for i in range(n):\n",
    "    for j in range(1, n):\n",
    "        a[i][j], a[i][j-1] = a[i][j-1], a[i][j]  #같은 행에서 열 위치 변경\n",
    "        width()\n",
    "        height()\n",
    "        a[i][j], a[i][j-1] = a[i][j-1], a[i][j]  #원 상태로 복귀\n",
    "\n",
    "for i in range(n):\n",
    "    for j in range(1, n):\n",
    "        a[j][i], a[j-1][i] = a[j-1][i], a[j][i]  #같은 열에서 행 위치 변경\n",
    "        width()\n",
    "        height()\n",
    "        a[j][i], a[j-1][i] = a[j-1][i], a[j][i]\n",
    "        \n",
    "print(r)"
   ]
  },
  {
   "cell_type": "code",
   "execution_count": 6,
   "metadata": {},
   "outputs": [
    {
     "name": "stdout",
     "output_type": "stream",
     "text": [
      "5\n",
      "1 2 3 4 5\n",
      "2 3 4 2 1\n",
      "2 2 2 2 2\n",
      "3 3 3 3 3\n",
      "4 4 4 4 4\n"
     ]
    }
   ],
   "source": [
    "N=int(input())\n",
    "s=[]\n",
    "for i in range(N):\n",
    "        s.append(list(map(int, input().split())))"
   ]
  },
  {
   "cell_type": "code",
   "execution_count": 7,
   "metadata": {},
   "outputs": [],
   "source": [
    "s[2][3]=s[1][1]"
   ]
  },
  {
   "cell_type": "code",
   "execution_count": 8,
   "metadata": {},
   "outputs": [
    {
     "name": "stdout",
     "output_type": "stream",
     "text": [
      "[[1, 2, 3, 4, 5], [2, 3, 4, 2, 1], [2, 2, 2, 3, 2], [3, 3, 3, 3, 3], [4, 4, 4, 4, 4]]\n"
     ]
    }
   ],
   "source": [
    "print(s)"
   ]
  }
 ],
 "metadata": {
  "kernelspec": {
   "display_name": "Python 3",
   "language": "python",
   "name": "python3"
  },
  "language_info": {
   "codemirror_mode": {
    "name": "ipython",
    "version": 3
   },
   "file_extension": ".py",
   "mimetype": "text/x-python",
   "name": "python",
   "nbconvert_exporter": "python",
   "pygments_lexer": "ipython3",
   "version": "3.6.5"
  }
 },
 "nbformat": 4,
 "nbformat_minor": 2
}
