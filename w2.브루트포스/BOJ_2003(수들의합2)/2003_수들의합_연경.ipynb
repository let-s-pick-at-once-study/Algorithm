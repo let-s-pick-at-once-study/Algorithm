{
 "cells": [
  {
   "cell_type": "code",
   "execution_count": null,
   "metadata": {},
   "outputs": [],
   "source": [
    "import sys\n",
    "\n",
    "N, S = map(int, sys.stdin.readline().split(\" \"))\n",
    "arr = list(map(int, sys.stdin.readline().split(\" \")))\n",
    "\n",
    "start = 0\n",
    "end = 1\n",
    "count = 0\n",
    "sum = arr[start]\n",
    "if sum == S:\n",
    "    count += 1\n",
    "\n",
    "while not (start == end == N):\n",
    "    if sum < S and end < N:\n",
    "        sum += arr[end]\n",
    "        end += 1\n",
    "    else:\n",
    "        sum -= arr[start]\n",
    "        start += 1\n",
    "\n",
    "    if sum == S:\n",
    "        count += 1\n",
    "\n",
    "\n",
    "print(count)"
   ]
  },
  {
   "cell_type": "code",
   "execution_count": 1,
   "metadata": {},
   "outputs": [
    {
     "name": "stdout",
     "output_type": "stream",
     "text": [
      "4 2\n",
      "1 1 1 1\n",
      "3\n"
     ]
    }
   ],
   "source": [
    "import sys\n",
    "\n",
    "N, S = map(int,input().split())\n",
    "arr = list(map(int, input().split()))\n",
    "\n",
    "start = 0\n",
    "end = 1\n",
    "count = 0\n",
    "sum = arr[start]\n",
    "if sum == S:\n",
    "    count += 1\n",
    "\n",
    "while not (start == end == N):\n",
    "    if sum < S and end < N:\n",
    "        sum += arr[end]\n",
    "        end += 1\n",
    "    else:\n",
    "        sum -= arr[start]\n",
    "        start += 1\n",
    "\n",
    "    if sum == S:\n",
    "        count += 1\n",
    "\n",
    "\n",
    "print(count)"
   ]
  },
  {
   "cell_type": "markdown",
   "metadata": {},
   "source": [
    "https://ovila.tistory.com/12"
   ]
  }
 ],
 "metadata": {
  "kernelspec": {
   "display_name": "Python 3",
   "language": "python",
   "name": "python3"
  },
  "language_info": {
   "codemirror_mode": {
    "name": "ipython",
    "version": 3
   },
   "file_extension": ".py",
   "mimetype": "text/x-python",
   "name": "python",
   "nbconvert_exporter": "python",
   "pygments_lexer": "ipython3",
   "version": "3.6.5"
  }
 },
 "nbformat": 4,
 "nbformat_minor": 2
}
