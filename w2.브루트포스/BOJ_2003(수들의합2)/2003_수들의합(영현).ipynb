{
 "cells": [
  {
   "cell_type": "markdown",
   "metadata": {},
   "source": [
    "# 수들의 합\n",
    "\n",
    "## 문제\n",
    "\n",
    "N개의 수로 된 수열 A[1], A[2], …, A[N] 이 있다. 이 수열의 i번째 수부터 j번째 수까지의 합 A[i] + A[i+1] + … + A[j-1] + A[j]가 M이 되는 경우의 수를 구하는 프로그램을 작성하시오.\n",
    "\n",
    "## 입력\n",
    "\n",
    "첫째 줄에 N(1 ≤ N ≤ 10,000), M(1 ≤ M ≤ 300,000,000)이 주어진다. 다음 줄에는 A[1], A[2], …, A[N]이 공백으로 분리되어 주어진다. 각각의 A[x]는 30,000을 넘지 않는 자연수이다.\n",
    "\n",
    "## 출력\n",
    "\n",
    "첫째 줄에 경우의 수를 출력한다.\n",
    "\n",
    "## 예제 입력 1\n",
    "\n",
    "```\n",
    "4 2\n",
    "1 1 1 1\n",
    "\n",
    "```\n",
    "\n",
    "## 예제 출력 1\n",
    "\n",
    "```\n",
    "3\n",
    "\n",
    "```\n",
    "\n",
    "## 예제 입력 2\n",
    "\n",
    "```\n",
    "10 5\n",
    "1 2 3 4 2 5 3 1 1 2\n",
    "\n",
    "```\n",
    "\n",
    "## 예제 출력 2\n",
    "\n",
    "```\n",
    "3\n",
    "```"
   ]
  },
  {
   "cell_type": "code",
   "execution_count": 6,
   "metadata": {
    "ExecuteTime": {
     "end_time": "2021-01-13T08:40:00.020528Z",
     "start_time": "2021-01-13T08:39:50.626481Z"
    }
   },
   "outputs": [
    {
     "name": "stdout",
     "output_type": "stream",
     "text": [
      "10 5\n",
      "1 2 3 4 2 5 3 1 1 2\n"
     ]
    }
   ],
   "source": [
    "N, M = map(int, input().split(' '))\n",
    "A = []\n",
    "for i in map(int, input().split(' ')):\n",
    "    A.append(i)\n",
    "# lst = list(map(int, input().split(' ')))"
   ]
  },
  {
   "cell_type": "code",
   "execution_count": 4,
   "metadata": {
    "ExecuteTime": {
     "end_time": "2021-01-13T08:34:09.864486Z",
     "start_time": "2021-01-13T08:34:09.847488Z"
    }
   },
   "outputs": [
    {
     "data": {
      "text/plain": [
       "[1, 2, 3, 4, 2, 5, 3, 1, 1, 2]"
      ]
     },
     "execution_count": 4,
     "metadata": {},
     "output_type": "execute_result"
    }
   ],
   "source": [
    "lst"
   ]
  },
  {
   "cell_type": "code",
   "execution_count": 8,
   "metadata": {
    "ExecuteTime": {
     "end_time": "2021-01-13T08:40:21.286484Z",
     "start_time": "2021-01-13T08:40:21.274493Z"
    }
   },
   "outputs": [
    {
     "name": "stdout",
     "output_type": "stream",
     "text": [
      "1\n"
     ]
    }
   ],
   "source": [
    "#먼저 0~n까지의 합을 구해줌\n",
    "sum_A = [0] * (N + 1)\n",
    "for i in range(1, N + 1):\n",
    "    sum_A[i] = sum_A[i-1] + A[i-1]  \n",
    "    \n",
    "#투포인터 설정\n",
    "answer = 1000001\n",
    "start = 0\n",
    "end = 1\n",
    "\n",
    "#알고리즘 실행\n",
    "while start != N:\n",
    "    if sum_A[end] - sum_A[start] >= M:\n",
    "        if end - start< answer:\n",
    "            answer = end - start\n",
    "        start += 1\n",
    "        \n",
    "    else:\n",
    "        if end != N:\n",
    "            end += 1\n",
    "        else:\n",
    "            start += 1\n",
    "\n",
    "#답이 없을 경우 & 있을 경우\n",
    "if answer != 1000001:\n",
    "    print(answer)\n",
    "else:\n",
    "    print(0)"
   ]
  },
  {
   "cell_type": "code",
   "execution_count": 9,
   "metadata": {
    "ExecuteTime": {
     "end_time": "2021-01-13T08:48:26.372485Z",
     "start_time": "2021-01-13T08:48:26.365487Z"
    }
   },
   "outputs": [
    {
     "name": "stdout",
     "output_type": "stream",
     "text": [
      "3\n"
     ]
    }
   ],
   "source": [
    "left, right, hap, count = 0, 0, A[0], 0\n",
    "while right < N and left <= right:\n",
    "    if hap == M: # 합이 5이면 정답 카운트 +1\n",
    "        count += 1\n",
    "        right += 1\n",
    "        if right < N:\n",
    "            hap += A[right] # 다른 경우의 수를 찾기 위해 그 오른쪽 값 더해줌\n",
    "    elif hap > M: # 더해온 값이 5보다 크면 왼쪽부터 빼서 다시 합 조절\n",
    "        hap -= A[left]\n",
    "        left += 1\n",
    "        if left > right and left < N: # 왼쪽의 범위가 오른쪽을 넘어설 때\n",
    "            right = left # 전환\n",
    "            hap = A[left] # 이건 왜??\n",
    "    elif hap < M: # 차근차근 자릿수의 합이 M보다 작을 때 오른쪽 범위를 늘려준다\n",
    "        right += 1\n",
    "        if right < N:\n",
    "            hap += A[right]\n",
    "print(count)"
   ]
  },
  {
   "cell_type": "code",
   "execution_count": null,
   "metadata": {},
   "outputs": [],
   "source": []
  }
 ],
 "metadata": {
  "hide_input": false,
  "kernelspec": {
   "display_name": "Python 3",
   "language": "python",
   "name": "python3"
  },
  "language_info": {
   "codemirror_mode": {
    "name": "ipython",
    "version": 3
   },
   "file_extension": ".py",
   "mimetype": "text/x-python",
   "name": "python",
   "nbconvert_exporter": "python",
   "pygments_lexer": "ipython3",
   "version": "3.7.7"
  },
  "toc": {
   "base_numbering": 1,
   "nav_menu": {},
   "number_sections": true,
   "sideBar": true,
   "skip_h1_title": false,
   "title_cell": "Table of Contents",
   "title_sidebar": "Contents",
   "toc_cell": false,
   "toc_position": {},
   "toc_section_display": true,
   "toc_window_display": false
  }
 },
 "nbformat": 4,
 "nbformat_minor": 4
}
