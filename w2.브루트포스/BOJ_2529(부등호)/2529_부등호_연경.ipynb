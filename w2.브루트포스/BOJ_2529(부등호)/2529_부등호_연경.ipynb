{
 "cells": [
  {
   "cell_type": "code",
   "execution_count": 1,
   "metadata": {},
   "outputs": [
    {
     "name": "stdout",
     "output_type": "stream",
     "text": [
      "2\n",
      "< >\n",
      "897\n",
      "021\n"
     ]
    }
   ],
   "source": [
    "n = int(input())\n",
    "op = input().split()\n",
    "c = [False] * 10\n",
    "mx, mn = \"\", \"\"\n",
    "\n",
    "def possible(i, j, k):   #가능한지 불가능한지 판단\n",
    "    if k == '<':   #k == '<'인 경우 입력 받은 i, j의 대소 관계가 어떻게 되는지 출력\n",
    "        return i < j\n",
    "    if k == '>':\n",
    "        return i > j\n",
    "    return True\n",
    "\n",
    "def solve(cnt, s):\n",
    "    global mx, mn\n",
    "    if cnt == n + 1:  #재귀 힘수 종료 조건 cnt == n+1이 되면 함수를 종료(입력 부등호 개수 +1 만큼 함수를 호출해야함)\n",
    "        if not len(mn):\n",
    "            mn = s\n",
    "        else:\n",
    "            mx = s\n",
    "        return\n",
    "    for i in range(10): #i가 0부터 9까지 -> min부터 max까지 돌아감\n",
    "        if not c[i]:   #c[i] 값이 False면 실행\n",
    "            if cnt == 0 or possible(s[-1], str(i), op[cnt - 1]):\n",
    "                c[i] = True\n",
    "                solve(cnt + 1, s + str(i))\n",
    "                c[i] = False\n",
    "solve(0, \"\")\n",
    "print(mx)\n",
    "print(mn)"
   ]
  },
  {
   "cell_type": "code",
   "execution_count": null,
   "metadata": {},
   "outputs": [],
   "source": [
    "\n",
    "https://jeongminhee99.tistory.com/84"
   ]
  }
 ],
 "metadata": {
  "kernelspec": {
   "display_name": "Python 3",
   "language": "python",
   "name": "python3"
  },
  "language_info": {
   "codemirror_mode": {
    "name": "ipython",
    "version": 3
   },
   "file_extension": ".py",
   "mimetype": "text/x-python",
   "name": "python",
   "nbconvert_exporter": "python",
   "pygments_lexer": "ipython3",
   "version": "3.6.5"
  }
 },
 "nbformat": 4,
 "nbformat_minor": 2
}
