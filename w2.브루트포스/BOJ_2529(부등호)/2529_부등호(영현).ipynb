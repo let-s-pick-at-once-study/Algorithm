{
 "cells": [
  {
   "cell_type": "markdown",
   "metadata": {},
   "source": [
    "# 부등호\n",
    "\n",
    "## 문제\n",
    "\n",
    "두 종류의 부등호 기호 ‘<’와 ‘>’가 k개 나열된 순서열  A가 있다. 우리는 이 부등호 기호 앞뒤에 서로 다른 한 자릿수 숫자를 넣어서 모든 부등호 관계를 만족시키려고 한다. 예를 들어, 제시된 부등호 순서열 A가 다음과 같다고 하자.\n",
    "\n",
    "A =>  < < < > < < > < >\n",
    "\n",
    "부등호 기호 앞뒤에 넣을 수 있는 숫자는 0부터 9까지의 정수이며 선택된 숫자는 모두 달라야 한다. 아래는 부등호 순서열 A를 만족시키는 한 예이다.\n",
    "\n",
    "**3 < 4 < 5 < 6 > 1 < 2 < 8 > 7 < 9 > 0**\n",
    "\n",
    "이 상황에서 부등호 기호를 제거한 뒤, 숫자를 모두 붙이면 하나의 수를 만들 수 있는데 이 수를 주어진 부등호 관계를 만족시키는 정수라고 한다. 그런데 주어진 부등호 관계를 만족하는 정수는 하나 이상 존재한다. 예를 들어 3456128790 뿐만 아니라 5689023174도 아래와 같이 부등호 관계 A를 만족시킨다.\n",
    "\n",
    "**5 < 6 < 8 < 9 > 0 < 2 < 3 > 1 < 7 > 4**\n",
    "\n",
    "여러분은 제시된 k개의 부등호 순서를 만족하는 (k+1)자리의 정수 중에서 최댓값과 최솟값을 찾아야 한다. 앞서 설명한 대로 각 부등호의 앞뒤에 들어가는 숫자는 { 0, 1, 2, 3, 4, 5, 6, 7, 8, 9 }중에서 선택해야 하며 **선택된 숫자는 모두 달라야 한다**.\n",
    "\n",
    "## 입력\n",
    "\n",
    "첫 줄에 부등호 문자의 개수를 나타내는 정수 k가 주어진다. 그 다음 줄에는 k개의 부등호 기호가 하나의 공백을 두고 한 줄에 모두 제시된다. k의 범위는 2 ≤ k ≤ 9 이다.\n",
    "\n",
    "## 출력\n",
    "\n",
    "여러분은 제시된 부등호 관계를 만족하는 k+1 자리의 최대, 최소 정수를 첫째 줄과 둘째 줄에 각각 출력해야 한다. 단 아래 예(1)과 같이 첫 자리가 0인 경우도 정수에 포함되어야 한다. 모든 입력에 답은 항상 존재하며 출력 정수는 하나의 문자열이 되도록 해야 한다.\n",
    "\n",
    "## 예제 입력 1\n",
    "\n",
    "```\n",
    "2\n",
    "< > \n",
    "```\n",
    "\n",
    "## 예제 출력 1\n",
    "\n",
    "```\n",
    "897\n",
    "021\n",
    "```"
   ]
  },
  {
   "cell_type": "code",
   "execution_count": 1,
   "metadata": {
    "ExecuteTime": {
     "end_time": "2021-01-16T04:35:23.473319Z",
     "start_time": "2021-01-16T04:35:18.616351Z"
    }
   },
   "outputs": [
    {
     "name": "stdout",
     "output_type": "stream",
     "text": [
      "2\n",
      "< >\n"
     ]
    }
   ],
   "source": [
    "N = int(input())\n",
    "a_arr = list(input().split(' '))"
   ]
  },
  {
   "cell_type": "code",
   "execution_count": 2,
   "metadata": {
    "ExecuteTime": {
     "end_time": "2021-01-16T04:35:26.965319Z",
     "start_time": "2021-01-16T04:35:26.952313Z"
    }
   },
   "outputs": [
    {
     "data": {
      "text/plain": [
       "['<', '>']"
      ]
     },
     "execution_count": 2,
     "metadata": {},
     "output_type": "execute_result"
    }
   ],
   "source": [
    "a_arr"
   ]
  },
  {
   "cell_type": "code",
   "execution_count": 3,
   "metadata": {
    "ExecuteTime": {
     "end_time": "2021-01-16T04:37:10.318315Z",
     "start_time": "2021-01-16T04:37:10.311316Z"
    }
   },
   "outputs": [],
   "source": [
    "def sol(arr):\n",
    "    num_list = [i for i in range(10)]\n",
    "    \n",
    "    "
   ]
  },
  {
   "cell_type": "code",
   "execution_count": 4,
   "metadata": {
    "ExecuteTime": {
     "end_time": "2021-01-16T04:37:12.710351Z",
     "start_time": "2021-01-16T04:37:12.703315Z"
    }
   },
   "outputs": [
    {
     "data": {
      "text/plain": [
       "[0, 1, 2, 3, 4, 5, 6, 7, 8, 9]"
      ]
     },
     "execution_count": 4,
     "metadata": {},
     "output_type": "execute_result"
    }
   ],
   "source": [
    "num_list"
   ]
  },
  {
   "cell_type": "code",
   "execution_count": 5,
   "metadata": {
    "ExecuteTime": {
     "end_time": "2021-01-16T04:43:29.137346Z",
     "start_time": "2021-01-16T04:43:22.108315Z"
    }
   },
   "outputs": [
    {
     "name": "stdout",
     "output_type": "stream",
     "text": [
      "2\n",
      "< >\n",
      "897\n",
      "021\n"
     ]
    }
   ],
   "source": [
    "n = int(input())\n",
    "b = input().split()\n",
    "c = [False]*10 # 0~9\n",
    "mx, mn = \"\", \"\"\n",
    "\n",
    "def possible(i,j,k): # 가능한지 불가능한지 판단해주는 함수\n",
    "    if k == '<':\n",
    "        return i<j\n",
    "    if k == '>':\n",
    "        return i>j\n",
    "    return True\n",
    "\n",
    "def solve(cnt, s):\n",
    "\n",
    "    global mx, mn\n",
    "    if cnt == n+1:\n",
    "        if not len(mn): # mn이 비워져 있으면 최솟값에 s 넣기\n",
    "            mn = s\n",
    "        else: # mn에 값이 있으면 최댓값에 넣기\n",
    "            mx = s\n",
    "        return\n",
    "    for i in range(10):# 0부터 9까지 \n",
    "        if not c[i]: # c[i]이 false이면(중복 방지)\n",
    "            if cnt==0 or possible(s[-1], str(i), b[cnt-1]):\n",
    "                c[i]=True\n",
    "                solve(cnt+1, s+str(i)) \n",
    "                # 만약 0 > ? 일 경우 ?에 올 숫자가 없으므로 solve함수가 끝나고 c[0]이 false가 되고 c[1]부터 다시 시작한다.\n",
    "                c[i]=False\n",
    "\n",
    "\n",
    "solve(0, \"\")\n",
    "print(mx)\n",
    "print(mn)"
   ]
  },
  {
   "cell_type": "code",
   "execution_count": 7,
   "metadata": {
    "ExecuteTime": {
     "end_time": "2021-01-16T04:46:02.272313Z",
     "start_time": "2021-01-16T04:46:02.267312Z"
    }
   },
   "outputs": [],
   "source": [
    "solve(0,\"\")"
   ]
  },
  {
   "cell_type": "code",
   "execution_count": null,
   "metadata": {},
   "outputs": [],
   "source": []
  }
 ],
 "metadata": {
  "hide_input": false,
  "kernelspec": {
   "display_name": "Python 3",
   "language": "python",
   "name": "python3"
  },
  "language_info": {
   "codemirror_mode": {
    "name": "ipython",
    "version": 3
   },
   "file_extension": ".py",
   "mimetype": "text/x-python",
   "name": "python",
   "nbconvert_exporter": "python",
   "pygments_lexer": "ipython3",
   "version": "3.7.7"
  },
  "toc": {
   "base_numbering": 1,
   "nav_menu": {},
   "number_sections": true,
   "sideBar": true,
   "skip_h1_title": false,
   "title_cell": "Table of Contents",
   "title_sidebar": "Contents",
   "toc_cell": false,
   "toc_position": {},
   "toc_section_display": true,
   "toc_window_display": false
  }
 },
 "nbformat": 4,
 "nbformat_minor": 4
}
