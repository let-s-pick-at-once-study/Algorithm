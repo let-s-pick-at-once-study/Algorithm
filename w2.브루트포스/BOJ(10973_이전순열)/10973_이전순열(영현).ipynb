{
 "cells": [
  {
   "cell_type": "markdown",
   "metadata": {},
   "source": [
    "# 이전 순열\n",
    "\n",
    "1부터 N까지의 수로 이루어진 순열이 있다. 이때, 사전순으로 바로 이전에 오는 순열을 구하는 프로그램을 작성하시오.\n",
    "\n",
    "사전 순으로 가장 앞서는 순열은 오름차순으로 이루어진 순열이고, 가장 마지막에 오는 순열은 내림차순으로 이루어진 순열이다.\n",
    "\n",
    "N = 3인 경우에 사전순으로 순열을 나열하면 다음과 같다.\n",
    "\n",
    "* 1, 2, 3\n",
    "* 1, 3, 2\n",
    "* 2, 1, 3\n",
    "* 2, 3, 1\n",
    "* 3, 1, 2\n",
    "* 3, 2, 1"
   ]
  },
  {
   "cell_type": "code",
   "execution_count": 9,
   "metadata": {
    "ExecuteTime": {
     "end_time": "2020-12-30T06:38:07.075017Z",
     "start_time": "2020-12-30T06:38:02.766966Z"
    }
   },
   "outputs": [
    {
     "name": "stdout",
     "output_type": "stream",
     "text": [
      "4\n",
      "1 2 3 4\n"
     ]
    },
    {
     "data": {
      "text/plain": [
       "-1"
      ]
     },
     "execution_count": 9,
     "metadata": {},
     "output_type": "execute_result"
    }
   ],
   "source": [
    "N = int(input())\n",
    "A = list(map(int, input().split(' ')))\n",
    "\n",
    "def sol(a):\n",
    "    n = len(a)-1\n",
    "    i=n\n",
    "    \n",
    "    while i>0 and a[i-1]<a[i]: # 내림차순인지 확인\n",
    "        i -=1 # 빠져 나올 땐 i가 0이거나, a[i-1]이 a[i]보다 큰 경우\n",
    "    \n",
    "    if i==0: # 내림차순이면\n",
    "        return -1\n",
    "    \n",
    "    j=n\n",
    "    while a[i-1]<=a[j]: # 맨 뒤에서부터 a[j]<a[i-1]을 만족하는 가장 큰 j 찾기\n",
    "        j-=1\n",
    "        \n",
    "    a[i-1], a[j] = a[j], a[i-1]  # 그 둘을 스왑\n",
    "    \n",
    "    j=n\n",
    "    while i<j: # i 이후 모든 값들을 뒤집는다\n",
    "        a[i],a[j] = a[j],a[i]\n",
    "        i+=1\n",
    "        j-=1\n",
    "    \n",
    "    for i in a:\n",
    "        print(i, end = ' ')\n",
    "\n",
    "sol(A)"
   ]
  },
  {
   "cell_type": "code",
   "execution_count": null,
   "metadata": {},
   "outputs": [],
   "source": [
    "N = int(input())\n",
    "A = list(map(int, input().split(' ')))\n",
    "\n",
    "def sol(a):\n",
    "    n = len(a)-1\n",
    "    i=n\n",
    "    \n",
    "    while i>0 and a[i-1]<a[i]: # 내림차순인지 확인\n",
    "        i -=1 # 빠져 나올 땐 i가 0이거나, a[i-1]이 a[i]보다 큰 경우\n",
    "    \n",
    "    if i==0: # 내림차순이면\n",
    "        return False\n",
    "    \n",
    "    j=n\n",
    "    while a[i-1]<=a[j]: # 맨 뒤에서부터 a[j]<a[i-1]을 만족하는 가장 큰 j 찾기\n",
    "        j-=1\n",
    "        \n",
    "    a[i-1], a[j] = a[j], a[i-1]  # 그 둘을 스왑\n",
    "    \n",
    "    j=n\n",
    "    while i<j: # i 이후 모든 값들을 뒤집는다\n",
    "        a[i],a[j] = a[j],a[i]\n",
    "        i+=1\n",
    "        j-=1\n",
    "    return True\n",
    "\n",
    "if sol(A) is True:\n",
    "    for i in a:\n",
    "        print(i, end = ' ')\n",
    "else:\n",
    "    print(-1)\n"
   ]
  }
 ],
 "metadata": {
  "hide_input": false,
  "kernelspec": {
   "display_name": "Python 3",
   "language": "python",
   "name": "python3"
  },
  "language_info": {
   "codemirror_mode": {
    "name": "ipython",
    "version": 3
   },
   "file_extension": ".py",
   "mimetype": "text/x-python",
   "name": "python",
   "nbconvert_exporter": "python",
   "pygments_lexer": "ipython3",
   "version": "3.7.7"
  },
  "toc": {
   "base_numbering": 1,
   "nav_menu": {},
   "number_sections": true,
   "sideBar": true,
   "skip_h1_title": false,
   "title_cell": "Table of Contents",
   "title_sidebar": "Contents",
   "toc_cell": false,
   "toc_position": {},
   "toc_section_display": true,
   "toc_window_display": false
  }
 },
 "nbformat": 4,
 "nbformat_minor": 4
}
