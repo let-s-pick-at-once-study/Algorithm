{
 "cells": [
  {
   "cell_type": "markdown",
   "metadata": {},
   "source": [
    "문제\n",
    "문자열 S가 주어졌을 때, 이 문자열에서 단어만 뒤집으려고 한다.\n",
    "\n",
    "먼저, 문자열 S는 아래와과 같은 규칙을 지킨다.\n",
    "\n",
    "알파벳 소문자('a'-'z'), 숫자('0'-'9'), 공백(' '), 특수 문자('<', '>')로만 이루어져 있다.\n",
    "문자열의 시작과 끝은 공백이 아니다.\n",
    "'<'와 '>'가 문자열에 있는 경우 번갈아가면서 등장하며, '<'이 먼저 등장한다. 또, 두 문자의 개수는 같다.\n",
    "태그는 '<'로 시작해서 '>'로 끝나는 길이가 3 이상인 부분 문자열이고, '<'와 '>' 사이에는 알파벳 소문자와 공백만 있다. 단어는 알파벳 소문자와 숫자로 이루어진 부분 문자열이고, 연속하는 두 단어는 공백 하나로 구분한다. 태그는 단어가 아니며, 태그와 단어 사이에는 공백이 없다.\n",
    "\n",
    "입력\n",
    "첫째 줄에 문자열 S가 주어진다. S의 길이는 100,000 이하이다.\n",
    "\n",
    "출력\n",
    "첫째 줄에 문자열 S의 단어를 뒤집어서 출력한다.\n",
    "\n",
    "예제 입력 1 \n",
    "baekjoon online judge\n",
    "예제 출력 1 \n",
    "noojkeab enilno egduj\n",
    "예제 입력 2 \n",
    "<open>tag<close>\n",
    "예제 출력 2 \n",
    "<open>gat<close>\n",
    "예제 입력 3 \n",
    "<ab cd>ef gh<ij kl>\n",
    "예제 출력 3 \n",
    "<ab cd>fe hg<ij kl>\n",
    "예제 입력 4 \n",
    "one1 two2 three3 4fourr 5five 6six\n",
    "예제 출력 4 \n",
    "1eno 2owt 3eerht rruof4 evif5 xis6\n",
    "예제 입력 5 \n",
    "<int><max>2147483647<long long><max>9223372036854775807\n",
    "예제 출력 5 \n",
    "<int><max>7463847412<long long><max>7085774586302733229\n",
    "예제 입력 6 \n",
    "<problem>17413<is hardest>problem ever<end>"
   ]
  },
  {
   "cell_type": "markdown",
   "metadata": {},
   "source": [
    "## 아이디어\n",
    "1. 공백으로 끊고 <>부분은 그대로 출력, 외의 부분은 공백별로 뒤집어서 출력한다. 아래 코드임.<br>\n",
    "문제점: <를 index로 받아오기 때문에 <>가 여러번 있는 경우 코드가 반복적으로 돌아가지 못한다.<br>\n",
    "->이 경우에도 굳이 문제를 list에 넣을 필요없음.나올 수 있는 경우 '<','>',' ' 문자 고려해서 코드짜기.\n"
   ]
  },
  {
   "cell_type": "code",
   "execution_count": 1,
   "metadata": {},
   "outputs": [
    {
     "name": "stdout",
     "output_type": "stream",
     "text": [
      "123 abc<de>fg\n",
      "321cba<de>gf\n"
     ]
    }
   ],
   "source": [
    "word=list(input().split())\n",
    "change=[]\n",
    "answer=[]\n",
    "for i in range(len(word)):\n",
    "    change=[]\n",
    "    mid=\"\"\n",
    "    www=list(word[i].strip())\n",
    "    if '<' in www:\n",
    "        front=www.index('<')\n",
    "        back=www.index('>')\n",
    "        for j in range(front):\n",
    "            change.append(www[j])\n",
    "        mid=\"\".join(reversed(change))\n",
    "        answer.append(mid)\n",
    "        mid=[]\n",
    "        change=[]\n",
    "        for k in range(front, back+1):\n",
    "            change.append(www[k])\n",
    "        mid=\"\".join(change)\n",
    "        answer.append(mid)\n",
    "        mid=[]\n",
    "        change=[]\n",
    "        for m in range(len(www)-back-1):\n",
    "            change.append(www.pop())\n",
    "        mid=\"\".join(change)\n",
    "        answer.append(mid)\n",
    "        mid=[]\n",
    "        change=[]\n",
    "        \n",
    "    else:\n",
    "        for j in range(len(www)):\n",
    "            change.append(www.pop())\n",
    "        mid=\"\".join(change)\n",
    "        answer.append(mid)\n",
    "        \n",
    "print(mid)\n",
    "#<>가 연속으로 나오면 답이 이상하게 나옴......"
   ]
  },
  {
   "cell_type": "code",
   "execution_count": 6,
   "metadata": {},
   "outputs": [
    {
     "name": "stdout",
     "output_type": "stream",
     "text": [
      "12 34 <abc de><cv>\n",
      "21 43 <abc de> <cv> \n"
     ]
    }
   ],
   "source": [
    "ans=''\n",
    "word=''\n",
    "temp=False\n",
    "for c in input():\n",
    "    if c=='<':\n",
    "        temp=True\n",
    "        ans+=word\n",
    "        word=c\n",
    "    elif c=='>':\n",
    "        ans+=word+'>'\n",
    "        word=''\n",
    "        temp=False\n",
    "        \n",
    "    elif c == ' ':\n",
    "        ans+=word+' '\n",
    "        word=''\n",
    "    \n",
    "    else:\n",
    "        if temp==True:\n",
    "            word+=c\n",
    "        else:\n",
    "            word=c+word\n",
    "if word!='':\n",
    "    ans=ans+word\n",
    "print(ans)\n",
    "#참고 https://home-body.tistory.com/457"
   ]
  }
 ],
 "metadata": {
  "kernelspec": {
   "display_name": "Python 3",
   "language": "python",
   "name": "python3"
  },
  "language_info": {
   "codemirror_mode": {
    "name": "ipython",
    "version": 3
   },
   "file_extension": ".py",
   "mimetype": "text/x-python",
   "name": "python",
   "nbconvert_exporter": "python",
   "pygments_lexer": "ipython3",
   "version": "3.8.5"
  }
 },
 "nbformat": 4,
 "nbformat_minor": 4
}
