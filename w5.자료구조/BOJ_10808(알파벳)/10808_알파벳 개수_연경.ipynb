{
 "cells": [
  {
   "cell_type": "code",
   "execution_count": 3,
   "metadata": {},
   "outputs": [
    {
     "name": "stdout",
     "output_type": "stream",
     "text": [
      "dddd\n",
      "0 0 0 4 0 0 0 0 0 0 0 0 0 0 0 0 0 0 0 0 0 0 0 0 0 0 "
     ]
    }
   ],
   "source": [
    "word = list(input())\n",
    "alphabet = [[alpha, 0] for alpha in 'abcdefghijklmnopqrstuvwxyz']\n",
    "\n",
    "for alpha in alphabet:\n",
    "    for character in word:\n",
    "        if alpha[0] == character:\n",
    "            alpha[1] += 1\n",
    "\n",
    "for alpha in alphabet:\n",
    "    print(alpha[1], end = ' ')\n",
    "    \n",
    "#https://claude-u.tistory.com/187"
   ]
  },
  {
   "cell_type": "code",
   "execution_count": 5,
   "metadata": {},
   "outputs": [
    {
     "name": "stdout",
     "output_type": "stream",
     "text": [
      "dddd\n",
      "0 0 0 4 0 0 0 0 0 0 0 0 0 0 0 0 0 0 0 0 0 0 0 0 0 0 "
     ]
    }
   ],
   "source": [
    "str = list(input())\n",
    " \n",
    "result = [0] * 26\n",
    " \n",
    "for i in str:\n",
    "    result[ord(i) - 97] = str.count(i)  ##ord는 아스키 코드 값을 돌려주는 내장함수\n",
    "                                        ##'a' : 97\n",
    "for i in result:\n",
    "    print(i, end=\" \")\n",
    "    \n",
    "#https://serendipity24.tistory.com/78"
   ]
  },
  {
   "cell_type": "code",
   "execution_count": null,
   "metadata": {},
   "outputs": [],
   "source": []
  }
 ],
 "metadata": {
  "kernelspec": {
   "display_name": "Python 3",
   "language": "python",
   "name": "python3"
  },
  "language_info": {
   "codemirror_mode": {
    "name": "ipython",
    "version": 3
   },
   "file_extension": ".py",
   "mimetype": "text/x-python",
   "name": "python",
   "nbconvert_exporter": "python",
   "pygments_lexer": "ipython3",
   "version": "3.6.5"
  }
 },
 "nbformat": 4,
 "nbformat_minor": 2
}
