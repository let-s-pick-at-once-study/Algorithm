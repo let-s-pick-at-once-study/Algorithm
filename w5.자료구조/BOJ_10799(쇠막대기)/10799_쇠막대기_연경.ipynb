{
 "cells": [
  {
   "cell_type": "code",
   "execution_count": 2,
   "metadata": {},
   "outputs": [
    {
     "name": "stdout",
     "output_type": "stream",
     "text": [
      "()(((()())(())()))(())\n",
      "17\n"
     ]
    }
   ],
   "source": [
    "inputstr = input()\n",
    "sum = 0\n",
    "left = 0\n",
    "for i in range(len(inputstr)):\n",
    "    if inputstr[i] == '(':\n",
    "        left = left + 1   ##시작된 막대 갯수\n",
    "    elif inputstr[i] == ')':\n",
    "        left = left-1  ##막대가 닫히면 막대 갯수가 -1\n",
    "        if inputstr[i-1] == '(':\n",
    "            sum = sum + left  ##절단된 막대 갯수\n",
    "        else:\n",
    "            sum = sum+1\n",
    "print(sum)"
   ]
  },
  {
   "cell_type": "code",
   "execution_count": null,
   "metadata": {},
   "outputs": [],
   "source": [
    "https://ilgls1.tistory.com/16"
   ]
  }
 ],
 "metadata": {
  "kernelspec": {
   "display_name": "Python 3",
   "language": "python",
   "name": "python3"
  },
  "language_info": {
   "codemirror_mode": {
    "name": "ipython",
    "version": 3
   },
   "file_extension": ".py",
   "mimetype": "text/x-python",
   "name": "python",
   "nbconvert_exporter": "python",
   "pygments_lexer": "ipython3",
   "version": "3.6.5"
  }
 },
 "nbformat": 4,
 "nbformat_minor": 2
}
