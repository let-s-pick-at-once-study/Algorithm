{
 "cells": [
  {
   "cell_type": "code",
   "execution_count": null,
   "metadata": {},
   "outputs": [],
   "source": [
    "n=int(input())\n",
    "stack=[]\n",
    "mid=[]\n",
    "answer=[]\n",
    "count=1\n",
    "temp=True\n",
    "for _ in range(n):\n",
    "    stack=int(input())\n",
    "    while stack>= count:\n",
    "        mid.append(count)\n",
    "        answer.append('+')\n",
    "        count+=1\n",
    "    if mid[-1]== stack:\n",
    "        answer.append('-')\n",
    "        mid.pop()\n",
    "    else:\n",
    "        temp=False\n",
    "if temp==False:\n",
    "    print('NO')\n",
    "else: \n",
    "    for i in answer:\n",
    "        print(i)\n",
    "        \n",
    "#31024KB 4024ms"
   ]
  }
 ],
 "metadata": {
  "kernelspec": {
   "display_name": "Python 3",
   "language": "python",
   "name": "python3"
  },
  "language_info": {
   "codemirror_mode": {
    "name": "ipython",
    "version": 3
   },
   "file_extension": ".py",
   "mimetype": "text/x-python",
   "name": "python",
   "nbconvert_exporter": "python",
   "pygments_lexer": "ipython3",
   "version": "3.8.5"
  }
 },
 "nbformat": 4,
 "nbformat_minor": 4
}
