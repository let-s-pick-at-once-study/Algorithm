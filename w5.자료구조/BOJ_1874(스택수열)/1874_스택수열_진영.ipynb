{
 "cells": [
  {
   "cell_type": "markdown",
   "metadata": {},
   "source": [
    "# 문제\n",
    "스택 (stack)은 기본적인 자료구조 중 하나로, 컴퓨터 프로그램을 작성할 때 자주 이용되는 개념이다.<br>\n",
    "스택은 자료를 넣는 (push) 입구와 자료를 뽑는 (pop) 입구가 같아 제일 나중에 들어간 자료가 제일 먼저 나오는 (LIFO, Last in First out) 특성을 가지고 있다.\n",
    "\n",
    "1부터 n까지의 수를 스택에 넣었다가 뽑아 늘어놓음으로써, 하나의 수열을 만들 수 있다.  \n",
    "이때, 스택에 push하는 순서는 반드시 오름차순을 지키도록 한다고 하자.  \n",
    "임의의 수열이 주어졌을 때 스택을 이용해 그 수열을 만들 수 있는지 없는지,   \n",
    "있다면 어떤 순서로 push와 pop 연산을 수행해야 하는지를 알아낼 수 있다. 이를 계산하는 프로그램을 작성하라.\n",
    "\n",
    "## 입력\n",
    "첫 줄에 n (1 ≤ n ≤ 100,000)이 주어진다. 둘째 줄부터 n개의 줄에는 수열을 이루는 1이상 n이하의 정수가 하나씩 순서대로 주어진다.<br>\n",
    "물론 같은 정수가 두 번 나오는 일은 없다.\n",
    "\n",
    "## 출력\n",
    "입력된 수열을 만들기 위해 필요한 연산을 한 줄에 한 개씩 출력한다.<br>\n",
    "push연산은 +로, pop 연산은 -로 표현하도록 한다. 불가능한 경우 NO를 출력한다.\n",
    "\n",
    "## 예제 입력 1\n",
    "8<br>\n",
    "4<br>\n",
    "3<br>\n",
    "6<br>\n",
    "8<br>\n",
    "7<br>\n",
    "5<br>\n",
    "2<br>\n",
    "1<br>\n",
    "## 예제 출력 1\n",
    "+<br>\n",
    "+<br>\n",
    "+<br>\n",
    "+<br>\n",
    "-<br>\n",
    "-<br>\n",
    "+<br>\n",
    "+<br>\n",
    "-<br>\n",
    "+<br>\n",
    "+<br>\n",
    "-<br>\n",
    "-<br>\n",
    "-<br>\n",
    "-<br>\n",
    "-<br>\n",
    "## 예제 입력 2\n",
    "5<br>\n",
    "1<br>\n",
    "2<br>\n",
    "5<br>\n",
    "3<br>\n",
    "4\n",
    "## 예제 출력 2 \n",
    "NO\n",
    "## 힌트\n",
    "1부터 n까지에 수에 대해 차례로 <br>\n",
    "[push, push, push, push, pop, pop, push, push, pop, push, push, pop, pop, pop, pop, pop] <br>\n",
    "연산을 수행하면 수열 [4, 3, 6, 8, 7, 5, 2, 1]을 얻을 수 있다."
   ]
  },
  {
   "cell_type": "markdown",
   "metadata": {},
   "source": [
    "### 아이디어\n",
    "얻고자하는 수열을 stack이라는 리스트로 만들었다.<br>\n",
    "1부터 stack의 첫번째 수까지 모두 특정 리스트('mid')에 넣어놓고 answer리스트에는 '+'를 추가한다.<br>\n",
    "stack과 같다면 pop을 이용해 빼고 answer리스트 '-'를 저장하는 과정을 반복하였다.<br>\n",
    "temp는 True로 설정해 놓은 뒤 stack에 들어온 수와 'mid'리스트의 젤 마지막 숫자가 같지 않아서 pop할 수 없다면 'NO'를 프린트하게 만들었다."
   ]
  },
  {
   "cell_type": "code",
   "execution_count": 1,
   "metadata": {},
   "outputs": [
    {
     "name": "stdout",
     "output_type": "stream",
     "text": [
      "4\n",
      "4\n",
      "3\n",
      "8\n",
      "7\n",
      "+\n",
      "+\n",
      "+\n",
      "+\n",
      "-\n",
      "-\n",
      "+\n",
      "+\n",
      "+\n",
      "+\n",
      "-\n",
      "-\n"
     ]
    }
   ],
   "source": [
    "n=int(input())\n",
    "stack=[]\n",
    "mid=[]\n",
    "answer=[]\n",
    "count=1\n",
    "temp=True\n",
    "for _ in range(n):\n",
    "    stack=int(input())\n",
    "    while stack>= count:\n",
    "        mid.append(count)\n",
    "        answer.append('+')\n",
    "        count+=1\n",
    "    if mid[-1]== stack:\n",
    "        answer.append('-')\n",
    "        mid.pop()\n",
    "    else:\n",
    "        temp=False\n",
    "if temp==False:\n",
    "    print('NO')\n",
    "else: \n",
    "    for i in answer:\n",
    "        print(i)\n",
    "        \n",
    "#31024KB 4024ms\n",
    "# 출처:https://pacific-ocean.tistory.com/231"
   ]
  }
 ],
 "metadata": {
  "kernelspec": {
   "display_name": "Python 3",
   "language": "python",
   "name": "python3"
  },
  "language_info": {
   "codemirror_mode": {
    "name": "ipython",
    "version": 3
   },
   "file_extension": ".py",
   "mimetype": "text/x-python",
   "name": "python",
   "nbconvert_exporter": "python",
   "pygments_lexer": "ipython3",
   "version": "3.8.5"
  }
 },
 "nbformat": 4,
 "nbformat_minor": 4
}
