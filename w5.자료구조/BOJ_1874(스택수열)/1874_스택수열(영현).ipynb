{
 "cells": [
  {
   "cell_type": "markdown",
   "metadata": {},
   "source": [
    "# 스택 수열\n",
    "\n",
    "## 문제\n",
    "\n",
    "스택 (stack)은 기본적인 자료구조 중 하나로, 컴퓨터 프로그램을 작성할 때 자주 이용되는 개념이다. 스택은 자료를 넣는 (push) 입구와 자료를 뽑는 (pop) 입구가 같아 제일 나중에 들어간 자료가 제일 먼저 나오는 (LIFO, Last in First out) 특성을 가지고 있다.\n",
    "\n",
    "1부터 n까지의 수를 스택에 넣었다가 뽑아 늘어놓음으로써, 하나의 수열을 만들 수 있다. 이때, 스택에 push하는 순서는 반드시 오름차순을 지키도록 한다고 하자. 임의의 수열이 주어졌을 때 스택을 이용해 그 수열을 만들 수 있는지 없는지, 있다면 어떤 순서로 push와 pop 연산을 수행해야 하는지를 알아낼 수 있다. 이를 계산하는 프로그램을 작성하라.\n",
    "\n",
    "## 입력\n",
    "\n",
    "첫 줄에 n (1 ≤ n ≤ 100,000)이 주어진다. 둘째 줄부터 n개의 줄에는 수열을 이루는 1이상 n이하의 정수가 하나씩 순서대로 주어진다. 물론 같은 정수가 두 번 나오는 일은 없다.\n",
    "\n",
    "## 출력\n",
    "\n",
    "입력된 수열을 만들기 위해 필요한 연산을 한 줄에 한 개씩 출력한다. push연산은 +로, pop 연산은 -로 표현하도록 한다. 불가능한 경우 NO를 출력한다.\n",
    "\n",
    "## 예제 입력 1\n",
    "\n",
    "```\n",
    "8\n",
    "4\n",
    "3\n",
    "6\n",
    "8\n",
    "7\n",
    "5\n",
    "2\n",
    "1\n",
    "\n",
    "```\n",
    "\n",
    "## 예제 출력 1\n",
    "\n",
    "```\n",
    "+\n",
    "+\n",
    "+\n",
    "+\n",
    "-\n",
    "-\n",
    "+\n",
    "+\n",
    "-\n",
    "+\n",
    "+\n",
    "-\n",
    "-\n",
    "-\n",
    "-\n",
    "-\n",
    "\n",
    "```\n",
    "\n",
    "## 예제 입력 2\n",
    "\n",
    "```\n",
    "5\n",
    "1\n",
    "2\n",
    "5\n",
    "3\n",
    "4\n",
    "\n",
    "```\n",
    "\n",
    "## 예제 출력 2\n",
    "\n",
    "```\n",
    "NO\n",
    "```\n",
    "\n",
    "\n",
    "1. 첫번째 줄에서 받은 입력값 `n`을 기준으로, `n`번 반복하는 `for`문을 돌리면서 `x`로 입력값을 받는다.\n",
    "2. `count`, `stack`, `result`, `no_message`를 초기화한다.\n",
    "3. `count`가 `x`보다 작을 때까지 반복:\n",
    "    1. `count`는 하나씩 증가시키고\n",
    "    2. `stack`에는 `count`값을 축적시키고\n",
    "    3. `result`에는 `+`를 추가\n",
    "4. 만약 `stack`의 마지막 값과 `x`가 같다면\n",
    "    1. `stack`의 마지막 값을 꺼내고\n",
    "    2. `result`에는 ``추가\n",
    "5. 만약 `stack`의 마지막 값과 `x`가 같아지지 않는 경우\n",
    "    1. `no_message`에 False로 저장\n",
    "    2. `exit(0)`으로 다음 반복으로 넘어가도록 함"
   ]
  },
  {
   "cell_type": "code",
   "execution_count": 1,
   "metadata": {
    "ExecuteTime": {
     "end_time": "2021-01-23T11:43:47.378988Z",
     "start_time": "2021-01-23T11:43:35.686987Z"
    }
   },
   "outputs": [
    {
     "name": "stdout",
     "output_type": "stream",
     "text": [
      "5\n",
      "1\n",
      "2\n",
      "5\n",
      "3\n",
      "4\n",
      "NO\n"
     ]
    }
   ],
   "source": [
    "n = int(input())\n",
    "count = 0\n",
    "stack = []\n",
    "result = []\n",
    "no_message=True\n",
    "\n",
    "for i in range(0,n):\n",
    "    x = int(input())\n",
    "\n",
    "    while count < x:\n",
    "        count += 1\n",
    "        stack.append(count)\n",
    "        result.append(\"+\")\n",
    "\n",
    "    if stack[-1]==x:\n",
    "        stack.pop()\n",
    "        result.append(\"-\")\n",
    "    else:\n",
    "        no_message = False\n",
    "        exit(0) #a clean exit without any errors / problems\n",
    "\n",
    "if no_message==False:\n",
    "    print(\"NO\")\n",
    "else:\n",
    "    print(\"\\n\".join(result))"
   ]
  },
  {
   "cell_type": "code",
   "execution_count": null,
   "metadata": {},
   "outputs": [],
   "source": [
    "# https://assaeunji.github.io/python/2020-05-04-bj1874/"
   ]
  },
  {
   "cell_type": "code",
   "execution_count": 4,
   "metadata": {
    "ExecuteTime": {
     "end_time": "2021-01-23T11:51:39.930854Z",
     "start_time": "2021-01-23T11:51:37.857852Z"
    }
   },
   "outputs": [
    {
     "name": "stdout",
     "output_type": "stream",
     "text": [
      "5\n",
      "\n"
     ]
    }
   ],
   "source": [
    "from sys import stdin\n",
    "n = int(input())\n",
    "in_ = map(lambda x : int(x.rstrip()), stdin.readlines())\n",
    "\n",
    "def numeric():\n",
    "    cnt, stack, result = 1, [], []\n",
    "    for i in in_:\n",
    "        while cnt <= i:\n",
    "            stack.append(cnt)\n",
    "            result.append('+')\n",
    "            cnt+=1\n",
    "        if stack.pop() != i:\n",
    "            return 'NO'\n",
    "        else:\n",
    "            result.append('-')\n",
    "    return '\\n'.join(result)\n",
    "\n",
    "print(numeric())"
   ]
  },
  {
   "cell_type": "markdown",
   "metadata": {},
   "source": [
    "풀이\n",
    "- while문을 돌면서 해당 값 까지의 숫자들이 모두 들어왔는지 확인한 후 부족하면 pop기능을 계속 수행합니다.\n",
    "- pop한 값이 in_의 입력된 수열 값과 다르면 NO를 출력합니다.\n",
    "- pop 명령을 실행하면 바로 값이 빠져나가서 더 이상 리스트에는 해당 값이 없습니다. 따라서 if조건문에서 pop을 이미 수행하였으므로 else에서는 값을 비교하지 않고 pop을 수행한 것을 표현하는 -만 result리스트에 넣어주었습니다.\n",
    "\n",
    "출처: https://chancoding.tistory.com/33"
   ]
  },
  {
   "cell_type": "code",
   "execution_count": null,
   "metadata": {},
   "outputs": [],
   "source": []
  }
 ],
 "metadata": {
  "hide_input": false,
  "kernelspec": {
   "display_name": "Python 3",
   "language": "python",
   "name": "python3"
  },
  "language_info": {
   "codemirror_mode": {
    "name": "ipython",
    "version": 3
   },
   "file_extension": ".py",
   "mimetype": "text/x-python",
   "name": "python",
   "nbconvert_exporter": "python",
   "pygments_lexer": "ipython3",
   "version": "3.7.7"
  },
  "toc": {
   "base_numbering": 1,
   "nav_menu": {},
   "number_sections": true,
   "sideBar": true,
   "skip_h1_title": false,
   "title_cell": "Table of Contents",
   "title_sidebar": "Contents",
   "toc_cell": false,
   "toc_position": {},
   "toc_section_display": true,
   "toc_window_display": false
  }
 },
 "nbformat": 4,
 "nbformat_minor": 4
}
