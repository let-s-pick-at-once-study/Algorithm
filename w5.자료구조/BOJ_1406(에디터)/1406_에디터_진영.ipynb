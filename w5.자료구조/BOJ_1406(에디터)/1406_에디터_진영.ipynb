{
 "cells": [
  {
   "cell_type": "markdown",
   "metadata": {},
   "source": [
    "# 문제\n",
    "한 줄로 된 간단한 에디터를 구현하려고 한다. 이 편집기는 영어 소문자만을 기록할 수 있는 편집기로, 최대 600,000글자까지 입력할 수 있다.\n",
    "\n",
    "이 편집기에는 '커서'라는 것이 있는데, 커서는 문장의 맨 앞(첫 번째 문자의 왼쪽), 문장의 맨 뒤(마지막 문자의 오른쪽), 또는 문장 중간 임의의 곳(모든 연속된 두 문자 사이)에 위치할 수 있다. <br>\n",
    "즉 길이가 L인 문자열이 현재 편집기에 입력되어 있으면, 커서가 위치할 수 있는 곳은 L+1가지 경우가 있다.\n",
    "\n",
    "이 편집기가 지원하는 명령어는 다음과 같다.\n",
    "\n",
    "L: 커서를 왼쪽으로 한 칸 옮김 (커서가 문장의 맨 앞이면 무시됨)<br>\n",
    "D: 커서를 오른쪽으로 한 칸 옮김 (커서가 문장의 맨 뒤이면 무시됨)<br>\n",
    "B: 커서 왼쪽에 있는 문자를 삭제함 (커서가 문장의 맨 앞이면 무시됨)<br>\n",
    "삭제로 인해 커서는 한 칸 왼쪽으로 이동한 것처럼 나타나지만, 실제로 커서의 오른쪽에 있던 문자는 그대로임<br>\n",
    "P x: x라는 문자를 커서 왼쪽에 추가함<br>\n",
    "초기에 편집기에 입력되어 있는 문자열이 주어지고, 그 이후 입력한 명령어가 차례로 주어졌을 때, 모든 명령어를 수행하고 난 후 편집기에 입력되어 있는 문자열을 구하는 프로그램을 작성하시오.<br>\n",
    "단, 명령어가 수행되기 전에 커서는 문장의 맨 뒤에 위치하고 있다고 한다.\n",
    "\n",
    "## 입력\n",
    "첫째 줄에는 초기에 편집기에 입력되어 있는 문자열이 주어진다. <br>\n",
    "이 문자열은 길이가 N이고, 영어 소문자로만 이루어져 있으며, 길이는 100,000을 넘지 않는다. <br>\n",
    "둘째 줄에는 입력할 명령어의 개수를 나타내는 정수 M(1 ≤ M ≤ 500,000)이 주어진다. <br>\n",
    "셋째 줄부터 M개의 줄에 걸쳐 입력할 명령어가 순서대로 주어진다. <br>\n",
    "명령어는 위의 네 가지 중 하나의 형태로만 주어진다.\n",
    "\n",
    "## 출력\n",
    "첫째 줄에 모든 명령어를 수행하고 난 후 편집기에 입력되어 있는 문자열을 출력한다.\n",
    "\n",
    "### 예제 입력 1 \n",
    "abcd<br>\n",
    "3<br>\n",
    "P x<br>\n",
    "L<br>\n",
    "P y<br>\n",
    "### 예제 출력 1 \n",
    "abcdyx<br>\n",
    "\n",
    "### 예제 입력 2 \n",
    "abc<br>\n",
    "9<br>\n",
    "L<br>\n",
    "L<br>\n",
    "L<br>\n",
    "L<br>\n",
    "L<br>\n",
    "P x<br>\n",
    "L<br>\n",
    "B<br>\n",
    "P y<br>\n",
    "### 예제 출력 2 \n",
    "yxabc<br>\n",
    "### 예제 입력 3 \n",
    "dmih<br>\n",
    "11<br>\n",
    "B<br>\n",
    "B<br>\n",
    "P x<br>\n",
    "L<br>\n",
    "B<br>\n",
    "B<br>\n",
    "B<br>\n",
    "P y<br>\n",
    "D<br>\n",
    "D<br>\n",
    "P z<br>"
   ]
  },
  {
   "cell_type": "code",
   "execution_count": 44,
   "metadata": {},
   "outputs": [
    {
     "name": "stdout",
     "output_type": "stream",
     "text": [
      "abcd\n",
      "3\n",
      "P x\n",
      "D\n",
      "B\n",
      "abcd\n"
     ]
    }
   ],
   "source": [
    "s=list(input().strip())\n",
    "cursor=len(s)\n",
    "n=int(input())\n",
    "for _ in range(n):\n",
    "    order=input().split()\n",
    "    if order[0]==\"L\":\n",
    "        if cursor!=0:\n",
    "            cursor=-1\n",
    "    elif order[0]==\"D\":\n",
    "        if cursor!=len(s):\n",
    "            cursor+=1\n",
    "    elif order[0]==\"B\":\n",
    "        if cursor!=0:\n",
    "            del s[cursor-1]\n",
    "            cursor-=1\n",
    "    elif order[0]==\"P\":\n",
    "        s.insert(cursor,order[1])\n",
    "        cursor+=1\n",
    "print(\"\".join(s))\n",
    "            \n",
    "#출처 https://namhandong.tistory.com/113"
   ]
  },
  {
   "cell_type": "markdown",
   "metadata": {},
   "source": [
    "## 시간초과 해결\n",
    "insert와 del보다 append와 pop이 빠르다.<br>\n",
    "s1와 s2 두 리스트를 만든다. 커서의 위치는 항상 s1젤 마지막에 있다고 생각하면 쉽다."
   ]
  },
  {
   "cell_type": "code",
   "execution_count": 60,
   "metadata": {},
   "outputs": [
    {
     "name": "stdout",
     "output_type": "stream",
     "text": [
      "abc\n",
      "9\n",
      "L\n",
      "L\n",
      "L\n",
      "L\n",
      "L\n",
      "P x\n",
      "L\n",
      "B\n",
      "P y\n",
      "yxabc\n"
     ]
    }
   ],
   "source": [
    "s1=list(input().strip())\n",
    "s2=[]\n",
    "cursor=len(s1)\n",
    "n=int(input())\n",
    "for _ in range(n):\n",
    "    order=input().split()\n",
    "    if order[0]==\"P\":\n",
    "        s1.append(order[1])\n",
    "    elif order[0]==\"B\" and len(s1)!=0:\n",
    "        s1.pop()\n",
    "    elif order[0]==\"L\" and s1!=[]:\n",
    "        s2.append(s1.pop())\n",
    "    elif order[0]==\"D\" and s2 !=[]:\n",
    "        s1.append(s2.pop())\n",
    "print(\"\".join(s1+list(reversed(s2))))\n",
    "\n",
    "#sys.stdin.readline()을 못써서 시간 초과됨."
   ]
  },
  {
   "cell_type": "code",
   "execution_count": 57,
   "metadata": {},
   "outputs": [
    {
     "name": "stdout",
     "output_type": "stream",
     "text": [
      "['c', 'b', 'a', 'X']\n"
     ]
    }
   ],
   "source": [
    "import sys\n",
    "s1=list(sys.stdin.readline().strip())\n",
    "s2=[]\n",
    "cursor=len(s1)\n",
    "n=int(sys.stdin.readline())\n",
    "for _ in range(n):\n",
    "    order=sys.stdin.readline().split()\n",
    "    if order[0]==\"P\":\n",
    "        s1.append(order[1])\n",
    "    elif order[0]==\"B\" and len(s1)!=0:\n",
    "        s1.pop()\n",
    "    elif order[0]==\"L\" and s1!=[]:\n",
    "        s2.append(s1.pop())\n",
    "    elif order[0]==\"D\" and s2 !=[]:\n",
    "        s1.append(s2.pop())\n",
    "print(\"\".join(s1+list(reversed(s2))))\n",
    "\n",
    "#380ms"
   ]
  }
 ],
 "metadata": {
  "kernelspec": {
   "display_name": "Python 3",
   "language": "python",
   "name": "python3"
  },
  "language_info": {
   "codemirror_mode": {
    "name": "ipython",
    "version": 3
   },
   "file_extension": ".py",
   "mimetype": "text/x-python",
   "name": "python",
   "nbconvert_exporter": "python",
   "pygments_lexer": "ipython3",
   "version": "3.8.5"
  }
 },
 "nbformat": 4,
 "nbformat_minor": 4
}
