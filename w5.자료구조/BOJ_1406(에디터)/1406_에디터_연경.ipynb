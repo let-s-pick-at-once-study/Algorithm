{
 "cells": [
  {
   "cell_type": "markdown",
   "metadata": {},
   "source": [
    "import sys\n",
    "\n",
    "left_stack = list(sys.stdin.readline()[:-1])\n",
    "right_stack = list()\n",
    "testcase = int(sys.stdin.readline())\n",
    "\n",
    "for _ in range(testcase):\n",
    "    cmd = sys.stdin.readline()\n",
    "    if cmd[0] == 'L' and left_stack:\n",
    "        right_stack.append(left_stack.pop())\n",
    "    elif cmd[0] == 'D' and right_stack:\n",
    "        left_stack.append(right_stack.pop())\n",
    "    elif cmd[0] == 'B' and left_stack:\n",
    "        left_stack.pop()\n",
    "    elif cmd[0] == 'P':\n",
    "        left_stack.append(cmd[2])\n",
    "        \n",
    "sys.stdout.write(\".join(left_stack + right_stack[::-1]\")  ##list[::-1] 하면 뒤에서부터 읽어옴\n",
    "\n",
    "#https://suri78.tistory.com/112"
   ]
  },
  {
   "cell_type": "markdown",
   "metadata": {},
   "source": [
    "import sys from collections \n",
    "import deque \n",
    "\n",
    "class Editor: \n",
    "    def __init__(self, input_text): \n",
    "        self.left_deque = deque(input_text) \n",
    "        self.right_deque = deque() \n",
    "    def move_cursor_left(self): \n",
    "        if self.left_deque: \n",
    "            self.right_deque.appendleft(self.left_deque.pop()) \n",
    "    def move_cursor_right(self): \n",
    "        if self.right_deque: self.left_deque.append(self.right_deque.popleft()) \n",
    "    def delete_left_character(self): \n",
    "        if self.left_deque: self.left_deque.pop()\n",
    "    def add_character_to_left(self, character2add): \n",
    "        self.left_deque.append(character2add)\n",
    "        \n",
    "editor = Editor(sys.stdin.readline().strip()) \n",
    "N = int(sys.stdin.readline().strip()) \n",
    "\n",
    "while N: \n",
    "    command = sys.stdin.readline().strip() \n",
    "    if command[0] == 'L': editor.move_cursor_left() \n",
    "    elif command[0] == 'D': editor.move_cursor_right() \n",
    "    elif command[0] == 'B': editor.delete_left_character() \n",
    "    else: editor.add_character_to_left(command[2]) \n",
    "    N -= 1 \n",
    "    \n",
    "print(''.join(editor.left_deque) + ''.join(editor.right_deque))\n",
    "\n",
    "\n",
    "#출처: https://somjang.tistory.com/entry/BaekJoon-1406번-에디터-Python [솜씨좋은장씨]"
   ]
  },
  {
   "cell_type": "code",
   "execution_count": null,
   "metadata": {},
   "outputs": [],
   "source": [
    "import sys\n",
    "\n",
    "if __name__ == '__main__':\n",
    "    stackLeft = list(sys.stdin.readline().rstrip())\n",
    "    stackRight = list()\n",
    "    \n",
    "    n = int(sys.stdin.readline().rstrip())\n",
    "    for i in range(0, n):\n",
    "        command = list(sys.stdin.readline().split())\n",
    "        if command[0] == 'L' and stackLeft:   #P x 이면 command는 P, 추가할 문자는 x\n",
    "            stackRight.append(stackLeft.pop())\n",
    "        elif command[0] == 'D' and stackRight:\n",
    "            stackLeft.append(stackRight.pop())\n",
    "        elif command[0] == 'B' and stackLeft:\n",
    "            stackLeft.pop()\n",
    "        elif command[0] == 'P':\n",
    "            stackLeft.append(command[1])\n",
    "\n",
    "    print(''.join(stackLeft) + ''.join(list(reversed(stackRight))))\n",
    "    \n",
    "#https://developer-doreen.tistory.com/29"
   ]
  }
 ],
 "metadata": {
  "kernelspec": {
   "display_name": "Python 3",
   "language": "python",
   "name": "python3"
  },
  "language_info": {
   "codemirror_mode": {
    "name": "ipython",
    "version": 3
   },
   "file_extension": ".py",
   "mimetype": "text/x-python",
   "name": "python",
   "nbconvert_exporter": "python",
   "pygments_lexer": "ipython3",
   "version": "3.6.5"
  }
 },
 "nbformat": 4,
 "nbformat_minor": 2
}
