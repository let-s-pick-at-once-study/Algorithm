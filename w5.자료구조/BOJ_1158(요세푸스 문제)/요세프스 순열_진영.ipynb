{
 "cells": [
  {
   "cell_type": "code",
   "execution_count": 1,
   "metadata": {},
   "outputs": [],
   "source": [
    "import sys"
   ]
  },
  {
   "cell_type": "code",
   "execution_count": 1,
   "metadata": {},
   "outputs": [
    {
     "name": "stdout",
     "output_type": "stream",
     "text": [
      "7 3\n",
      "<3, 6, 2, 7, 5, 1, 4>\n"
     ]
    }
   ],
   "source": [
    "#최종.\n",
    "\n",
    "op=list(input().split())\n",
    "n=int(op[0])\n",
    "k=int(op[1])\n",
    "tnsduf=[]\n",
    "num_list=list(range(1,n+1))\n",
    "popnum=0\n",
    "while len(num_list)>0:\n",
    "    popnum=(popnum+(k-1))% len(num_list)\n",
    "    x=num_list.pop(popnum)\n",
    "    tnsduf.append(str(x))\n",
    "    \n",
    "print(\"<%s>\" %(\", \".join(tnsduf))) #print 결과가 <3, 6, 2, 7 > 이런식으로 나오게 하려고 사용함.\n",
    "\n"
   ]
  }
 ],
 "metadata": {
  "kernelspec": {
   "display_name": "Python 3",
   "language": "python",
   "name": "python3"
  },
  "language_info": {
   "codemirror_mode": {
    "name": "ipython",
    "version": 3
   },
   "file_extension": ".py",
   "mimetype": "text/x-python",
   "name": "python",
   "nbconvert_exporter": "python",
   "pygments_lexer": "ipython3",
   "version": "3.8.5"
  }
 },
 "nbformat": 4,
 "nbformat_minor": 4
}
