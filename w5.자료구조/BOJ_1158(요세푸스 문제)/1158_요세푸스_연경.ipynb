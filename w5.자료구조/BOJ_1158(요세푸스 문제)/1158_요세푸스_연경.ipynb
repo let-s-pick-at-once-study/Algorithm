{
 "cells": [
  {
   "cell_type": "code",
   "execution_count": 1,
   "metadata": {},
   "outputs": [
    {
     "name": "stdout",
     "output_type": "stream",
     "text": [
      "7 3\n",
      "<3, 6, 2, 7, 5, 1, 4>\n"
     ]
    }
   ],
   "source": [
    "N,K = map(int,input().split())\n",
    "arr = [i for i in range(1,N+1)]    # 맨 처음에 원에 앉아있는 사람들\n",
    "\n",
    "answer = []   # 제거된 사람들을 넣을 배열\n",
    "num = 0  # 제거될 사람의 인덱스 번호\n",
    "\n",
    "for t in range(N):\n",
    "    num += K-1  \n",
    "    if num >= len(arr):   # 한바퀴를 돌고 그다음으로 돌아올때를 대비해 값을 나머지로 바꿈  \n",
    "        num = num%len(arr)\n",
    " \n",
    "    answer.append(str(arr.pop(num)))\n",
    "print(\"<\",\", \".join(answer)[:],\">\", sep='')"
   ]
  },
  {
   "cell_type": "markdown",
   "metadata": {},
   "source": [
    "https://infinitt.tistory.com/213"
   ]
  }
 ],
 "metadata": {
  "kernelspec": {
   "display_name": "Python 3",
   "language": "python",
   "name": "python3"
  },
  "language_info": {
   "codemirror_mode": {
    "name": "ipython",
    "version": 3
   },
   "file_extension": ".py",
   "mimetype": "text/x-python",
   "name": "python",
   "nbconvert_exporter": "python",
   "pygments_lexer": "ipython3",
   "version": "3.6.5"
  }
 },
 "nbformat": 4,
 "nbformat_minor": 2
}
