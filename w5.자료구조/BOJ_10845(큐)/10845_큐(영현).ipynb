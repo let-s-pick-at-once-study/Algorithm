{
 "cells": [
  {
   "cell_type": "markdown",
   "metadata": {},
   "source": [
    "# 큐\n",
    "\n",
    "## 문제\n",
    "\n",
    "정수를 저장하는 큐를 구현한 다음, 입력으로 주어지는 명령을 처리하는 프로그램을 작성하시오.\n",
    "\n",
    "명령은 총 여섯 가지이다.\n",
    "\n",
    "- push X: 정수 X를 큐에 넣는 연산이다.\n",
    "- pop: 큐에서 가장 앞에 있는 정수를 빼고, 그 수를 출력한다. 만약 큐에 들어있는 정수가 없는 경우에는 -1을 출력한다.\n",
    "- size: 큐에 들어있는 정수의 개수를 출력한다.\n",
    "- empty: 큐가 비어있으면 1, 아니면 0을 출력한다.\n",
    "- front: 큐의 가장 앞에 있는 정수를 출력한다. 만약 큐에 들어있는 정수가 없는 경우에는 -1을 출력한다.\n",
    "- back: 큐의 가장 뒤에 있는 정수를 출력한다. 만약 큐에 들어있는 정수가 없는 경우에는 -1을 출력한다.\n",
    "\n",
    "## 입력\n",
    "\n",
    "첫째 줄에 주어지는 명령의 수 N (1 ≤ N ≤ 10,000)이 주어진다. 둘째 줄부터 N개의 줄에는 명령이 하나씩 주어진다. 주어지는 정수는 1보다 크거나 같고, 100,000보다 작거나 같다. 문제에 나와있지 않은 명령이 주어지는 경우는 없다.\n",
    "\n",
    "## 출력\n",
    "\n",
    "출력해야하는 명령이 주어질 때마다, 한 줄에 하나씩 출력한다.\n",
    "\n",
    "## 예제 입력 1\n",
    "\n",
    "```\n",
    "15\n",
    "push 1\n",
    "push 2\n",
    "front\n",
    "back\n",
    "size\n",
    "empty\n",
    "pop\n",
    "pop\n",
    "pop\n",
    "size\n",
    "empty\n",
    "pop\n",
    "push 3\n",
    "empty\n",
    "front\n",
    "\n",
    "```\n",
    "\n",
    "## 예제 출력 1\n",
    "\n",
    "```\n",
    "1\n",
    "2\n",
    "2\n",
    "0\n",
    "1\n",
    "2\n",
    "-1\n",
    "0\n",
    "1\n",
    "-1\n",
    "0\n",
    "3\n",
    "```"
   ]
  },
  {
   "cell_type": "code",
   "execution_count": 1,
   "metadata": {
    "ExecuteTime": {
     "end_time": "2021-01-20T11:45:34.027057Z",
     "start_time": "2021-01-20T11:45:29.742868Z"
    }
   },
   "outputs": [
    {
     "name": "stdout",
     "output_type": "stream",
     "text": [
      "push 7\n"
     ]
    },
    {
     "data": {
      "text/plain": [
       "'push'"
      ]
     },
     "execution_count": 1,
     "metadata": {},
     "output_type": "execute_result"
    }
   ],
   "source": [
    "input().split(' ')[0]"
   ]
  },
  {
   "cell_type": "code",
   "execution_count": 5,
   "metadata": {
    "ExecuteTime": {
     "end_time": "2021-01-20T11:58:06.066796Z",
     "start_time": "2021-01-20T11:58:06.048288Z"
    }
   },
   "outputs": [
    {
     "ename": "SyntaxError",
     "evalue": "invalid syntax (<ipython-input-5-e4c992abafc9>, line 3)",
     "output_type": "error",
     "traceback": [
      "\u001b[1;36m  File \u001b[1;32m\"<ipython-input-5-e4c992abafc9>\"\u001b[1;36m, line \u001b[1;32m3\u001b[0m\n\u001b[1;33m    global q = []\u001b[0m\n\u001b[1;37m             ^\u001b[0m\n\u001b[1;31mSyntaxError\u001b[0m\u001b[1;31m:\u001b[0m invalid syntax\n"
     ]
    }
   ],
   "source": [
    "def queue(str, q):\n",
    "    fn = str.split(' ')[0]\n",
    "    if fn == 'push':\n",
    "        num = int(str.split(' ')[1])\n",
    "        q.append(num)\n",
    "        print(num)\n",
    "    elif fn == 'pop':\n",
    "        if len(q)==0:\n",
    "            print(-1)\n",
    "        else:\n",
    "            return q.pop(0)\n",
    "    elif fn == 'size':\n",
    "        print(len(q))\n",
    "    elif fn == 'empty':\n",
    "        if len(q)==0:\n",
    "            return 1\n",
    "        else:\n",
    "            return 0\n",
    "    elif fn == 'front':\n",
    "        if len(q)==0:\n",
    "            return -1\n",
    "        else:\n",
    "            return q[0]\n",
    "    elif fn == 'back':\n",
    "        if len(q)==0:\n",
    "            return -1\n",
    "        else:\n",
    "            return q[-1]\n",
    "        \n",
    "N = int(input())\n",
    "for i in range(N):\n",
    "    s_l = input()\n",
    "    queue(s_l, q)"
   ]
  },
  {
   "cell_type": "code",
   "execution_count": null,
   "metadata": {
    "ExecuteTime": {
     "end_time": "2021-01-20T12:04:22.056609Z",
     "start_time": "2021-01-20T12:01:43.250Z"
    }
   },
   "outputs": [],
   "source": [
    "import sys\n",
    "\n",
    "class Queue:\n",
    "    def __init__(self):\n",
    "        self.queue = []\n",
    " \n",
    "    def push(self, num):\n",
    "        self.queue.append(num)\n",
    "        return num\n",
    " \n",
    "    def pop(self):\n",
    "        return self.queue.pop(0) if len(self.queue) != 0 else -1\n",
    " \n",
    "    def size(self):\n",
    "        return len(self.queue)\n",
    " \n",
    "    def empty(self):\n",
    "        return 1 if self.size() == 0 else 0\n",
    " \n",
    "    def front(self):\n",
    "        return self.queue[0] if self.size() != 0 else -1\n",
    " \n",
    "    def back(self):\n",
    "        return self.queue[-1] if self.size() != 0 else -1\n",
    "\n",
    "num = int(sys.stdin.readline())\n",
    "queue = Queue()\n",
    "for _ in range(num):\n",
    "    tokens = sys.stdin.readline().split()\n",
    " \n",
    "    if tokens[0] == \"push\":\n",
    "        queue.push(tokens[1])\n",
    "    elif tokens[0] == \"pop\":\n",
    "        print(queue.pop())\n",
    "    elif tokens[0] == \"size\":\n",
    "        print(queue.size())\n",
    "    elif tokens[0] == \"empty\":\n",
    "        print(queue.empty())\n",
    "    elif tokens[0] == \"front\":\n",
    "        print(queue.front())\n",
    "    elif tokens[0] == \"back\":\n",
    "        print(queue.back())\n",
    "    else:\n",
    "        print(\"it's not acceptable operator\")\n",
    " "
   ]
  },
  {
   "cell_type": "code",
   "execution_count": null,
   "metadata": {},
   "outputs": [],
   "source": []
  }
 ],
 "metadata": {
  "hide_input": false,
  "kernelspec": {
   "display_name": "Python 3",
   "language": "python",
   "name": "python3"
  },
  "language_info": {
   "codemirror_mode": {
    "name": "ipython",
    "version": 3
   },
   "file_extension": ".py",
   "mimetype": "text/x-python",
   "name": "python",
   "nbconvert_exporter": "python",
   "pygments_lexer": "ipython3",
   "version": "3.7.7"
  },
  "toc": {
   "base_numbering": 1,
   "nav_menu": {},
   "number_sections": true,
   "sideBar": true,
   "skip_h1_title": false,
   "title_cell": "Table of Contents",
   "title_sidebar": "Contents",
   "toc_cell": false,
   "toc_position": {},
   "toc_section_display": true,
   "toc_window_display": false
  }
 },
 "nbformat": 4,
 "nbformat_minor": 4
}
