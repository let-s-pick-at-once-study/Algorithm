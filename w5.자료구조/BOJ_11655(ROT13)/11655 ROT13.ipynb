{
 "cells": [
  {
   "cell_type": "markdown",
   "metadata": {},
   "source": [
    "# 문제\n",
    "ROT13은 카이사르 암호의 일종으로 영어 알파벳을 13글자씩 밀어서 만든다.\n",
    "\n",
    "예를 들어, \"Baekjoon Online Judge\"를 ROT13으로 암호화하면 \"Onrxwbba Bayvar Whqtr\"가 된다.<br>\n",
    "ROT13으로 암호화한 내용을 원래 내용으로 바꾸려면 암호화한 문자열을 다시 ROT13하면 된다.  \n",
    "앞에서 암호화한 문자열 \"Onrxwbba Bayvar Whqtr\"에 다시 ROT13을 적용하면 \"Baekjoon Online Judge\"가 된다.\n",
    "\n",
    "ROT13은 알파벳 대문자와 소문자에만 적용할 수 있다.  \n",
    "알파벳이 아닌 글자는 원래 글자 그대로 남아 있어야 한다.  \n",
    "예를 들어, \"One is 1\"을 ROT13으로 암호화하면 \"Bar vf 1\"이 된다.\n",
    "\n",
    "문자열이 주어졌을 때, \"ROT13\"으로 암호화한 다음 출력하는 프로그램을 작성하시오.\n",
    "\n",
    "## 입력\n",
    "첫째 줄에 알파벳 대문자, 소문자, 공백, 숫자로만 이루어진 문자열 S가 주어진다. S의 길이는 100을 넘지 않는다.\n",
    "\n",
    "## 출력\n",
    "첫째 줄에 S를 ROT13으로 암호화한 내용을 출력한다.\n",
    "\n",
    "### 예제 입력 1 \n",
    "Baekjoon Online Judge\n",
    "### 예제 출력 1 \n",
    "Onrxwbba Bayvar Whqtr\n",
    "### 예제 입력 2 \n",
    "One is 1\n",
    "### 예제 출력 2 \n",
    "Bar vf 1"
   ]
  },
  {
   "cell_type": "markdown",
   "metadata": {},
   "source": [
    "### 아이디어\n",
    "아스키코드에 따라 대응하는 숫자 변환<br>\n",
    "소문자는 97 부터 123 <br>\n",
    "대문자는 65 부터 91 <br>\n",
    "따라서 문자를 대응하는 숫자로 바꾸고 해당 숫자 +13을 한 후 다시 문자로 바꾼다.<br>\n",
    "+13을 했을때 범위를 벗어나는 경우, 해당값에서 -26을 해서 다시 맨 앞문자로 올 수 있게 했다.<br>\n",
    "대문자, 소문자, 공백, 그외 문자로 나눠서 함."
   ]
  },
  {
   "cell_type": "code",
   "execution_count": 17,
   "metadata": {},
   "outputs": [
    {
     "name": "stdout",
     "output_type": "stream",
     "text": [
      "Baekjoon Online Judge\n",
      "Onrxwbba Bayvar Whqtr\n"
     ]
    }
   ],
   "source": [
    "ans=''\n",
    "word=''\n",
    "for s in input():\n",
    "    if ord(s) in range(97,123): #소문자인 경우\n",
    "        k=ord(s)+13\n",
    "        if k>122:\n",
    "            k=k-26\n",
    "        ans=ans+chr(k)\n",
    "    elif ord(s) in range(65,91):#대문자인 경우\n",
    "        k=ord(s)+13\n",
    "        if k>90:\n",
    "            k=k-26\n",
    "        ans=ans+chr(k)\n",
    "        \n",
    "    elif s==' ':\n",
    "        ans=ans+' '\n",
    "    else:\n",
    "        word=s\n",
    "        ans=ans+word\n",
    "        word=''\n",
    "print(ans)\n",
    "#68ms"
   ]
  },
  {
   "cell_type": "code",
   "execution_count": 20,
   "metadata": {},
   "outputs": [
    {
     "name": "stdout",
     "output_type": "stream",
     "text": [
      "97\n"
     ]
    }
   ],
   "source": [
    "print(ord('a'))"
   ]
  },
  {
   "cell_type": "code",
   "execution_count": 44,
   "metadata": {},
   "outputs": [
    {
     "name": "stdout",
     "output_type": "stream",
     "text": [
      "One is 1\n",
      "Bar vf 1\n"
     ]
    }
   ],
   "source": [
    "#수정\n",
    "ans=''\n",
    "for s in input():\n",
    "    if ord(s) in range(97,123): #소문자인 경우\n",
    "        k=ord(s)+13\n",
    "        if k>122:\n",
    "            k=k-26\n",
    "        ans=ans+chr(k)\n",
    "    elif ord(s) in range(65,91):#대문자인 경우\n",
    "        k=ord(s)+13\n",
    "        if k>90:\n",
    "            k=k-26\n",
    "        ans=ans+chr(k)\n",
    "        \n",
    "    elif s==' ':\n",
    "        ans=ans+' '\n",
    "    else:\n",
    "        ans=ans+s\n",
    "print(ans)\n",
    "#64ms"
   ]
  }
 ],
 "metadata": {
  "kernelspec": {
   "display_name": "Python 3",
   "language": "python",
   "name": "python3"
  },
  "language_info": {
   "codemirror_mode": {
    "name": "ipython",
    "version": 3
   },
   "file_extension": ".py",
   "mimetype": "text/x-python",
   "name": "python",
   "nbconvert_exporter": "python",
   "pygments_lexer": "ipython3",
   "version": "3.8.5"
  }
 },
 "nbformat": 4,
 "nbformat_minor": 4
}
