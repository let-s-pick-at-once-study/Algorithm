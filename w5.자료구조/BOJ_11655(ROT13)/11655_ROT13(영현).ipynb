{
 "cells": [
  {
   "cell_type": "markdown",
   "metadata": {},
   "source": [
    "# ROT13\n",
    "\n",
    "## 문제\n",
    "\n",
    "ROT13은 카이사르 암호의 일종으로 영어 알파벳을 13글자씩 밀어서 만든다.\n",
    "\n",
    "예를 들어, \"Baekjoon Online Judge\"를 ROT13으로 암호화하면 \"Onrxwbba Bayvar Whqtr\"가 된다. ROT13으로 암호화한 내용을 원래 내용으로 바꾸려면 암호화한 문자열을 다시 ROT13하면 된다. 앞에서 암호화한 문자열 \"Onrxwbba Bayvar Whqtr\"에 다시 ROT13을 적용하면 \"Baekjoon Online Judge\"가 된다.\n",
    "\n",
    "ROT13은 알파벳 대문자와 소문자에만 적용할 수 있다. 알파벳이 아닌 글자는 원래 글자 그대로 남아 있어야 한다. 예를 들어, \"One is 1\"을 ROT13으로 암호화하면 \"Bar vf 1\"이 된다.\n",
    "\n",
    "문자열이 주어졌을 때, \"ROT13\"으로 암호화한 다음 출력하는 프로그램을 작성하시오.\n",
    "\n",
    "## 입력\n",
    "\n",
    "첫째 줄에 알파벳 대문자, 소문자, 공백, 숫자로만 이루어진 문자열 S가 주어진다. S의 길이는 100을 넘지 않는다.\n",
    "\n",
    "## 출력\n",
    "\n",
    "첫째 줄에 S를 ROT13으로 암호화한 내용을 출력한다.\n",
    "\n",
    "## 예제 입력 1\n",
    "\n",
    "```\n",
    "Baekjoon Online Judge\n",
    "\n",
    "```\n",
    "\n",
    "## 예제 출력 1\n",
    "\n",
    "```\n",
    "Onrxwbba Bayvar Whqtr\n",
    "\n",
    "```\n",
    "\n",
    "## 예제 입력 2\n",
    "\n",
    "```\n",
    "One is 1\n",
    "\n",
    "```\n",
    "\n",
    "## 예제 출력 2\n",
    "\n",
    "```\n",
    "Bar vf 1\n",
    "```"
   ]
  },
  {
   "cell_type": "markdown",
   "metadata": {},
   "source": [
    "# Find()랑 Index() 차이 찾아보기!!"
   ]
  },
  {
   "cell_type": "code",
   "execution_count": 47,
   "metadata": {
    "ExecuteTime": {
     "end_time": "2021-01-30T13:41:26.595823Z",
     "start_time": "2021-01-30T13:41:24.118826Z"
    }
   },
   "outputs": [
    {
     "name": "stdout",
     "output_type": "stream",
     "text": [
      "One is 1\n",
      "Bar vf 1\n"
     ]
    }
   ],
   "source": [
    "alph = 'abcdefghijklmnopqrstuvwxyz'\n",
    "s = input()\n",
    "ans = []\n",
    "for i in s:\n",
    "    if i == ' ' or i.isdigit():\n",
    "        ans.append(i)\n",
    "    elif i.isupper():\n",
    "        idx = (alph.index(i.lower()) +13)# %26\n",
    "        if idx > 25:\n",
    "            idx %= 25 +1\n",
    "        ans.append(alph[idx].upper())\n",
    "    else:\n",
    "        idx = (alph.index(i) +13) #%26\n",
    "        if idx > 25:\n",
    "            idx %= 25 +1\n",
    "        ans.append(alph[idx])\n",
    "        \n",
    "print(\"\".join(ans))\n",
    "        "
   ]
  },
  {
   "cell_type": "code",
   "execution_count": 37,
   "metadata": {
    "ExecuteTime": {
     "end_time": "2021-01-30T11:59:05.357774Z",
     "start_time": "2021-01-30T11:59:05.349287Z"
    }
   },
   "outputs": [
    {
     "data": {
      "text/plain": [
       "1"
      ]
     },
     "execution_count": 37,
     "metadata": {},
     "output_type": "execute_result"
    }
   ],
   "source": [
    "25%25+1"
   ]
  },
  {
   "cell_type": "code",
   "execution_count": 29,
   "metadata": {
    "ExecuteTime": {
     "end_time": "2021-01-30T11:53:25.541179Z",
     "start_time": "2021-01-30T11:53:25.531244Z"
    }
   },
   "outputs": [
    {
     "data": {
      "text/plain": [
       "14"
      ]
     },
     "execution_count": 29,
     "metadata": {},
     "output_type": "execute_result"
    }
   ],
   "source": [
    "(alph.find('b') + 13)%25"
   ]
  },
  {
   "cell_type": "code",
   "execution_count": 30,
   "metadata": {
    "ExecuteTime": {
     "end_time": "2021-01-30T11:53:29.270289Z",
     "start_time": "2021-01-30T11:53:29.261330Z"
    }
   },
   "outputs": [
    {
     "data": {
      "text/plain": [
       "'o'"
      ]
     },
     "execution_count": 30,
     "metadata": {},
     "output_type": "execute_result"
    }
   ],
   "source": [
    "alph[14]"
   ]
  },
  {
   "cell_type": "code",
   "execution_count": 22,
   "metadata": {
    "ExecuteTime": {
     "end_time": "2021-01-30T11:51:29.615559Z",
     "start_time": "2021-01-30T11:51:29.606560Z"
    }
   },
   "outputs": [
    {
     "data": {
      "text/plain": [
       "14"
      ]
     },
     "execution_count": 22,
     "metadata": {},
     "output_type": "execute_result"
    }
   ],
   "source": [
    "14%25"
   ]
  },
  {
   "cell_type": "code",
   "execution_count": 33,
   "metadata": {
    "ExecuteTime": {
     "end_time": "2021-01-30T11:54:29.451269Z",
     "start_time": "2021-01-30T11:54:29.442208Z"
    }
   },
   "outputs": [
    {
     "data": {
      "text/plain": [
       "1"
      ]
     },
     "execution_count": 33,
     "metadata": {},
     "output_type": "execute_result"
    }
   ],
   "source": [
    "27%26\n"
   ]
  },
  {
   "cell_type": "code",
   "execution_count": 35,
   "metadata": {
    "ExecuteTime": {
     "end_time": "2021-01-30T11:55:58.157129Z",
     "start_time": "2021-01-30T11:55:58.148148Z"
    }
   },
   "outputs": [
    {
     "data": {
      "text/plain": [
       "26"
      ]
     },
     "execution_count": 35,
     "metadata": {},
     "output_type": "execute_result"
    }
   ],
   "source": [
    "len(alph)"
   ]
  },
  {
   "cell_type": "code",
   "execution_count": null,
   "metadata": {},
   "outputs": [],
   "source": [
    "o 인 경우, 14\n",
    "b는 1"
   ]
  }
 ],
 "metadata": {
  "hide_input": false,
  "kernelspec": {
   "display_name": "Python 3",
   "language": "python",
   "name": "python3"
  },
  "language_info": {
   "codemirror_mode": {
    "name": "ipython",
    "version": 3
   },
   "file_extension": ".py",
   "mimetype": "text/x-python",
   "name": "python",
   "nbconvert_exporter": "python",
   "pygments_lexer": "ipython3",
   "version": "3.7.7"
  },
  "toc": {
   "base_numbering": 1,
   "nav_menu": {},
   "number_sections": true,
   "sideBar": true,
   "skip_h1_title": false,
   "title_cell": "Table of Contents",
   "title_sidebar": "Contents",
   "toc_cell": false,
   "toc_position": {},
   "toc_section_display": true,
   "toc_window_display": false
  }
 },
 "nbformat": 4,
 "nbformat_minor": 4
}
