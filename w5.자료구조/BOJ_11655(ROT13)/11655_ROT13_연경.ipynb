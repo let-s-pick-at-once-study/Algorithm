{
 "cells": [
  {
   "cell_type": "code",
   "execution_count": 3,
   "metadata": {},
   "outputs": [
    {
     "name": "stdout",
     "output_type": "stream",
     "text": [
      "Baekjoon Online Judge\n",
      "Onrxwbba Bayvar Xhqtr\n"
     ]
    }
   ],
   "source": [
    "from sys import stdin\n",
    "\n",
    "upper_case = ['A', 'B', 'C', 'D', 'E', 'F', 'F', 'H', 'I', 'J', 'K', 'L', 'M', 'N', 'O', 'P'\n",
    "             'Q', 'R', 'S', 'T', 'U', 'V', 'W', 'X', 'Y', 'Z']\n",
    "\n",
    "lower_case = ['a', 'b', 'c', 'd', 'e', 'f', 'g', 'h', 'i', 'j', 'k', 'l', 'm', 'n', 'o', 'p',\n",
    "             'q', 'r', 's', 't', 'u', 'v', 'w', 'x', 'y', 'z']\n",
    "\n",
    "arr = list(input())\n",
    "\n",
    "for i in range(len(arr)):\n",
    "    if arr[i] in upper_case:\n",
    "        idx = upper_case.index(arr[i])\n",
    "        idx += 13\n",
    "        if idx > 25:\n",
    "            idx %= 25 + 1\n",
    "        arr[i] = upper_case[idx]\n",
    "    elif arr[i] in lower_case:\n",
    "        idx = lower_case.index(arr[i])\n",
    "        idx += 13\n",
    "        if idx > 25:\n",
    "            idx %= 25 +1\n",
    "        arr[i] = lower_case[idx]\n",
    "        \n",
    "print(\"\".join(arr))"
   ]
  },
  {
   "cell_type": "code",
   "execution_count": null,
   "metadata": {},
   "outputs": [],
   "source": [
    "upper_case = [org(i) for i in range(97, )]\n",
    "#아스키 코드를 활용해서 upper_case를 한번에 넣을 수 있는 방법\n",
    "#'a' : 97"
   ]
  },
  {
   "cell_type": "markdown",
   "metadata": {},
   "source": [
    "https://duwjdtn11.tistory.com/485"
   ]
  }
 ],
 "metadata": {
  "kernelspec": {
   "display_name": "Python 3",
   "language": "python",
   "name": "python3"
  },
  "language_info": {
   "codemirror_mode": {
    "name": "ipython",
    "version": 3
   },
   "file_extension": ".py",
   "mimetype": "text/x-python",
   "name": "python",
   "nbconvert_exporter": "python",
   "pygments_lexer": "ipython3",
   "version": "3.6.5"
  }
 },
 "nbformat": 4,
 "nbformat_minor": 2
}
