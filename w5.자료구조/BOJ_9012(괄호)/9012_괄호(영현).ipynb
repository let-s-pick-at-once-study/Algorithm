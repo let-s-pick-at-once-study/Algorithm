{
 "cells": [
  {
   "cell_type": "markdown",
   "metadata": {},
   "source": [
    "# 괄호\n",
    "\n",
    "## 문제\n",
    "\n",
    "괄호 문자열(Parenthesis String, PS)은 두 개의 괄호 기호인 ‘(’ 와 ‘)’ 만으로 구성되어 있는 문자열이다. 그 중에서 괄호의 모양이 바르게 구성된 문자열을 올바른 괄호 문자열(Valid PS, VPS)이라고 부른다. 한 쌍의 괄호 기호로 된 “( )” 문자열은 기본 VPS 이라고 부른다. 만일 x 가 VPS 라면 이것을 하나의 괄호에 넣은 새로운 문자열 “(x)”도 VPS 가 된다. 그리고 두 VPS x 와 y를 접합(concatenation)시킨 새로운 문자열 xy도 VPS 가 된다. 예를 들어 “(())()”와 “((()))” 는 VPS 이지만 “(()(”, “(())()))” , 그리고 “(()” 는 모두 VPS 가 아닌 문자열이다.\n",
    "\n",
    "여러분은 입력으로 주어진 괄호 문자열이 VPS 인지 아닌지를 판단해서 그 결과를 YES 와 NO 로 나타내어야 한다.\n",
    "\n",
    "## 입력\n",
    "\n",
    "입력 데이터는 표준 입력을 사용한다. 입력은 T개의 테스트 데이터로 주어진다. 입력의 첫 번째 줄에는 입력 데이터의 수를 나타내는 정수 T가 주어진다. 각 테스트 데이터의 첫째 줄에는 괄호 문자열이 한 줄에 주어진다. 하나의 괄호 문자열의 길이는 2 이상 50 이하이다.\n",
    "\n",
    "## 출력\n",
    "\n",
    "출력은 표준 출력을 사용한다. 만일 입력 괄호 문자열이 올바른 괄호 문자열(VPS)이면 “YES”, 아니면 “NO”를 한 줄에 하나씩 차례대로 출력해야 한다.\n",
    "\n",
    "## 예제 입력 1\n",
    "\n",
    "```\n",
    "6\n",
    "(())())\n",
    "(((()())()\n",
    "(()())((()))\n",
    "((()()(()))(((())))()\n",
    "()()()()(()()())()\n",
    "(()((())()(\n",
    "\n",
    "```\n",
    "\n",
    "## 예제 출력 1\n",
    "\n",
    "```\n",
    "NO\n",
    "NO\n",
    "YES\n",
    "NO\n",
    "YES\n",
    "NO\n",
    "\n",
    "```\n",
    "\n",
    "## 예제 입력 2\n",
    "\n",
    "```\n",
    "3\n",
    "((\n",
    "))\n",
    "())(()\n",
    "\n",
    "```\n",
    "\n",
    "## 예제 출력 2\n",
    "\n",
    "```\n",
    "NO\n",
    "NO\n",
    "NO\n",
    "```"
   ]
  },
  {
   "cell_type": "code",
   "execution_count": 1,
   "metadata": {
    "ExecuteTime": {
     "end_time": "2021-01-23T11:26:08.021691Z",
     "start_time": "2021-01-23T11:25:53.094635Z"
    }
   },
   "outputs": [
    {
     "name": "stdout",
     "output_type": "stream",
     "text": [
      "3\n",
      "((\n",
      "))\n",
      "())(()\n",
      "NO\n",
      "NO\n",
      "NO\n"
     ]
    }
   ],
   "source": [
    "case = int(input())\n",
    "result = []\n",
    "\n",
    "for i in range(case): # 케이스 수만큼\n",
    "    bracket = list(input()) # 괄호 문자열 한 줄\n",
    "    bracket_stack = [] # ( 만 들어있는 스택\n",
    "    double_break = True\n",
    "    \n",
    "    for j in range(len(bracket)): # 괄호 하나하나 for문\n",
    "        if bracket[j] == \"(\":\n",
    "            bracket_stack.append(bracket[j])\n",
    "        else:\n",
    "            try:\n",
    "                if bracket_stack.pop() == \"(\": # )인 경우 팝했을 때 (이 나오면 쌍을 성립하므로 pass\n",
    "                    pass\n",
    "            except: # 아니거나 오류가 났으면 pop할 원소가 없다는 뜻\n",
    "                result.append(\"NO\")\n",
    "                double_break = False\n",
    "                break\n",
    "\n",
    "    if len(bracket_stack):# ( 스택이 비지 않아도 no처리/ 아직 (가 남았다는 뜻\n",
    "        result.append(\"NO\")\n",
    "        continue\n",
    "        \n",
    "    if double_break: # 오류가 안 났으면 pop한 원소와 전부 쌍을 이뤘다는 뜻\n",
    "        result.append(\"YES\") # 해당 괄호 문자열에 대해 yes 출력\n",
    "        \n",
    "        \n",
    "for i in result:\n",
    "    print(i)"
   ]
  },
  {
   "cell_type": "code",
   "execution_count": null,
   "metadata": {},
   "outputs": [],
   "source": [
    "# https://claude-u.tistory.com/118"
   ]
  }
 ],
 "metadata": {
  "hide_input": false,
  "kernelspec": {
   "display_name": "Python 3",
   "language": "python",
   "name": "python3"
  },
  "language_info": {
   "codemirror_mode": {
    "name": "ipython",
    "version": 3
   },
   "file_extension": ".py",
   "mimetype": "text/x-python",
   "name": "python",
   "nbconvert_exporter": "python",
   "pygments_lexer": "ipython3",
   "version": "3.7.7"
  },
  "toc": {
   "base_numbering": 1,
   "nav_menu": {},
   "number_sections": true,
   "sideBar": true,
   "skip_h1_title": false,
   "title_cell": "Table of Contents",
   "title_sidebar": "Contents",
   "toc_cell": false,
   "toc_position": {},
   "toc_section_display": true,
   "toc_window_display": false
  }
 },
 "nbformat": 4,
 "nbformat_minor": 4
}
