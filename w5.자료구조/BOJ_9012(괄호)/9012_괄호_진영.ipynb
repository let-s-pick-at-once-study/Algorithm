{
 "cells": [
  {
   "cell_type": "code",
   "execution_count": null,
   "metadata": {},
   "outputs": [],
   "source": [
    "def p_or_m(origin):\n",
    "    #split_list=list(origin)\n",
    "    for i in range(len(origin)):\n",
    "        if origin[i]==\"(\":\n",
    "            answer.append(1)\n",
    "        elif origin[i]==\")\":\n",
    "            answer.append(-1)   \n",
    "def yes_or_no(answer):\n",
    "    aa=0\n",
    "    for i in range(len(answer)):\n",
    "        aa+=answer[i]\n",
    "        if aa<0:\n",
    "            break\n",
    "    if aa==0:\n",
    "        print('YES')\n",
    "    else:\n",
    "        print('NO')\n",
    "        \n",
    "n=int(input())\n",
    "for _ in range(n):\n",
    "    k=list(input())\n",
    "    p_or_m(k)\n",
    "    yes_or_no(answer)\n",
    "    answer=[]"
   ]
  }
 ],
 "metadata": {
  "kernelspec": {
   "display_name": "Python 3",
   "language": "python",
   "name": "python3"
  },
  "language_info": {
   "codemirror_mode": {
    "name": "ipython",
    "version": 3
   },
   "file_extension": ".py",
   "mimetype": "text/x-python",
   "name": "python",
   "nbconvert_exporter": "python",
   "pygments_lexer": "ipython3",
   "version": "3.8.5"
  }
 },
 "nbformat": 4,
 "nbformat_minor": 4
}
