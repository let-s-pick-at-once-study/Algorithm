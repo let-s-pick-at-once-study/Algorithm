{
 "cells": [
  {
   "cell_type": "markdown",
   "metadata": {},
   "source": [
    "# 9012 괄호\n",
    "괄호 문자열(Parenthesis String, PS)은 두 개의 괄호 기호인 ‘(’ 와 ‘)’ 만으로 구성되어 있는 문자열이다. 그 중에서 괄호의 모양이 바르게 구성된 문자열을 올바른 괄호 문자열(Valid PS, VPS)이라고 부른다. 한 쌍의 괄호 기호로 된 “( )” 문자열은 기본 VPS 이라고 부른다. 만일 x 가 VPS 라면 이것을 하나의 괄호에 넣은 새로운 문자열 “(x)”도 VPS 가 된다. 그리고 두 VPS x 와 y를 접합(concatenation)시킨 새로운 문자열 xy도 VPS 가 된다. 예를 들어 “(())()”와 “((()))” 는 VPS 이지만 “(()(”, “(())()))” , 그리고 “(()” 는 모두 VPS 가 아닌 문자열이다. \n",
    "\n",
    "여러분은 입력으로 주어진 괄호 문자열이 VPS 인지 아닌지를 판단해서 그 결과를 YES 와 NO 로 나타내어야 한다. \n",
    "\n",
    "입력\n",
    "입력 데이터는 표준 입력을 사용한다. 입력은 T개의 테스트 데이터로 주어진다. 입력의 첫 번째 줄에는 입력 데이터의 수를 나타내는 정수 T가 주어진다. 각 테스트 데이터의 첫째 줄에는 괄호 문자열이 한 줄에 주어진다. 하나의 괄호 문자열의 길이는 2 이상 50 이하이다. \n",
    "\n",
    "출력\n",
    "출력은 표준 출력을 사용한다. 만일 입력 괄호 문자열이 올바른 괄호 문자열(VPS)이면 “YES”, 아니면 “NO”를 한 줄에 하나씩 차례대로 출력해야 한다. \n",
    "\n",
    "예제 입력 1  \n",
    "6<br>\n",
    "(())())  \n",
    "(((()())()  \n",
    "(()())((()))  \n",
    "((()()(()))(((())))()  \n",
    "()()()()(()()())()  \n",
    "(()((())()(    \n",
    "\n",
    "예제 출력 1   \n",
    "NO \n",
    "NO  \n",
    "YES  \n",
    "NO  \n",
    "YES  \n",
    "NO    \n",
    "\n",
    "예제 입력 2    \n",
    "3 <br> \n",
    "((  \n",
    "))  \n",
    "())(()  \n",
    "예제 출력 2   \n",
    "NO  \n",
    "NO  \n",
    "NO"
   ]
  },
  {
   "cell_type": "markdown",
   "metadata": {},
   "source": [
    "### 처음 아이디어  \n",
    "\"(\" 개수와 \")\" 개수가 같으면 괄호 성립이 될것이다.\n",
    "    -> ))(( 와 같은 경우에 \"YES\"가 출력됨. \n",
    "    따라서 \")\"가 먼저나오면 바로 \"NO\"를 출력하게 하려함.  \n",
    "### 코드 설명\n",
    "\"(\"=1, \")\"=-1을 부여해서 차례차례 더하는 코드를 만듬.\n",
    "언제든 합이 음수가 나오는 경우 바로 \"NO\"를 출력하게함.\n",
    "\n",
    "#### 처음코드의 문제점.\n",
    "yes_or_no함수에서 aa<0인 경우 \"NO\"를 출력하게 만들었는데, 이 경우 예제문제는 모두 맞지만 백준에서 '틀렸습니다'라고 나옴.  \n",
    "구글 코드를 참고해서 aa<0일때 break 을 추가함.  \n",
    "runtimeerror발생원인-> 함수 내에서 for문을 돌릴때 p_or_m과 yes_or_no가 다른 함수니까 같은 문자 i를 사용했는데 이게 백준 제출시 에러가 남.  \n",
    "구글링하다가 굳이 함수를 쓸 필요없는거 같아서 빼고 코드 길이를 줄임.  \n",
    "둘다 걸리는 시간은 같음."
   ]
  },
  {
   "cell_type": "code",
   "execution_count": 30,
   "metadata": {},
   "outputs": [
    {
     "name": "stdout",
     "output_type": "stream",
     "text": [
      "3\n",
      "((\n",
      "NO\n",
      "))\n",
      "NO\n",
      "()()\n",
      "YES\n"
     ]
    }
   ],
   "source": [
    "def p_or_m(origin):\n",
    "    for i in range(len(origin)):\n",
    "        if origin[i]==\"(\":\n",
    "            answer.append(1)\n",
    "        elif origin[i]==\")\":\n",
    "            answer.append(-1)   \n",
    "def yes_or_no(answer):\n",
    "    aa=0\n",
    "    for j in range(len(answer)):\n",
    "        aa+=answer[j]\n",
    "        if aa<0:\n",
    "            break\n",
    "    if aa==0:\n",
    "        print('YES')\n",
    "    else:\n",
    "        print('NO')\n",
    "answer=[]        \n",
    "n=int(input())\n",
    "for _ in range(n):\n",
    "    k=list(input())\n",
    "    p_or_m(k)\n",
    "    yes_or_no(answer)\n",
    "    answer=[]"
   ]
  },
  {
   "cell_type": "code",
   "execution_count": 28,
   "metadata": {},
   "outputs": [
    {
     "name": "stdout",
     "output_type": "stream",
     "text": [
      "3\n",
      "))((\n",
      "NO\n",
      ")()()(\n",
      "NO\n",
      "()()()()(()()())\n",
      "YES\n"
     ]
    }
   ],
   "source": [
    "n=int(input())\n",
    "for _ in range(n):\n",
    "    answer=[]\n",
    "    bracket=list(input())\n",
    "    for j in range(len(bracket)):\n",
    "        if bracket[j]==\"(\":\n",
    "            answer.append(1)\n",
    "        else:\n",
    "            answer.append(-1)\n",
    "    aa=0\n",
    "    for k in range(len(answer)):\n",
    "        aa+=answer[k]\n",
    "        if aa<0:\n",
    "            break\n",
    "    print('YES') if aa==0 else print('NO')"
   ]
  },
  {
   "cell_type": "code",
   "execution_count": null,
   "metadata": {},
   "outputs": [],
   "source": []
  }
 ],
 "metadata": {
  "kernelspec": {
   "display_name": "Python 3",
   "language": "python",
   "name": "python3"
  },
  "language_info": {
   "codemirror_mode": {
    "name": "ipython",
    "version": 3
   },
   "file_extension": ".py",
   "mimetype": "text/x-python",
   "name": "python",
   "nbconvert_exporter": "python",
   "pygments_lexer": "ipython3",
   "version": "3.8.5"
  }
 },
 "nbformat": 4,
 "nbformat_minor": 4
}
