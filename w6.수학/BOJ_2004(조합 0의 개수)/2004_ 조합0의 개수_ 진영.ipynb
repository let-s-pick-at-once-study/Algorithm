{
 "cells": [
  {
   "cell_type": "markdown",
   "metadata": {},
   "source": [
    "# 문제\n",
    "nCm 의 끝자리 의 개수를 출력하는 프로그램을 작성하시오.\n",
    "\n",
    "## 입력\n",
    "첫째 줄에 정수 n,m이 들어온다.\n",
    "\n",
    "## 출력\n",
    "첫째 줄에 nCm의 끝자리 0의 개수를 출력한다."
   ]
  },
  {
   "cell_type": "code",
   "execution_count": 73,
   "metadata": {
    "scrolled": true
   },
   "outputs": [
    {
     "name": "stdout",
     "output_type": "stream",
     "text": [
      "25 12\n",
      "2\n"
     ]
    }
   ],
   "source": [
    "n, m = map(int, input().split())\n",
    "five=0\n",
    "five2=0\n",
    "for i in range(m+1,n+1):\n",
    "    if i%5==0:\n",
    "        x=i\n",
    "        while x%5 ==0:\n",
    "            y=x/5\n",
    "            x=y\n",
    "            five+=1\n",
    "for j in range(1,m+1):\n",
    "    if j%5==0:\n",
    "        x=j\n",
    "        while x%5 ==0:\n",
    "            y=x/5\n",
    "            x=y\n",
    "            five2+=1\n",
    "print(five-five2)\n",
    "#시간초과..."
   ]
  },
  {
   "cell_type": "code",
   "execution_count": 133,
   "metadata": {},
   "outputs": [
    {
     "name": "stdout",
     "output_type": "stream",
     "text": [
      "25 12\n",
      "2\n"
     ]
    }
   ],
   "source": [
    "#함수로사용. 5로 나눠지는 여부 확인 절차를 지움.\n",
    "#여전히 시간초과\n",
    "def five(x):\n",
    "    five=0\n",
    "    while x%5==0:\n",
    "        x=x//5\n",
    "        five+=1\n",
    "    return five\n",
    "n, m = map(int, input().split())\n",
    "son=0\n",
    "mom=0\n",
    "for i in range(n-m+1,n+1):\n",
    "    son+=five(i)\n",
    "for j in range(1,m+1):\n",
    "    mom+=five(j)\n",
    "print(son-mom)"
   ]
  },
  {
   "cell_type": "code",
   "execution_count": 146,
   "metadata": {},
   "outputs": [
    {
     "name": "stdout",
     "output_type": "stream",
     "text": [
      "30 10\n",
      "1\n"
     ]
    }
   ],
   "source": [
    "#구글링 출처 https://claude-u.tistory.com/242\n",
    "def five_count(n):\n",
    "    answer = 0\n",
    "    while n != 0:\n",
    "        n = n // 5\n",
    "        answer += n\n",
    "    return answer\n",
    "\n",
    "#n!의 2 개수 세는 함수\n",
    "def two_count(n):\n",
    "    answer = 0\n",
    "    while n != 0:\n",
    "        n = n // 2\n",
    "        answer += n\n",
    "    return answer\n",
    "\n",
    "\n",
    "n, m = map(int, input().split())\n",
    "\n",
    "if m == 0:\n",
    "    print(0)\n",
    "    \n",
    "else:       \n",
    "    print(min(two_count(n)-two_count(m)-two_count(n-m), five_count(n)-five_count(m)-five_count(n-m)))"
   ]
  }
 ],
 "metadata": {
  "kernelspec": {
   "display_name": "Python 3",
   "language": "python",
   "name": "python3"
  },
  "language_info": {
   "codemirror_mode": {
    "name": "ipython",
    "version": 3
   },
   "file_extension": ".py",
   "mimetype": "text/x-python",
   "name": "python",
   "nbconvert_exporter": "python",
   "pygments_lexer": "ipython3",
   "version": "3.8.5"
  }
 },
 "nbformat": 4,
 "nbformat_minor": 4
}
