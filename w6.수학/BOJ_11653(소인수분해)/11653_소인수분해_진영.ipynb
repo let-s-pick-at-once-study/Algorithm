{
 "cells": [
  {
   "cell_type": "markdown",
   "metadata": {},
   "source": [
    "# 문제\n",
    "정수 N이 주어졌을 때, 소인수분해하는 프로그램을 작성하시오.\n",
    "\n",
    "## 입력\n",
    "첫째 줄에 정수 N (1 ≤ N ≤ 10,000,000)이 주어진다.\n",
    "\n",
    "## 출력\n",
    "N의 소인수분해 결과를 한 줄에 하나씩 오름차순으로 출력한다. N이 1인 경우 아무것도 출력하지 않는다.\n",
    "\n",
    "### 예제 입력 1 \n",
    "72\n",
    "### 예제 출력 1 \n",
    "2<br>\n",
    "2<br>\n",
    "2<br>\n",
    "3<br>\n",
    "3\n",
    "### 예제 입력 2 \n",
    "3\n",
    "### 예제 출력 2 \n",
    "3\n",
    "### 예제 입력 3 \n",
    "6\n",
    "### 예제 출력 3 \n",
    "2<br>\n",
    "3"
   ]
  },
  {
   "cell_type": "code",
   "execution_count": 126,
   "metadata": {},
   "outputs": [
    {
     "name": "stdout",
     "output_type": "stream",
     "text": [
      "50\n",
      "2\n",
      "5\n",
      "5\n"
     ]
    }
   ],
   "source": [
    "#교과서대로 작은수부터 나누기 시작한다.\n",
    "N=int(input())\n",
    "for i in range(2,N//2+1):\n",
    "    while N%i==0:\n",
    "        N=N//i\n",
    "        print(i)\n",
    "#N에 소수가 들어갔을때 처리가 안되는듯?"
   ]
  },
  {
   "cell_type": "code",
   "execution_count": 143,
   "metadata": {},
   "outputs": [
    {
     "name": "stdout",
     "output_type": "stream",
     "text": [
      "20\n",
      "처음k 0\n",
      "k: 2\n",
      "k: 2\n",
      "처음k 0\n",
      "처음k 0\n",
      "처음k 0\n",
      "k: 5\n",
      "처음k 0\n",
      "처음k 0\n",
      "처음k 0\n",
      "처음k 0\n",
      "처음k 0\n",
      "소수다 1\n"
     ]
    }
   ],
   "source": [
    "N=int(input())\n",
    "for i in range(2,N//2+1):\n",
    "    k=0\n",
    "    print('처음k',k)\n",
    "    while N%i==0:\n",
    "        N=N//i\n",
    "        k=i\n",
    "        print('k:',k)\n",
    "        \n",
    "if k==0:\n",
    "    print('소수다',N)\n",
    "#i에 따라 k=0으로 리셋을 반복하므로 소인수분해를 다 한 뒤에도 for문이 한번더 돌면 k=0으로 바뀌게 된다.\n",
    "#때문에 홀수를 넣었을때 이상해짐."
   ]
  },
  {
   "cell_type": "code",
   "execution_count": 142,
   "metadata": {},
   "outputs": [
    {
     "name": "stdout",
     "output_type": "stream",
     "text": [
      "20\n",
      "2\n",
      "2\n",
      "5\n",
      "1\n"
     ]
    }
   ],
   "source": [
    "N=int(input())\n",
    "if N%2==0:#짝수\n",
    "    num=N//2+1\n",
    "else:\n",
    "    num=N//2-1 #홀수\n",
    "for i in range(2,num):\n",
    "    k=0\n",
    "    while N%i==0:\n",
    "        N=N//i\n",
    "        k=i\n",
    "        print(k)\n",
    "        \n",
    "if k==0:\n",
    "    print(N)\n",
    "#틀림...홀짝문제라고 생각했는데 마지막 i번째에 나눠지지 않는 애가 들어가면 k=0으로 변함..."
   ]
  },
  {
   "cell_type": "code",
   "execution_count": 144,
   "metadata": {},
   "outputs": [
    {
     "name": "stdout",
     "output_type": "stream",
     "text": [
      "15\n",
      "3\n",
      "5\n",
      "1\n"
     ]
    }
   ],
   "source": [
    "#N==1이면 아무것도 출력하지 않는다를 해보려고...\n",
    "N=int(input())\n",
    "if N==1:\n",
    "    pass\n",
    "else:\n",
    "    for i in range(2,N//2+1):\n",
    "        k=0\n",
    "        while N%i==0:\n",
    "            N=N//i\n",
    "            k=i\n",
    "            print(k)\n",
    "        \n",
    "    if k==0:\n",
    "        print(N)\n",
    "#왜오애왜오애\n",
    "#역시나 for문 돌면서 자꾸 k를 0으로 바꿈\n",
    "#count를 주는 방식으로 생각함. 그후 굳이 +1계산할 필요없으니까 T/F문으로 바꿈"
   ]
  },
  {
   "cell_type": "code",
   "execution_count": 146,
   "metadata": {},
   "outputs": [
    {
     "name": "stdout",
     "output_type": "stream",
     "text": [
      "20\n",
      "2\n",
      "2\n",
      "5\n"
     ]
    }
   ],
   "source": [
    "N=int(input())\n",
    "if N==1:\n",
    "    pass\n",
    "else:\n",
    "    k=True\n",
    "    for i in range(2,N//2+1):\n",
    "        while N%i==0:\n",
    "            k=False\n",
    "            N=N//i\n",
    "            print(i)\n",
    "    if k:\n",
    "        print(N)\n",
    "#572ms"
   ]
  },
  {
   "cell_type": "code",
   "execution_count": 148,
   "metadata": {},
   "outputs": [
    {
     "name": "stdout",
     "output_type": "stream",
     "text": [
      "20\n",
      "2\n",
      "2\n",
      "5\n"
     ]
    }
   ],
   "source": [
    "N=int(input())\n",
    "k=True\n",
    "for i in range(2,N//2+1):\n",
    "    while N%i==0:\n",
    "        k=False\n",
    "        N=N//i\n",
    "        print(i)\n",
    "if k and N!=1:\n",
    "    print(N)\n",
    "\n",
    "#548ms\n",
    "#while문에 들어가지 않는애를 판별할때 1이 아닌경우에만 print 하게함.\n",
    "#완성"
   ]
  },
  {
   "cell_type": "code",
   "execution_count": null,
   "metadata": {},
   "outputs": [],
   "source": []
  }
 ],
 "metadata": {
  "kernelspec": {
   "display_name": "Python 3",
   "language": "python",
   "name": "python3"
  },
  "language_info": {
   "codemirror_mode": {
    "name": "ipython",
    "version": 3
   },
   "file_extension": ".py",
   "mimetype": "text/x-python",
   "name": "python",
   "nbconvert_exporter": "python",
   "pygments_lexer": "ipython3",
   "version": "3.8.5"
  }
 },
 "nbformat": 4,
 "nbformat_minor": 4
}
