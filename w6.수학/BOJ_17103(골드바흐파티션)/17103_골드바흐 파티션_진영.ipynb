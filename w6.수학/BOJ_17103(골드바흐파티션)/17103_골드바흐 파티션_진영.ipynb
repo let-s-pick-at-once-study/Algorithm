{
 "cells": [
  {
   "cell_type": "markdown",
   "metadata": {},
   "source": [
    "# 문제\n",
    "골드바흐의 추측: 2보다 큰 짝수는 두 소수의 합으로 나타낼 수 있다.<br>\n",
    "짝수 N을 두 소수의 합으로 나타내는 표현을 골드바흐 파티션이라고 한다. <br>\n",
    "짝수 N이 주어졌을 때, 골드바흐 파티션의 개수를 구해보자. 두 소수의 순서만 다른 것은 같은 파티션이다.\n",
    "\n",
    "## 입력\n",
    "첫째 줄에 테스트 케이스의 개수 T (1 ≤ T ≤ 100)가 주어진다.<br>\n",
    "각 테스트 케이스는 한 줄로 이루어져 있고, 정수 N은 짝수이고, 2 < N ≤ 1,000,000을 만족한다.\n",
    "\n",
    "## 출력\n",
    "각각의 테스트 케이스마다 골드바흐 파티션의 수를 출력한다.\n",
    "\n",
    "### 예제 입력 1 \n",
    "5<br>\n",
    "6<br>\n",
    "8<br>\n",
    "10<br>\n",
    "12<br>\n",
    "100\n",
    "### 예제 출력 1 \n",
    "1<br>\n",
    "1<br>\n",
    "2<br>\n",
    "1<br>\n",
    "6"
   ]
  },
  {
   "cell_type": "code",
   "execution_count": 49,
   "metadata": {},
   "outputs": [
    {
     "name": "stdout",
     "output_type": "stream",
     "text": [
      "5\n",
      "6\n",
      "8\n",
      "10\n",
      "12\n",
      "100\n",
      "1\n",
      "1\n",
      "2\n",
      "1\n",
      "6\n"
     ]
    }
   ],
   "source": [
    "count=int(input())\n",
    "n=[int(input()) for _ in range(count)]\n",
    "mn=max(n)\n",
    "\n",
    "def gold(n):\n",
    "    count=0\n",
    "    for i in range(2, n//2+1):\n",
    "        pair={i,n-i}\n",
    "        if pair-prime_set==set():\n",
    "            count+=1\n",
    "    print(count)\n",
    "\n",
    "prime_set=set(range(2,mn+1))\n",
    "for i in range(2,mn+1): #소수 리스트 만들기\n",
    "    prime_set-=set(range(i*i,mn+1,i))\n",
    "for i in n:\n",
    "    gold(i)\n",
    "#시간초과"
   ]
  },
  {
   "cell_type": "code",
   "execution_count": 9,
   "metadata": {},
   "outputs": [
    {
     "name": "stdout",
     "output_type": "stream",
     "text": [
      "1\n",
      "8\n",
      "1\n"
     ]
    }
   ],
   "source": [
    "#스터디 후 \n",
    "#index사용한 T/F 리스트로 만들자.\n",
    "count=int(input())\n",
    "n=[int(input()) for _ in range(count)]\n",
    "mn=max(n)\n",
    "\n",
    "def check(mn): #소수가 아니면 F 소수이면 T\n",
    "    isprime=[False, False]+[True]*(mn-1)\n",
    "    for i in range(2, int(mn**0.5)+1):\n",
    "        if isprime[i]==True:\n",
    "            for j in range(i*i,mn+1,i):\n",
    "                isprime[j]=False\n",
    "    return isprime\n",
    "#소수판별\n",
    "prime=check(mn)\n",
    "for j in n:\n",
    "    count=0\n",
    "    for pair in range(2, j//2 + 1):\n",
    "        if prime[pair]==True and prime[j- pair]==True:\n",
    "            count+=1\n",
    "    print(count)"
   ]
  }
 ],
 "metadata": {
  "kernelspec": {
   "display_name": "Python 3",
   "language": "python",
   "name": "python3"
  },
  "language_info": {
   "codemirror_mode": {
    "name": "ipython",
    "version": 3
   },
   "file_extension": ".py",
   "mimetype": "text/x-python",
   "name": "python",
   "nbconvert_exporter": "python",
   "pygments_lexer": "ipython3",
   "version": "3.8.5"
  }
 },
 "nbformat": 4,
 "nbformat_minor": 4
}
