{
 "cells": [
  {
   "cell_type": "code",
   "execution_count": 1,
   "metadata": {},
   "outputs": [
    {
     "name": "stdout",
     "output_type": "stream",
     "text": [
      "6\n",
      "5\n",
      "0\n",
      "6\n",
      "1\n",
      "8\n",
      "1\n",
      "10\n",
      "2\n",
      "12\n",
      "1\n",
      "100\n",
      "6\n"
     ]
    }
   ],
   "source": [
    "import sys\n",
    "T = int(input())  #입력할 숫자의 개수\n",
    "MAX = 1000000\n",
    "check = [False, False] + [True] * (MAX-1)\n",
    "primes = []\n",
    "prime_count = 0\n",
    "for i in range(1, MAX+1):\n",
    "    if check[i]:  #i=3 이면 if문으로 들어감\n",
    "        primes.append(i)\n",
    "        prime_count += 1\n",
    "        for j in range(i*2, MAX+1, i): #해당수의 2배이면 소수가 아니므로, False 값으로 바꿔줌\n",
    "            check[j] = False\n",
    "for _ in range(T):    \n",
    "    N = int(input())  #골드바흐 파티션이 몇개인지 알고싶은 숫자\n",
    "    result = 0\n",
    "    for i in range(1, prime_count):\n",
    "        if primes[i] <= N - primes[i]:\n",
    "            if check[N-primes[i]] == True:\n",
    "                result += 1\n",
    "        else:\n",
    "            break\n",
    "\n",
    "    print(result)"
   ]
  },
  {
   "cell_type": "code",
   "execution_count": null,
   "metadata": {},
   "outputs": [],
   "source": []
  }
 ],
 "metadata": {
  "kernelspec": {
   "display_name": "Python 3",
   "language": "python",
   "name": "python3"
  },
  "language_info": {
   "codemirror_mode": {
    "name": "ipython",
    "version": 3
   },
   "file_extension": ".py",
   "mimetype": "text/x-python",
   "name": "python",
   "nbconvert_exporter": "python",
   "pygments_lexer": "ipython3",
   "version": "3.6.5"
  }
 },
 "nbformat": 4,
 "nbformat_minor": 2
}
