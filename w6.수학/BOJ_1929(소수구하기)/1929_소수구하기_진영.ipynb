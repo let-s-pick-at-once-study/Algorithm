{
 "cells": [
  {
   "cell_type": "markdown",
   "metadata": {},
   "source": [
    "# 문제\n",
    "M이상 N이하의 소수를 모두 출력하는 프로그램을 작성하시오.\n",
    "\n",
    "## 입력\n",
    "첫째 줄에 자연수 M과 N이 빈 칸을 사이에 두고 주어진다. (1 ≤ M ≤ N ≤ 1,000,000) M이상 N이하의 소수가 하나 이상 있는 입력만 주어진다.\n",
    "\n",
    "## 출력\n",
    "한 줄에 하나씩, 증가하는 순서대로 소수를 출력한다.\n",
    "\n",
    "### 예제 입력 1 \n",
    "3 16\n",
    "### 예제 출력 1 \n",
    "3<br>\n",
    "5<br>\n",
    "7<br>\n",
    "11<br>\n",
    "13"
   ]
  },
  {
   "cell_type": "markdown",
   "metadata": {},
   "source": [
    "### 아이디어\n",
    "시간초과가 될까봐, 첨 시작때 2가 아닌 짝수는 모두 제외해버리고 3부터의 홀수들로만 나눠보려고함.\n",
    "주피터에선 input()사용하지만, 실제 제출시 sys를 사용해서 시간 단축함.\n",
    "->s 리스트를 만들때 홀수만 넣어서 검사하려함. 그치만 시간초과....\n",
    "시간초과면 정답여부가 잘 표시되지 않음."
   ]
  },
  {
   "cell_type": "code",
   "execution_count": 45,
   "metadata": {},
   "outputs": [
    {
     "name": "stdout",
     "output_type": "stream",
     "text": [
      "3 16\n",
      "3\n",
      "5\n",
      "7\n",
      "11\n",
      "13\n"
     ]
    }
   ],
   "source": [
    "s=list(map(int,input().split()))\n",
    "ans=[]\n",
    "if s[0]%2==0:\n",
    "    k=s[0]+1\n",
    "else:\n",
    "    k=s[0]\n",
    "if s[0]==2:\n",
    "    print(2)\n",
    "for i in range(k,s[1]+1): #홀수만 골라서 체크해주기.\n",
    "    for j in range(3,i+1,2):\n",
    "        if i>j:\n",
    "            if i%j==0:\n",
    "                break\n",
    "        elif i==j:\n",
    "            print(i)"
   ]
  },
  {
   "cell_type": "code",
   "execution_count": 58,
   "metadata": {
    "scrolled": true
   },
   "outputs": [
    {
     "name": "stdout",
     "output_type": "stream",
     "text": [
      "3 16\n",
      "3\n",
      "5\n",
      "7\n",
      "11\n",
      "13\n"
     ]
    }
   ],
   "source": [
    "#구글링 출처:https://deokkk9.tistory.com/17\n",
    "def isPrime(num):\n",
    "    if num==1:\n",
    "        return False\n",
    "    else:\n",
    "        for i in range(2, int(num**0.5)+1):\n",
    "            if num%i == 0:\n",
    "                return False\n",
    "        return True\n",
    "\n",
    "M, N = map(int, input().split())\n",
    "\n",
    "for i in range(M, N+1):\n",
    "    if isPrime(i)==True:\n",
    "        print(i)\n",
    "#3892ms\n",
    "#input 대신 sys.stdin.readline()하면 3888ms 나옴"
   ]
  }
 ],
 "metadata": {
  "kernelspec": {
   "display_name": "Python 3",
   "language": "python",
   "name": "python3"
  },
  "language_info": {
   "codemirror_mode": {
    "name": "ipython",
    "version": 3
   },
   "file_extension": ".py",
   "mimetype": "text/x-python",
   "name": "python",
   "nbconvert_exporter": "python",
   "pygments_lexer": "ipython3",
   "version": "3.8.5"
  }
 },
 "nbformat": 4,
 "nbformat_minor": 4
}
