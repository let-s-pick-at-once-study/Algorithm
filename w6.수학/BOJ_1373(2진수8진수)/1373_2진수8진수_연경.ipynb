{
 "cells": [
  {
   "cell_type": "code",
   "execution_count": 5,
   "metadata": {},
   "outputs": [
    {
     "name": "stdout",
     "output_type": "stream",
     "text": [
      "[6, 5, 4, 3, 2, 1, 0]\n"
     ]
    }
   ],
   "source": [
    "s='asesfal'\n",
    "i=[i for i in range(len(s)-1, -1, -1)]\n",
    "print(i)"
   ]
  },
  {
   "cell_type": "code",
   "execution_count": 15,
   "metadata": {},
   "outputs": [
    {
     "name": "stdout",
     "output_type": "stream",
     "text": [
      "11001100\n",
      "314\n"
     ]
    }
   ],
   "source": [
    "print(oct(int(input(), 2))[2:])\n",
    "#int()에 ,를 찍고 숫자를 넣으면 해당 진법으로 숫자를 받음\n",
    "#oct는 8진법 의미. 8진법으로 수를 바꾸면 앞에 ox가 붙으므로 앞의 두자리를 제외하고 출력"
   ]
  },
  {
   "cell_type": "code",
   "execution_count": 14,
   "metadata": {},
   "outputs": [
    {
     "name": "stdout",
     "output_type": "stream",
     "text": [
      "lafsesa\n"
     ]
    }
   ],
   "source": [
    "s='asesfal'\n",
    "s_rev=''\n",
    "for char in s:\n",
    "    s_rev=char+s_rev\n",
    "\n",
    "##################################\n",
    "s='asesfal'\n",
    "s_list=list(s)\n",
    "s_list.reverse() #reverse 함수는 list에만 적용 가능\n",
    "\n",
    "print(''.join(s_list))\n",
    "########################\n",
    "s='asesfal'\n",
    "print(''.join(reversed(s)))\n",
    "\n",
    "################################\n",
    "s='asesfal'\n",
    "print(s[::-1]) #문자열뿐만 아니라 리스트나 튜플에도 적용 가능\n",
    "print(s[3:0:-1]) #3번 인덱스부터 1번까지 역순으로\n",
    "print(s[3::-1]) #3번 인덱스부터 0번까지 역순"
   ]
  }
 ],
 "metadata": {
  "kernelspec": {
   "display_name": "Python 3",
   "language": "python",
   "name": "python3"
  },
  "language_info": {
   "codemirror_mode": {
    "name": "ipython",
    "version": 3
   },
   "file_extension": ".py",
   "mimetype": "text/x-python",
   "name": "python",
   "nbconvert_exporter": "python",
   "pygments_lexer": "ipython3",
   "version": "3.6.5"
  }
 },
 "nbformat": 4,
 "nbformat_minor": 2
}
