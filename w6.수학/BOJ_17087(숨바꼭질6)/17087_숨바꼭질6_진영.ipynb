{
 "cells": [
  {
   "cell_type": "markdown",
   "metadata": {},
   "source": [
    "# 문제\n",
    "수빈이는 동생 N명과 숨바꼭질을 하고 있다. <br>\n",
    "수빈이는 현재 점 S에 있고, 동생은 A1, A2, ..., AN에 있다.\n",
    "\n",
    "수빈이는 걸어서 이동을 할 수 있다. <br>\n",
    "수빈이의 위치가 X일때 걷는다면 1초 후에 X+D나 X-D로 이동할 수 있다. <br>\n",
    "수빈이의 위치가 동생이 있는 위치와 같으면, 동생을 찾았다고 한다.\n",
    "\n",
    "모든 동생을 찾기위해 D의 값을 정하려고 한다. 가능한 D의 최댓값을 구해보자.\n",
    "\n",
    "## 입력\n",
    "첫째 줄에 N(1 ≤ N ≤ 105)과 S(1 ≤ S ≤ 109)가 주어진다. 둘째 줄에 동생의 위치 Ai(1 ≤ Ai ≤ 109)가 주어진다. 동생의 위치는 모두 다르며, 수빈이의 위치와 같지 않다.\n",
    "\n",
    "## 출력\n",
    "가능한 D값의 최댓값을 출력한다.\n",
    "\n",
    "### 예제 입력 1 \n",
    "3 3<br>\n",
    "1 7 11<br>\n",
    "### 예제 출력 1 \n",
    "2\n",
    "### 예제 입력 2 \n",
    "3 81<br>\n",
    "33 105 57\n",
    "### 예제 출력 2 \n",
    "24\n",
    "### 예제 입력 3 \n",
    "1 1<br>\n",
    "1000000000\n",
    "### 예제 출력 3 \n",
    "999999999"
   ]
  },
  {
   "cell_type": "markdown",
   "metadata": {},
   "source": [
    "### 아이디어\n",
    "abs(수빈위치-동생위치)의 최대공약수를 구한다.\n",
    "\n",
    "최대공약수 구하는 방법<br>\n",
    "ex> 1071, 1029 <br>\n",
    "두 수가 나눠떨어지지 않으면 나머지를 구한다.<br>\n",
    "1071 % 1029 = 42<br>\n",
    "1029 % 42 = 21<br>\n",
    "42는 21로 나눠진다.<br>\n",
    "최대공약수는 21"
   ]
  },
  {
   "cell_type": "code",
   "execution_count": 32,
   "metadata": {},
   "outputs": [
    {
     "name": "stdout",
     "output_type": "stream",
     "text": [
      "1 1\n",
      "1000000000\n"
     ]
    }
   ],
   "source": [
    "def gcd(x,y):\n",
    "    while y:\n",
    "        k=x%y\n",
    "        x=y\n",
    "        y=k\n",
    "    return x\n",
    "\n",
    "f=list(map(int,input().split()))\n",
    "s=list(map(int,input().split()))\n",
    "k=[] \n",
    "n=[]\n",
    "for i in range(0,f[0]):\n",
    "    k.append(abs(s[i]-f[1]))\n",
    "\n",
    "for j in range(len(k)-1):\n",
    "    n.append(gcd(k[j],k[j+1]))\n",
    "#print(min(n))\n",
    "#1 1 넣었을때 n 리스트가 빈칸이 되는 문제 발생."
   ]
  },
  {
   "cell_type": "code",
   "execution_count": 43,
   "metadata": {},
   "outputs": [
    {
     "name": "stdout",
     "output_type": "stream",
     "text": [
      "1 1\n",
      "1000000000\n",
      "999999999\n"
     ]
    }
   ],
   "source": [
    "def gcd(x,y):\n",
    "    while y:\n",
    "        k=x%y\n",
    "        x=y\n",
    "        y=k\n",
    "    return x\n",
    "f=list(map(int,input().split()))\n",
    "s=list(map(int,input().split()))\n",
    "k=[] \n",
    "n=[]\n",
    "if f[0]==1:\n",
    "    print(abs(f[1]-s[0]))\n",
    "else:\n",
    "    for i in range(0,f[0]):\n",
    "        k.append(abs(s[i]-f[1]))\n",
    "\n",
    "    for j in range(len(k)-1):\n",
    "        n.append(gcd(k[j],k[j+1]))\n",
    "    print(min(n))\n",
    "#264ms"
   ]
  },
  {
   "cell_type": "code",
   "execution_count": null,
   "metadata": {},
   "outputs": [],
   "source": []
  }
 ],
 "metadata": {
  "kernelspec": {
   "display_name": "Python 3",
   "language": "python",
   "name": "python3"
  },
  "language_info": {
   "codemirror_mode": {
    "name": "ipython",
    "version": 3
   },
   "file_extension": ".py",
   "mimetype": "text/x-python",
   "name": "python",
   "nbconvert_exporter": "python",
   "pygments_lexer": "ipython3",
   "version": "3.8.5"
  }
 },
 "nbformat": 4,
 "nbformat_minor": 4
}
