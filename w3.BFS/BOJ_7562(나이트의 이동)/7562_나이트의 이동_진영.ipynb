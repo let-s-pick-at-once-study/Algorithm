{
 "cells": [
  {
   "cell_type": "markdown",
   "metadata": {},
   "source": [
    "## 문제\n",
    "체스판 위에 한 나이트가 놓여져 있다. <br>\n",
    "나이트가 한 번에 이동할 수 있는 칸은 아래 그림에 나와있다. <br>\n",
    "나이트가 이동하려고 하는 칸이 주어진다. 나이트는 몇 번 움직이면 이 칸으로 이동할 수 있을까?\n",
    "\n",
    "\n",
    "### 입력\n",
    "입력의 첫째 줄에는 테스트 케이스의 개수가 주어진다.<br>\n",
    "\n",
    "각 테스트 케이스는 세 줄로 이루어져 있다. <br>\n",
    "첫째 줄에는 체스판의 한 변의 길이 l(4 ≤ l ≤ 300)이 주어진다. <br>\n",
    "체스판의 크기는 l × l이다. <br>\n",
    "체스판의 각 칸은 두 수의 쌍 {0, ..., l-1} × {0, ..., l-1}로 나타낼 수 있다. <br>\n",
    "둘째 줄과 셋째 줄에는 나이트가 현재 있는 칸, 나이트가 이동하려고 하는 칸이 주어진다.\n",
    "\n",
    "### 출력\n",
    "각 테스트 케이스마다 나이트가 최소 몇 번만에 이동할 수 있는지 출력한다.\n",
    "\n",
    "#### 예제 입력 1 \n",
    "3<br>\n",
    "8<br>\n",
    "0 0<br>\n",
    "7 0<br>\n",
    "100<br>\n",
    "0 0<br>\n",
    "30 50<br>\n",
    "10<br>\n",
    "1 1<br>\n",
    "1 1\n",
    "#### 예제 출력 1 \n",
    "5<br>\n",
    "28<br>\n",
    "0"
   ]
  },
  {
   "cell_type": "code",
   "execution_count": 4,
   "metadata": {},
   "outputs": [
    {
     "name": "stdout",
     "output_type": "stream",
     "text": [
      "2\n",
      "8\n",
      "0 0\n",
      "7 0\n",
      "100\n",
      "0 0\n",
      "30 50\n"
     ]
    }
   ],
   "source": [
    "t=int(input()) #test횟수\n",
    "for _ in range(t):\n",
    "    board_size=int(input())\n",
    "    x,y=map(int,input().split())\n",
    "    c,d=map(int,input().split())"
   ]
  },
  {
   "cell_type": "code",
   "execution_count": 6,
   "metadata": {},
   "outputs": [
    {
     "data": {
      "text/plain": [
       "30"
      ]
     },
     "execution_count": 6,
     "metadata": {},
     "output_type": "execute_result"
    }
   ],
   "source": [
    "c"
   ]
  },
  {
   "cell_type": "code",
   "execution_count": null,
   "metadata": {},
   "outputs": [],
   "source": [
    "#데스나이트 코드 참고"
   ]
  },
  {
   "cell_type": "code",
   "execution_count": 14,
   "metadata": {},
   "outputs": [
    {
     "name": "stdout",
     "output_type": "stream",
     "text": [
      "3\n",
      "8\n",
      "0 0\n",
      "7 0\n",
      "5\n",
      "100\n",
      "0 0\n",
      "30 50\n",
      "28\n",
      "10\n",
      "1 1\n",
      "1 1\n",
      "0\n"
     ]
    }
   ],
   "source": [
    "from collections import deque\n",
    "#방향변수\n",
    "dx=[1,2,2,1,-1,-2,-2,-1]#가로\n",
    "dy=[2,1,-1,-2,-2,-1,1,2]#세로\n",
    "\n",
    "def bfs(x,y,c,d): #x,y는 시작 좌표. c,d는 도착좌표\n",
    "    board[x][y]=0\n",
    "    visited[x][y]=True\n",
    "    queue=deque() #큐생성\n",
    "    queue.append((x,y))\n",
    "    \n",
    "    while queue: #큐가 빌때까지 생성\n",
    "        a,b=queue.popleft()\n",
    "        if (a==c) and (b==d): #도착하면\n",
    "            return board[a][b]\n",
    "        for i in range(8):\n",
    "            new_x=a+dx[i]\n",
    "            new_y=b+dy[i]\n",
    "            \n",
    "            if (0<=new_x < board_size and 0<= new_y < board_size) and (visited[new_x][new_y]==False):\n",
    "                visited[new_x][new_y]=True\n",
    "                board[new_x][new_y]=board[a][b]+1\n",
    "                queue.append((new_x,new_y))\n",
    "    \n",
    "t=int(input()) #test횟수\n",
    "\n",
    "for _ in range(t):\n",
    "    board_size=int(input())\n",
    "    x,y=map(int,input().split())\n",
    "    c,d=map(int,input().split())\n",
    "\n",
    "    board=[[0 for _ in range(board_size)] for _ in range(board_size)] #보드 구성\n",
    "    visited=[[False for _ in range(board_size)] for _ in range(board_size)] #방문 여부 확인\n",
    "    print(bfs(x,y,c,d)) \n",
    "    \n",
    "    \n",
    "#2948ms"
   ]
  },
  {
   "cell_type": "code",
   "execution_count": null,
   "metadata": {},
   "outputs": [],
   "source": []
  }
 ],
 "metadata": {
  "kernelspec": {
   "display_name": "Python 3",
   "language": "python",
   "name": "python3"
  },
  "language_info": {
   "codemirror_mode": {
    "name": "ipython",
    "version": 3
   },
   "file_extension": ".py",
   "mimetype": "text/x-python",
   "name": "python",
   "nbconvert_exporter": "python",
   "pygments_lexer": "ipython3",
   "version": "3.8.5"
  }
 },
 "nbformat": 4,
 "nbformat_minor": 4
}
