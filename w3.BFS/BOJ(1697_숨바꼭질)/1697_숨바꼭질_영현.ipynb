{
 "cells": [
  {
   "cell_type": "code",
   "execution_count": 2,
   "metadata": {
    "ExecuteTime": {
     "end_time": "2021-01-09T09:30:29.435392Z",
     "start_time": "2021-01-09T09:29:17.423669Z"
    }
   },
   "outputs": [
    {
     "name": "stdout",
     "output_type": "stream",
     "text": [
      "5 17\n",
      "4\n"
     ]
    }
   ],
   "source": [
    "import sys\n",
    "from collections import deque\n",
    "r = sys.stdin.readline\n",
    "\n",
    "def bfs(v):\n",
    "    count = 0\n",
    "    q = deque([[v, count]])\n",
    "    while q: # 큐가 빌 때까지\n",
    "        v = q.popleft()\n",
    "        e = v[0]\n",
    "        count = v[1]\n",
    "        if not visited[e]: # 해당 자리가 false면\n",
    "            visited[e] = True\n",
    "            if e == K: # 동생을 만났으면\n",
    "                return count\n",
    "            count += 1\n",
    "            if (e * 2) <= 100000:\n",
    "                q.append([e * 2, count])\n",
    "            if (e + 1) <= 100000:\n",
    "                q.append([e + 1, count])\n",
    "            if (e - 1) >= 0:\n",
    "                q.append([e - 1, count])\n",
    "    return count\n",
    "                \n",
    "N, K = map(int, input().split())\n",
    "visited = [False] * 100001\n",
    "print(bfs(N))"
   ]
  },
  {
   "cell_type": "code",
   "execution_count": 4,
   "metadata": {
    "ExecuteTime": {
     "end_time": "2021-01-09T09:32:03.109802Z",
     "start_time": "2021-01-09T09:32:03.100845Z"
    }
   },
   "outputs": [
    {
     "data": {
      "text/plain": [
       "True"
      ]
     },
     "execution_count": 4,
     "metadata": {},
     "output_type": "execute_result"
    }
   ],
   "source": [
    "not visited[0]"
   ]
  },
  {
   "cell_type": "code",
   "execution_count": 5,
   "metadata": {
    "ExecuteTime": {
     "end_time": "2021-01-09T09:32:09.603314Z",
     "start_time": "2021-01-09T09:32:09.595753Z"
    }
   },
   "outputs": [
    {
     "data": {
      "text/plain": [
       "False"
      ]
     },
     "execution_count": 5,
     "metadata": {},
     "output_type": "execute_result"
    }
   ],
   "source": [
    "visited[0]"
   ]
  },
  {
   "cell_type": "code",
   "execution_count": null,
   "metadata": {},
   "outputs": [],
   "source": []
  }
 ],
 "metadata": {
  "hide_input": false,
  "kernelspec": {
   "display_name": "Python 3",
   "language": "python",
   "name": "python3"
  },
  "language_info": {
   "codemirror_mode": {
    "name": "ipython",
    "version": 3
   },
   "file_extension": ".py",
   "mimetype": "text/x-python",
   "name": "python",
   "nbconvert_exporter": "python",
   "pygments_lexer": "ipython3",
   "version": "3.7.7"
  },
  "toc": {
   "base_numbering": 1,
   "nav_menu": {},
   "number_sections": true,
   "sideBar": true,
   "skip_h1_title": false,
   "title_cell": "Table of Contents",
   "title_sidebar": "Contents",
   "toc_cell": false,
   "toc_position": {},
   "toc_section_display": true,
   "toc_window_display": false
  }
 },
 "nbformat": 4,
 "nbformat_minor": 4
}
