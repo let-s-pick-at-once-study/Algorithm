{
 "cells": [
  {
   "cell_type": "code",
   "execution_count": 3,
   "metadata": {},
   "outputs": [
    {
     "name": "stdout",
     "output_type": "stream",
     "text": [
      "5 17\n",
      "4\n"
     ]
    },
    {
     "data": {
      "text/plain": [
       "'\\n***주의해야할 점 Python에서 list를 queue처럼 사용할 수 있다. \\npop(0)를 하면 index 0 에 있는 숫자가 pop된다.\\n하지만, 이 방법은 O(n)의 시간복잡도로 pop하기 때문에 매우 느리다. \\n그래서 이 문제에서는 시간초과를 막기 위해 collections의 deque를 사용해야 한다.\\n해당 자료구조는 O(1)의 시간복잡도로 pop하도록 구현 되어있다.\\n'"
      ]
     },
     "execution_count": 3,
     "metadata": {},
     "output_type": "execute_result"
    }
   ],
   "source": [
    "import sys\n",
    "from collections import deque\n",
    "\n",
    "LIMIT = 100001\n",
    "\n",
    "def solve(arr, n, k):\n",
    "    q = deque()\n",
    "    q.append(n)\n",
    "\n",
    "    while q:\n",
    "        i = q.popleft()\n",
    "\n",
    "        if i == k:\n",
    "            return arr[i]\n",
    "\n",
    "        for j in (i+1, i-1, 2*i):\n",
    "            if (0 <= j < LIMIT) and arr[j] == 0:\n",
    "                arr[j] = arr[i] + 1\n",
    "                q.append(j)\n",
    "\n",
    "N, K = map(int, input().split())\n",
    "find = [0] * LIMIT\n",
    "\n",
    "print(solve(find, N, K))\n",
    "\n",
    "\"\"\"\n",
    "***주의해야할 점 Python에서 list를 queue처럼 사용할 수 있다. \n",
    "pop(0)를 하면 index 0 에 있는 숫자가 pop된다.\n",
    "하지만, 이 방법은 O(n)의 시간복잡도로 pop하기 때문에 매우 느리다. \n",
    "그래서 이 문제에서는 시간초과를 막기 위해 collections의 deque를 사용해야 한다.\n",
    "해당 자료구조는 O(1)의 시간복잡도로 pop하도록 구현 되어있다.\n",
    "\"\"\"\n",
    "            "
   ]
  },
  {
   "cell_type": "code",
   "execution_count": null,
   "metadata": {},
   "outputs": [],
   "source": []
  }
 ],
 "metadata": {
  "kernelspec": {
   "display_name": "Python 3",
   "language": "python",
   "name": "python3"
  },
  "language_info": {
   "codemirror_mode": {
    "name": "ipython",
    "version": 3
   },
   "file_extension": ".py",
   "mimetype": "text/x-python",
   "name": "python",
   "nbconvert_exporter": "python",
   "pygments_lexer": "ipython3",
   "version": "3.6.5"
  }
 },
 "nbformat": 4,
 "nbformat_minor": 2
}
