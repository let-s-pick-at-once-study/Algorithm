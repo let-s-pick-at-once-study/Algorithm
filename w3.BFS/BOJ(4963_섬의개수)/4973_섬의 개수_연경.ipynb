{
 "cells": [
  {
   "cell_type": "code",
   "execution_count": null,
   "metadata": {},
   "outputs": [
    {
     "name": "stdout",
     "output_type": "stream",
     "text": [
      "1 1\n",
      "0\n",
      "0\n",
      "2 2\n",
      "0 1\n",
      "1 0\n",
      "1\n",
      "3 2\n",
      "1 1 1\n",
      "1 1 1\n",
      "1\n",
      "5 4\n"
     ]
    }
   ],
   "source": [
    "dx = [1, -1, 0, 0, 1, -1, 1, -1]\n",
    "dy = [0, 0, -1, 1, -1, -1, 1, 1]\n",
    "def bfs(i, j):\n",
    "    s[i][j] = 0\n",
    "    queue = [[i, j]]\n",
    "    while queue:\n",
    "        a, b = queue[0][0], queue[0][1]\n",
    "        del queue[0]\n",
    "        for k in range(8):\n",
    "            x = a + dx[k]\n",
    "            y = b + dy[k]\n",
    "            if 0 <= x < h and 0 <= y < w and s[x][y] == 1:\n",
    "                s[x][y] = 0\n",
    "                queue.append([x, y])\n",
    "while True:\n",
    "    w, h = map(int, input().split())\n",
    "    if w == 0 and h == 0:\n",
    "        break\n",
    "    s = []\n",
    "    cnt = 0\n",
    "    for i in range(h):\n",
    "        s.append(list(map(int, input().split())))\n",
    "    for i in range(h):\n",
    "        for j in range(w):\n",
    "            if s[i][j] == 1:\n",
    "                bfs(i, j)\n",
    "                cnt += 1\n",
    "    print(cnt)"
   ]
  },
  {
   "cell_type": "code",
   "execution_count": null,
   "metadata": {},
   "outputs": [],
   "source": []
  }
 ],
 "metadata": {
  "kernelspec": {
   "display_name": "Python 3",
   "language": "python",
   "name": "python3"
  },
  "language_info": {
   "codemirror_mode": {
    "name": "ipython",
    "version": 3
   },
   "file_extension": ".py",
   "mimetype": "text/x-python",
   "name": "python",
   "nbconvert_exporter": "python",
   "pygments_lexer": "ipython3",
   "version": "3.6.5"
  }
 },
 "nbformat": 4,
 "nbformat_minor": 2
}
