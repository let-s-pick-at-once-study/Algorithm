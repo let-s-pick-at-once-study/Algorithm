{
 "cells": [
  {
   "cell_type": "code",
   "execution_count": 2,
   "metadata": {},
   "outputs": [
    {
     "name": "stdout",
     "output_type": "stream",
     "text": [
      "6 4\n",
      "0 0 0 0 0 0\n",
      "0 0 0 0 0 0\n",
      "0 0 0 0 0 0\n",
      "0 0 0 0 0 1\n",
      "8\n"
     ]
    }
   ],
   "source": [
    "from collections import deque\n",
    "\n",
    "dx = [1, -1, 0, 0]  #네 방향\n",
    "dy = [0, 0, 1, -1]\n",
    "\n",
    "def bfs():\n",
    "    result = 0\n",
    "    while q:\n",
    "        result += 1\n",
    "        for _ in range(len(q)):\n",
    "            x, y = q.popleft()\n",
    "            for i in range(4):\n",
    "                nx = x + dx[i]\n",
    "                ny = y + dy[i]\n",
    "                if 0 <= nx < n and 0 <= ny < m:\n",
    "                    if a[nx][ny] == 0:\n",
    "                        a[nx][ny] = 1\n",
    "                        q.append([nx, ny])\n",
    "    return result\n",
    "\n",
    "m, n = map(int, input().split())\n",
    "a, q = [], deque()\n",
    "for i in range(n):\n",
    "    row = list(map(int, input().split()))\n",
    "    for j in range(m):\n",
    "        if row[j] == 1:\n",
    "            q.append([i, j])\n",
    "    a.append(row)\n",
    "\n",
    "result = bfs() - 1\n",
    "for i in range(n):\n",
    "    for j in range(m):\n",
    "        if a[i][j] == 0:\n",
    "            print(-1)\n",
    "            exit()\n",
    "print(result)"
   ]
  },
  {
   "cell_type": "code",
   "execution_count": null,
   "metadata": {},
   "outputs": [],
   "source": []
  }
 ],
 "metadata": {
  "kernelspec": {
   "display_name": "Python 3",
   "language": "python",
   "name": "python3"
  },
  "language_info": {
   "codemirror_mode": {
    "name": "ipython",
    "version": 3
   },
   "file_extension": ".py",
   "mimetype": "text/x-python",
   "name": "python",
   "nbconvert_exporter": "python",
   "pygments_lexer": "ipython3",
   "version": "3.6.5"
  }
 },
 "nbformat": 4,
 "nbformat_minor": 2
}
