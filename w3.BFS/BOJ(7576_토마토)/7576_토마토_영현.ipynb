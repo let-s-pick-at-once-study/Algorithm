{
 "cells": [
  {
   "cell_type": "code",
   "execution_count": 3,
   "metadata": {
    "ExecuteTime": {
     "end_time": "2021-01-09T09:02:56.915353Z",
     "start_time": "2021-01-09T09:02:56.899405Z"
    }
   },
   "outputs": [],
   "source": [
    "import sys\n",
    "from collections import deque\n",
    "r = sys.stdin.readline\n",
    "\n",
    "\n",
    "def bfs(M, N, box):\n",
    "    # 좌우상하\n",
    "    dx = [0, 0, 1, -1]\n",
    "    dy = [-1, 1, 0, 0]\n",
    "\n",
    "    days = -1\n",
    "\n",
    "    while ripe:\n",
    "        days += 1\n",
    "        for _ in range(len(ripe)):\n",
    "            x, y = ripe.popleft() # 왼쪽에서 값 빼기\n",
    "\n",
    "            for i in range(4):\n",
    "                nx = x + dx[i]\n",
    "                ny = y + dy[i]\n",
    "\n",
    "                if (0 <= nx < N) and (0 <= ny < M) and (box[nx][ny] == 0):\n",
    "                    box[nx][ny] = box[x][y] + 1 # 왜 1을 더하지\n",
    "                    ripe.append([nx, ny])\n",
    "\n",
    "    for b in box:\n",
    "        if 0 in b:\n",
    "            return -1\n",
    "    return days"
   ]
  },
  {
   "cell_type": "code",
   "execution_count": 23,
   "metadata": {
    "ExecuteTime": {
     "end_time": "2021-01-09T09:23:40.499230Z",
     "start_time": "2021-01-09T09:23:26.888218Z"
    }
   },
   "outputs": [
    {
     "name": "stdout",
     "output_type": "stream",
     "text": [
      "6 4\n",
      "0 0 0 0 0 0 \n",
      "0 0 0 0 0 0\n",
      "0 0 0 0 0 0\n",
      "0 0 0 0 0 1\n"
     ]
    }
   ],
   "source": [
    "M, N = map(int, input().split())\n",
    "box, ripe = [], deque()\n",
    "for i in range(N):\n",
    "    row = list(map(int, input().split()))\n",
    "    for j in range(M):\n",
    "        if row[j] == 1:\n",
    "            ripe.append([i, j]) # 과일이 들어있는 좌표 저장\n",
    "    box.append(row)\n"
   ]
  },
  {
   "cell_type": "code",
   "execution_count": 13,
   "metadata": {
    "ExecuteTime": {
     "end_time": "2021-01-09T09:16:03.023708Z",
     "start_time": "2021-01-09T09:16:03.014709Z"
    }
   },
   "outputs": [
    {
     "data": {
      "text/plain": [
       "deque([[3, 5]])"
      ]
     },
     "execution_count": 13,
     "metadata": {},
     "output_type": "execute_result"
    }
   ],
   "source": [
    "ripe"
   ]
  },
  {
   "cell_type": "code",
   "execution_count": 24,
   "metadata": {
    "ExecuteTime": {
     "end_time": "2021-01-09T09:23:51.664930Z",
     "start_time": "2021-01-09T09:23:51.655896Z"
    }
   },
   "outputs": [
    {
     "data": {
      "text/plain": [
       "1"
      ]
     },
     "execution_count": 24,
     "metadata": {},
     "output_type": "execute_result"
    }
   ],
   "source": [
    "len(ripe)"
   ]
  },
  {
   "cell_type": "code",
   "execution_count": 15,
   "metadata": {
    "ExecuteTime": {
     "end_time": "2021-01-09T09:16:58.466123Z",
     "start_time": "2021-01-09T09:16:58.457020Z"
    }
   },
   "outputs": [
    {
     "data": {
      "text/plain": [
       "[[0, 0, 0, 0, 0, 0],\n",
       " [0, 0, 0, 0, 0, 0],\n",
       " [0, 0, 0, 0, 0, 0],\n",
       " [0, 0, 0, 0, 0, 1]]"
      ]
     },
     "execution_count": 15,
     "metadata": {},
     "output_type": "execute_result"
    }
   ],
   "source": [
    "box"
   ]
  },
  {
   "cell_type": "code",
   "execution_count": 16,
   "metadata": {
    "ExecuteTime": {
     "end_time": "2021-01-09T09:19:09.879167Z",
     "start_time": "2021-01-09T09:19:09.872172Z"
    }
   },
   "outputs": [
    {
     "name": "stdout",
     "output_type": "stream",
     "text": [
      "8\n"
     ]
    }
   ],
   "source": [
    "print(bfs(M, N, box))"
   ]
  },
  {
   "cell_type": "code",
   "execution_count": 19,
   "metadata": {
    "ExecuteTime": {
     "end_time": "2021-01-09T09:21:55.306590Z",
     "start_time": "2021-01-09T09:21:55.299589Z"
    }
   },
   "outputs": [],
   "source": [
    "x, y = ripe.popleft()"
   ]
  },
  {
   "cell_type": "code",
   "execution_count": 21,
   "metadata": {
    "ExecuteTime": {
     "end_time": "2021-01-09T09:21:59.788759Z",
     "start_time": "2021-01-09T09:21:59.779653Z"
    }
   },
   "outputs": [
    {
     "data": {
      "text/plain": [
       "3"
      ]
     },
     "execution_count": 21,
     "metadata": {},
     "output_type": "execute_result"
    }
   ],
   "source": [
    "x"
   ]
  },
  {
   "cell_type": "code",
   "execution_count": 22,
   "metadata": {
    "ExecuteTime": {
     "end_time": "2021-01-09T09:22:01.975762Z",
     "start_time": "2021-01-09T09:22:01.966749Z"
    }
   },
   "outputs": [
    {
     "data": {
      "text/plain": [
       "5"
      ]
     },
     "execution_count": 22,
     "metadata": {},
     "output_type": "execute_result"
    }
   ],
   "source": [
    "y"
   ]
  },
  {
   "cell_type": "code",
   "execution_count": null,
   "metadata": {},
   "outputs": [],
   "source": []
  }
 ],
 "metadata": {
  "hide_input": false,
  "kernelspec": {
   "display_name": "Python 3",
   "language": "python",
   "name": "python3"
  },
  "language_info": {
   "codemirror_mode": {
    "name": "ipython",
    "version": 3
   },
   "file_extension": ".py",
   "mimetype": "text/x-python",
   "name": "python",
   "nbconvert_exporter": "python",
   "pygments_lexer": "ipython3",
   "version": "3.7.7"
  },
  "toc": {
   "base_numbering": 1,
   "nav_menu": {},
   "number_sections": true,
   "sideBar": true,
   "skip_h1_title": false,
   "title_cell": "Table of Contents",
   "title_sidebar": "Contents",
   "toc_cell": false,
   "toc_position": {},
   "toc_section_display": true,
   "toc_window_display": false
  }
 },
 "nbformat": 4,
 "nbformat_minor": 4
}
