{
 "cells": [
  {
   "cell_type": "code",
   "execution_count": 6,
   "metadata": {},
   "outputs": [
    {
     "name": "stdout",
     "output_type": "stream",
     "text": [
      "4\n",
      "1 2 3 4\n"
     ]
    }
   ],
   "source": [
    "N=int(input())\n",
    "Price=list(map(int,input().split()))\n",
    "num=len(Price)\n",
    "for i in range():\n",
    "    for j in range():\n",
    "        if sum==N:\n",
    "            cnt+=1\n",
    "            sum=0\n",
    "            break"
   ]
  },
  {
   "cell_type": "code",
   "execution_count": 7,
   "metadata": {},
   "outputs": [
    {
     "name": "stdout",
     "output_type": "stream",
     "text": [
      "[1, 2, 3, 4]\n",
      "4\n"
     ]
    }
   ],
   "source": [
    "print(Price)\n",
    "print(num)"
   ]
  },
  {
   "cell_type": "code",
   "execution_count": 11,
   "metadata": {},
   "outputs": [
    {
     "name": "stdout",
     "output_type": "stream",
     "text": [
      "4\n",
      "3 5 4 9\n",
      "12\n"
     ]
    }
   ],
   "source": [
    "n=int(input())\n",
    "d=[0]*(n+1)\n",
    "p=[0] + list(map(int,input().split()))\n",
    "d[1]=p[1]\n",
    "for i in range(2, n+1):\n",
    "    for j in range(1, i+1):\n",
    "        if d[i]<d[i-j]+p[j]:\n",
    "            d[i] = d[i-j] + p[j]\n",
    "print(d[n])"
   ]
  }
 ],
 "metadata": {
  "kernelspec": {
   "display_name": "Python 3",
   "language": "python",
   "name": "python3"
  },
  "language_info": {
   "codemirror_mode": {
    "name": "ipython",
    "version": 3
   },
   "file_extension": ".py",
   "mimetype": "text/x-python",
   "name": "python",
   "nbconvert_exporter": "python",
   "pygments_lexer": "ipython3",
   "version": "3.6.5"
  }
 },
 "nbformat": 4,
 "nbformat_minor": 2
}
