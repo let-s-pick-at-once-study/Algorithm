{
 "cells": [
  {
   "cell_type": "code",
   "execution_count": 7,
   "metadata": {},
   "outputs": [
    {
     "name": "stdout",
     "output_type": "stream",
     "text": [
      "3\n",
      "4 7 10\n",
      "3\n",
      "9\n",
      "27\n"
     ]
    }
   ],
   "source": [
    "dp = [[0, 0, 0, 0] for i in range(100001)]\n",
    "\n",
    "#dp[1] = [1, 0, 0] 에서 dp[1][0] 은 마지막이 1로 끝나는 경우를 의미\n",
    "dp[1]=[1,0,0]   ##1은 1 한가지 경우\n",
    "dp[2]=[0,1,0]   ##2도 2 한가지 경우\n",
    "dp[3]=[1,1,1]   ##3은 2+1, 1+2, 3 이렇게 3가지 경우\n",
    "\n",
    "for i in range(4, 100001):\n",
    "    dp[i][0]=(dp[i-1][1]+dp[i-1][2])%1000000009   ##1을 더해서 i를 만드는 경우 -> 뒤에가 1로 끝남\n",
    "    dp[i][1]=(dp[i-2][0]+dp[i-2][2])%1000000009   ##2를 더해서 i를 만드는 경우\n",
    "    dp[i][2]=(dp[i-3][0]+dp[i-3][1])%1000000009   ##3을 더해서 i를 만드는 경우\n",
    "    \n",
    "n=int(input())\n",
    "m=list(map(int, input().split()))\n",
    "for j in m:\n",
    "    sum=0\n",
    "    sum+=dp[j][0]+dp[j][1]+dp[j][2]\n",
    "    print(sum%1000000009)"
   ]
  }
 ],
 "metadata": {
  "kernelspec": {
   "display_name": "Python 3",
   "language": "python",
   "name": "python3"
  },
  "language_info": {
   "codemirror_mode": {
    "name": "ipython",
    "version": 3
   },
   "file_extension": ".py",
   "mimetype": "text/x-python",
   "name": "python",
   "nbconvert_exporter": "python",
   "pygments_lexer": "ipython3",
   "version": "3.6.5"
  }
 },
 "nbformat": 4,
 "nbformat_minor": 2
}
