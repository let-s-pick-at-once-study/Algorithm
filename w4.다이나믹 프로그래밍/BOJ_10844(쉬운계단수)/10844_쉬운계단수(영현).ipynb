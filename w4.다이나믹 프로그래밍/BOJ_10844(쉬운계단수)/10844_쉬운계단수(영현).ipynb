{
 "cells": [
  {
   "cell_type": "markdown",
   "metadata": {},
   "source": [
    "# 쉬운 계단 수\n",
    "## 문제\n",
    "\n",
    "45656이란 수를 보자.\n",
    "\n",
    "이 수는 인접한 모든 자리수의 차이가 1이 난다. 이런 수를 계단 수라고 한다.\n",
    "\n",
    "세준이는 수의 길이가 N인 계단 수가 몇 개 있는지 궁금해졌다.\n",
    "\n",
    "N이 주어질 때, 길이가 N인 계단 수가 총 몇 개 있는지 구하는 프로그램을 작성하시오. (0으로 시작하는 수는 없다.)\n",
    "\n",
    "## 입력\n",
    "\n",
    "첫째 줄에 N이 주어진다. N은 1보다 크거나 같고, 100보다 작거나 같은 자연수이다.\n",
    "\n",
    "## 출력\n",
    "\n",
    "첫째 줄에 정답을 1,000,000,000으로 나눈 나머지를 출력한다.\n",
    "\n",
    "## 예제 입력 1\n",
    "\n",
    "```\n",
    "1\n",
    "```\n",
    "\n",
    "## 예제 출력 1\n",
    "\n",
    "```\n",
    "9\n",
    "```"
   ]
  },
  {
   "cell_type": "code",
   "execution_count": 37,
   "metadata": {
    "ExecuteTime": {
     "end_time": "2021-01-13T08:03:15.162776Z",
     "start_time": "2021-01-13T08:03:15.153772Z"
    }
   },
   "outputs": [],
   "source": [
    "def sol(N):\n",
    "    ans = 0\n",
    "    if N==1:\n",
    "        return 9\n",
    "    elif N==2:\n",
    "        for i in range(10,100):\n",
    "            a = str(i)\n",
    "            if abs(int(a[1])-int(a[0]))==1:\n",
    "                ans +=1 \n",
    "    elif N>2:\n",
    "        for i in range(10**(N-1),10**(N)):\n",
    "            a = str(i)\n",
    "            count = 0\n",
    "            for j in range(1, len(a)-1):\n",
    "                if abs(int(a[j])-int(a[j-1]))==1 and abs(int(a[j+1])-int(a[j]))==1:\n",
    "                    count += 1\n",
    "                else:\n",
    "                    break\n",
    "            if count == len(a)-2:\n",
    "                ans += 1\n",
    "                print(a)\n",
    "            \n",
    "    return ans%1000000000\n",
    "            "
   ]
  },
  {
   "cell_type": "code",
   "execution_count": 1,
   "metadata": {
    "ExecuteTime": {
     "end_time": "2021-01-13T07:38:52.799790Z",
     "start_time": "2021-01-13T07:38:52.785781Z"
    }
   },
   "outputs": [
    {
     "data": {
      "text/plain": [
       "100"
      ]
     },
     "execution_count": 1,
     "metadata": {},
     "output_type": "execute_result"
    }
   ],
   "source": [
    "10**2"
   ]
  },
  {
   "cell_type": "code",
   "execution_count": 4,
   "metadata": {
    "ExecuteTime": {
     "end_time": "2021-01-13T07:41:39.702774Z",
     "start_time": "2021-01-13T07:41:39.696777Z"
    }
   },
   "outputs": [
    {
     "data": {
      "text/plain": [
       "'1'"
      ]
     },
     "execution_count": 4,
     "metadata": {},
     "output_type": "execute_result"
    }
   ],
   "source": [
    "str(100)[0]"
   ]
  },
  {
   "cell_type": "code",
   "execution_count": 6,
   "metadata": {
    "ExecuteTime": {
     "end_time": "2021-01-13T07:44:07.747782Z",
     "start_time": "2021-01-13T07:44:07.741780Z"
    }
   },
   "outputs": [
    {
     "data": {
      "text/plain": [
       "9"
      ]
     },
     "execution_count": 6,
     "metadata": {},
     "output_type": "execute_result"
    }
   ],
   "source": [
    "sol(1)"
   ]
  },
  {
   "cell_type": "code",
   "execution_count": 38,
   "metadata": {
    "ExecuteTime": {
     "end_time": "2021-01-13T08:03:17.542774Z",
     "start_time": "2021-01-13T08:03:17.507824Z"
    }
   },
   "outputs": [
    {
     "name": "stdout",
     "output_type": "stream",
     "text": [
      "1010\n",
      "1012\n",
      "1210\n",
      "1212\n",
      "1232\n",
      "1234\n",
      "2101\n",
      "2121\n",
      "2123\n",
      "2321\n",
      "2323\n",
      "2343\n",
      "2345\n",
      "3210\n",
      "3212\n",
      "3232\n",
      "3234\n",
      "3432\n",
      "3434\n",
      "3454\n",
      "3456\n",
      "4321\n",
      "4323\n",
      "4343\n",
      "4345\n",
      "4543\n",
      "4545\n",
      "4565\n",
      "4567\n",
      "5432\n",
      "5434\n",
      "5454\n",
      "5456\n",
      "5654\n",
      "5656\n",
      "5676\n",
      "5678\n",
      "6543\n",
      "6545\n",
      "6565\n",
      "6567\n",
      "6765\n",
      "6767\n",
      "6787\n",
      "6789\n",
      "7654\n",
      "7656\n",
      "7676\n",
      "7678\n",
      "7876\n",
      "7878\n",
      "7898\n",
      "8765\n",
      "8767\n",
      "8787\n",
      "8789\n",
      "8987\n",
      "8989\n",
      "9876\n",
      "9878\n",
      "9898\n"
     ]
    },
    {
     "data": {
      "text/plain": [
       "61"
      ]
     },
     "execution_count": 38,
     "metadata": {},
     "output_type": "execute_result"
    }
   ],
   "source": [
    "sol(4)"
   ]
  },
  {
   "cell_type": "code",
   "execution_count": 22,
   "metadata": {
    "ExecuteTime": {
     "end_time": "2021-01-13T07:49:32.441808Z",
     "start_time": "2021-01-13T07:49:32.430780Z"
    }
   },
   "outputs": [
    {
     "name": "stdout",
     "output_type": "stream",
     "text": [
      "5\n",
      "6\n",
      "5\n"
     ]
    },
    {
     "data": {
      "text/plain": [
       "3"
      ]
     },
     "execution_count": 22,
     "metadata": {},
     "output_type": "execute_result"
    }
   ],
   "source": [
    "a = str(45656)\n",
    "count = 0\n",
    "for j in range(1, len(a)-1):\n",
    "    if abs(int(a[j])-int(a[j-1]))==1 and abs(int(a[j+1])-int(a[j]))==1:\n",
    "        count += 1\n",
    "        print(a[j])\n",
    "count"
   ]
  },
  {
   "cell_type": "code",
   "execution_count": null,
   "metadata": {},
   "outputs": [],
   "source": []
  }
 ],
 "metadata": {
  "hide_input": false,
  "kernelspec": {
   "display_name": "Python 3",
   "language": "python",
   "name": "python3"
  },
  "language_info": {
   "codemirror_mode": {
    "name": "ipython",
    "version": 3
   },
   "file_extension": ".py",
   "mimetype": "text/x-python",
   "name": "python",
   "nbconvert_exporter": "python",
   "pygments_lexer": "ipython3",
   "version": "3.7.7"
  },
  "toc": {
   "base_numbering": 1,
   "nav_menu": {},
   "number_sections": true,
   "sideBar": true,
   "skip_h1_title": false,
   "title_cell": "Table of Contents",
   "title_sidebar": "Contents",
   "toc_cell": false,
   "toc_position": {},
   "toc_section_display": true,
   "toc_window_display": false
  }
 },
 "nbformat": 4,
 "nbformat_minor": 4
}
