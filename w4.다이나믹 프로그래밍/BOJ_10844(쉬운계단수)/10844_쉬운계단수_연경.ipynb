{
 "cells": [
  {
   "cell_type": "code",
   "execution_count": null,
   "metadata": {},
   "outputs": [],
   "source": [
    "n = int(input())\n",
    "dp = [[0 for i in range(10)] for j in range(101)]\n",
    "for i in range(1, 10):\n",
    "    dp[1][i] = 1\n",
    "for i in range(2, n + 1):\n",
    "    for j in range(10):\n",
    "        if j == 0:\n",
    "            dp[i][j] = dp[i - 1][1]\n",
    "        elif j == 9:\n",
    "            dp[i][j] = dp[i - 1][8]\n",
    "        else:\n",
    "            dp[i][j] = dp[i - 1][j - 1] + dp[i - 1][j + 1]\n",
    "print(sum(dp[n]) % 1000000000)"
   ]
  },
  {
   "cell_type": "markdown",
   "metadata": {},
   "source": [
    "https://pacific-ocean.tistory.com/151"
   ]
  }
 ],
 "metadata": {
  "kernelspec": {
   "display_name": "Python 3",
   "language": "python",
   "name": "python3"
  },
  "language_info": {
   "codemirror_mode": {
    "name": "ipython",
    "version": 3
   },
   "file_extension": ".py",
   "mimetype": "text/x-python",
   "name": "python",
   "nbconvert_exporter": "python",
   "pygments_lexer": "ipython3",
   "version": "3.6.5"
  }
 },
 "nbformat": 4,
 "nbformat_minor": 2
}
