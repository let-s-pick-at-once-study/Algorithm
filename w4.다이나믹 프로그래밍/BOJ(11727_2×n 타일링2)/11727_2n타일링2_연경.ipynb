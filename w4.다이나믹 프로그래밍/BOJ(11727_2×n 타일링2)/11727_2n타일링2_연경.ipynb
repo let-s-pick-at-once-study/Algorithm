{
 "cells": [
  {
   "cell_type": "code",
   "execution_count": 2,
   "metadata": {},
   "outputs": [
    {
     "name": "stdout",
     "output_type": "stream",
     "text": [
      "8\n",
      "171\n"
     ]
    }
   ],
   "source": [
    "s = [0, 1, 3]\n",
    "for i in range(3, 1001):\n",
    "  s.append((s[i - 2] * 2) + s[i - 1])\n",
    "n = int(input())\n",
    "print(s[n] % 10007)"
   ]
  }
 ],
 "metadata": {
  "kernelspec": {
   "display_name": "Python 3",
   "language": "python",
   "name": "python3"
  },
  "language_info": {
   "codemirror_mode": {
    "name": "ipython",
    "version": 3
   },
   "file_extension": ".py",
   "mimetype": "text/x-python",
   "name": "python",
   "nbconvert_exporter": "python",
   "pygments_lexer": "ipython3",
   "version": "3.6.5"
  }
 },
 "nbformat": 4,
 "nbformat_minor": 2
}
