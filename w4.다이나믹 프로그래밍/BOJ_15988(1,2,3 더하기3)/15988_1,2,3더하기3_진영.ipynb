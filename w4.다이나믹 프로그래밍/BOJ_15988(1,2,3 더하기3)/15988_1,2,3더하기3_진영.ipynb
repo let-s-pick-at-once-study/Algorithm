{
 "cells": [
  {
   "cell_type": "markdown",
   "metadata": {},
   "source": [
    "# 문제\n",
    "정수 4를 1, 2, 3의 합으로 나타내는 방법은 총 7가지가 있다. 합을 나타낼 때는 수를 1개 이상 사용해야 한다.\n",
    "\n",
    "1+1+1+1<br>\n",
    "1+1+2<br>\n",
    "1+2+1<br>\n",
    "2+1+1<br>\n",
    "2+2<br>\n",
    "1+3<br>\n",
    "3+1<br>\n",
    "정수 n이 주어졌을 때, n을 1, 2, 3의 합으로 나타내는 방법의 수를 구하는 프로그램을 작성하시오.\n",
    "\n",
    "## 입력\n",
    "첫째 줄에 테스트 케이스의 개수 T가 주어진다. <br>\n",
    "각 테스트 케이스는 한 줄로 이루어져 있고, 정수 n이 주어진다. <br>\n",
    "n은 양수이며 1,000,000보다 작거나 같다.\n",
    "\n",
    "## 출력\n",
    "각 테스트 케이스마다, n을 1, 2, 3의 합으로 나타내는 방법의 수를 1,000,000,009로 나눈 나머지를 출력한다.\n",
    "\n",
    "### 예제 입력 1 \n",
    "3<br>\n",
    "4<br>\n",
    "7<br>\n",
    "10<br>\n",
    "### 예제 출력 1 \n",
    "7<br>\n",
    "44<br>\n",
    "274"
   ]
  },
  {
   "cell_type": "markdown",
   "metadata": {},
   "source": [
    "#### 아이디어\n",
    "이전 세개 값을 더하면 새로운거....\n"
   ]
  },
  {
   "cell_type": "code",
   "execution_count": 11,
   "metadata": {},
   "outputs": [
    {
     "name": "stdout",
     "output_type": "stream",
     "text": [
      "3\n",
      "4\n",
      "7\n",
      "10\n",
      "7\n",
      "44\n",
      "274\n"
     ]
    }
   ],
   "source": [
    "T=int(input())\n",
    "n=[]\n",
    "for j in range(T):\n",
    "    n.append(int(input()))\n",
    "mmax=max(n)+1\n",
    "d=[0]*mmax\n",
    "d[0]=1\n",
    "d[1]=1\n",
    "d[2]=2\n",
    "for i in range(3,mmax):\n",
    "    if d[i]==0:\n",
    "        d[i]=d[i-1]+d[i-2]+d[i-3]\n",
    "        d[i]=d[i]%1000000009\n",
    "\n",
    "for k in n:\n",
    "    print(d[k])\n",
    "#764"
   ]
  },
  {
   "cell_type": "code",
   "execution_count": 13,
   "metadata": {},
   "outputs": [
    {
     "name": "stdout",
     "output_type": "stream",
     "text": [
      "3\n",
      "4\n",
      "7\n",
      "7\n",
      "44\n",
      "10\n",
      "274\n"
     ]
    }
   ],
   "source": [
    "d=[0]*1000001\n",
    "d[0]=1\n",
    "d[1]=1\n",
    "d[2]=2\n",
    "for i in range(3,1000001):\n",
    "    if d[i]==0:\n",
    "        d[i]=d[i-1]+d[i-2]+d[i-3]\n",
    "        d[i]=d[i]%1000000009\n",
    "\n",
    "T=int(input())\n",
    "for _ in range(T):\n",
    "    n=int(input())\n",
    "    print(d[n])\n",
    "#668"
   ]
  },
  {
   "cell_type": "code",
   "execution_count": null,
   "metadata": {},
   "outputs": [],
   "source": []
  }
 ],
 "metadata": {
  "kernelspec": {
   "display_name": "Python 3",
   "language": "python",
   "name": "python3"
  },
  "language_info": {
   "codemirror_mode": {
    "name": "ipython",
    "version": 3
   },
   "file_extension": ".py",
   "mimetype": "text/x-python",
   "name": "python",
   "nbconvert_exporter": "python",
   "pygments_lexer": "ipython3",
   "version": "3.8.5"
  }
 },
 "nbformat": 4,
 "nbformat_minor": 4
}
