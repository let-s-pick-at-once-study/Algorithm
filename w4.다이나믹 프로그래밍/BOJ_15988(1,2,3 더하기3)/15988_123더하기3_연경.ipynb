{
 "cells": [
  {
   "cell_type": "code",
   "execution_count": 8,
   "metadata": {},
   "outputs": [
    {
     "name": "stdout",
     "output_type": "stream",
     "text": [
      "10\n",
      "274\n"
     ]
    }
   ],
   "source": [
    "n=int(input())\n",
    "\n",
    "sum_123=[1,2,4]\n",
    "def sum123(n):\n",
    "    for i in range (3,n):\n",
    "        sum_123.append(sum_123[i-3]+sum_123[i-2]+sum_123[i-1])\n",
    "    print(sum_123[n-1]%1000000009)\n",
    "    \n",
    "sum123(n)"
   ]
  }
 ],
 "metadata": {
  "kernelspec": {
   "display_name": "Python 3",
   "language": "python",
   "name": "python3"
  },
  "language_info": {
   "codemirror_mode": {
    "name": "ipython",
    "version": 3
   },
   "file_extension": ".py",
   "mimetype": "text/x-python",
   "name": "python",
   "nbconvert_exporter": "python",
   "pygments_lexer": "ipython3",
   "version": "3.6.5"
  }
 },
 "nbformat": 4,
 "nbformat_minor": 2
}
