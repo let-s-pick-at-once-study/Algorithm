{
 "cells": [
  {
   "cell_type": "code",
   "execution_count": 1,
   "metadata": {
    "collapsed": true
   },
   "outputs": [],
   "source": [
    "def quad_tree(x, y, n):\n",
    "    global matrix, answer #배열 정보와 답이 될 변수를 끌어옴\n",
    "    color = matrix[y][x] #첫 색깔(흑백)과 나머지 색이 같아야함\n",
    "    double_break = False #for문 탈출용 double_break\n",
    "    \n",
    "    for i in range(x, x+n):\n",
    "        if double_break:\n",
    "            break\n",
    "            \n",
    "        for j in range(y, y+n):\n",
    "            if matrix[j][i] != color: #하나라도 틀릴시에 재귀문 생성\n",
    "            \n",
    "                answer += '(' #문 열고\n",
    "                quad_tree(x, y, n//2) #2사분면\n",
    "                quad_tree(x + n//2, y, n//2) #1사분면\n",
    "                quad_tree(x, y + n//2, n//2) #3사분면\n",
    "                quad_tree(x + n//2, y + n//2, n//2) #4사분면\n",
    "                answer += ')' #문 닫고\n",
    "                \n",
    "                double_break = True #탈출!\n",
    "                break\n",
    "    \n",
    "    if not double_break:\n",
    "        if matrix[y][x] == 1: #검정색이라면\n",
    "            answer += '1'\n",
    "        else:\n",
    "            answer += '0' #흰색이라면"
   ]
  },
  {
   "cell_type": "code",
   "execution_count": 2,
   "metadata": {},
   "outputs": [
    {
     "name": "stdout",
     "output_type": "stream",
     "text": [
      "8\n"
     ]
    }
   ],
   "source": [
    "N = int(input())\n",
    "matrix = []\n",
    "answer = ''"
   ]
  },
  {
   "cell_type": "code",
   "execution_count": 3,
   "metadata": {},
   "outputs": [
    {
     "name": "stdout",
     "output_type": "stream",
     "text": [
      "11110000\n",
      "11100000\n",
      "11000000\n",
      "10000000\n",
      "11111000\n",
      "11111100\n",
      "11111110\n",
      "11111111\n"
     ]
    }
   ],
   "source": [
    "for _ in range(N):\n",
    "    matrix.append(list(map(int, str(input()))))"
   ]
  },
  {
   "cell_type": "code",
   "execution_count": 4,
   "metadata": {},
   "outputs": [
    {
     "name": "stdout",
     "output_type": "stream",
     "text": [
      "((1(1110)(1110)0)01((1011)01(1011)))\n"
     ]
    }
   ],
   "source": [
    "quad_tree(0,0,N)\n",
    "print(answer)"
   ]
  }
 ],
 "metadata": {
  "kernelspec": {
   "display_name": "Python 3",
   "language": "python",
   "name": "python3"
  },
  "language_info": {
   "codemirror_mode": {
    "name": "ipython",
    "version": 3
   },
   "file_extension": ".py",
   "mimetype": "text/x-python",
   "name": "python",
   "nbconvert_exporter": "python",
   "pygments_lexer": "ipython3",
   "version": "3.6.1"
  }
 },
 "nbformat": 4,
 "nbformat_minor": 2
}
