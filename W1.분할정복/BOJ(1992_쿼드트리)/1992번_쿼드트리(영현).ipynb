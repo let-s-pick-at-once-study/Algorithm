{
 "cells": [
  {
   "attachments": {
    "image.png": {
     "image/png": "[encoded data removed]"
    }
   },
   "cell_type": "markdown",
   "metadata": {},
   "source": [
    "# 분할정복 - 쿼드트리\n",
    "\n",
    "## 문제\n",
    "\n",
    "흑백 영상을 압축하여 표현하는 데이터 구조로 쿼드 트리(Quad Tree)라는 방법이 있다. 흰 점을 나타내는 0과 검은 점을 나타내는 1로만 이루어진 영상(2차원 배열)에서 같은 숫자의 점들이 한 곳에 많이 몰려있으면, 쿼드 트리에서는 이를 압축하여 간단히 표현할 수 있다.\n",
    "\n",
    "주어진 영상이 모두 0으로만 되어 있으면 압축 결과는 \"0\"이 되고, 모두 1로만 되어 있으면 압축 결과는 \"1\"이 된다. 만약 0과 1이 섞여 있으면 전체를 한 번에 나타내지를 못하고, 왼쪽 위, 오른쪽 위, 왼쪽 아래, 오른쪽 아래, 이렇게 4개의 영상으로 나누어 압축하게 되며, 이 4개의 영역을 압축한 결과를 차례대로 괄호 안에 묶어서 표현한다\n",
    "\n",
    "![image.png](attachment:image.png)\n",
    "\n",
    "위 그림에서 왼쪽의 영상은 오른쪽의 배열과 같이 숫자로 주어지며, 이 영상을 쿼드 트리 구조를 이용하여 압축하면 \"(0(0011)(0(0111)01)1)\"로 표현된다.  N ×N 크기의 영상이 주어질 때, 이 영상을 압축한 결과를 출력하는 프로그램을 작성하시오.\n",
    "\n",
    "## 입력\n",
    "\n",
    "첫째 줄에는 영상의 크기를 나타내는 숫자 N 이 주어진다. N 은 언제나 2의 제곱수로 주어지며, 1≤N ≤64의 범위를 가진다. 두 번째 줄부터는 길이 N 의 문자열이 N 개 들어온다. 각 문자열은 0 또는 1의 숫자로 이루어져 있으며, 영상의 각 점들을 나타낸다.\n",
    "\n",
    "## 출력\n",
    "\n",
    "영상을 압축한 결과를 출력한다.\n",
    "\n",
    "### 입력\n",
    "\n",
    "8\n",
    "\n",
    "11110000\n",
    "\n",
    "11110000\n",
    "\n",
    "00011100\n",
    "\n",
    "00011100\n",
    "\n",
    "11110000\n",
    "\n",
    "11110000\n",
    "\n",
    "11110011\n",
    "\n",
    "11110011\n",
    "\n",
    "### 출력\n",
    "\n",
    "((110(0101))(0010)1(0001)) "
   ]
  },
  {
   "cell_type": "code",
   "execution_count": 1,
   "metadata": {
    "ExecuteTime": {
     "end_time": "2020-12-26T10:11:32.765473Z",
     "start_time": "2020-12-26T10:10:57.744463Z"
    }
   },
   "outputs": [
    {
     "name": "stdout",
     "output_type": "stream",
     "text": [
      "8\n",
      "11110000\n",
      "11110000\n",
      "00011100\n",
      "00011100\n",
      "11110000\n",
      "11110000\n",
      "11110011\n",
      "11110011\n"
     ]
    }
   ],
   "source": [
    "n = int(input())\n",
    "mat = [input() for i in range(n)]"
   ]
  },
  {
   "cell_type": "code",
   "execution_count": 2,
   "metadata": {
    "ExecuteTime": {
     "end_time": "2020-12-26T10:11:35.815502Z",
     "start_time": "2020-12-26T10:11:35.802467Z"
    }
   },
   "outputs": [
    {
     "data": {
      "text/plain": [
       "['11110000',\n",
       " '11110000',\n",
       " '00011100',\n",
       " '00011100',\n",
       " '11110000',\n",
       " '11110000',\n",
       " '11110011',\n",
       " '11110011']"
      ]
     },
     "execution_count": 2,
     "metadata": {},
     "output_type": "execute_result"
    }
   ],
   "source": [
    "mat"
   ]
  },
  {
   "cell_type": "code",
   "execution_count": 90,
   "metadata": {
    "ExecuteTime": {
     "end_time": "2020-12-26T11:43:49.533599Z",
     "start_time": "2020-12-26T11:43:49.522604Z"
    }
   },
   "outputs": [],
   "source": [
    "def sol(N, Mat):\n",
    "    m1 = []\n",
    "    m2 = []\n",
    "    m3 = []\n",
    "    m4 = []\n",
    "    m1_e = []\n",
    "    m2_e = []\n",
    "    m3_e = []\n",
    "    m4_e = []\n",
    "    \n",
    "    for i in range(N//2):\n",
    "        m1.append(Mat[i][0:N//2])\n",
    "        m1_e.extend(Mat[i][0:N//2])\n",
    "    \n",
    "    for i in range(N//2):\n",
    "        m2.append(Mat[i][N//2:])\n",
    "        m2_e.extend(Mat[i][N//2:])\n",
    "        \n",
    "    for i in range(N//2,N):\n",
    "        m3.append(Mat[i][0:N//2])\n",
    "        m3_e.extend(Mat[i][0:N//2])\n",
    "    \n",
    "    for i in range(N//2,N):\n",
    "        m4.append(Mat[i][N//2:])\n",
    "        m4_e.extend(Mat[i][N//2:])\n",
    "        \n",
    "    \n",
    "    \"\"\"while True:\n",
    "        if isallsamenum(m1_e)='False':\n",
    "            break\n",
    "        else:\n",
    "            sol(N//2, m1)\n",
    "            break\n",
    "    \n",
    "    while True:\n",
    "        if isallsamenum(m2_e)!='False':\n",
    "            break\n",
    "        else:\n",
    "            sol(N//2, m2)\n",
    "            break\n",
    "    \n",
    "    while True:\n",
    "        if isallsamenum(m3_e)!='False':\n",
    "            break\n",
    "        else:\n",
    "            sol(N//2, m3)\n",
    "            break\n",
    "            \n",
    "    while True:\n",
    "        if isallsamenum(m4_e)!='False':\n",
    "            break\n",
    "        else:\n",
    "            sol(N//2, m4)\n",
    "            break\"\"\"\n",
    "    \n",
    "    if isallsamenum(m1_e)!='False':\n",
    "        return isallsamenum(m1_e)\n",
    "        #sol(N//2, m1)\n",
    "    elif isallsamenum(m2_e)!='False':\n",
    "        return isallsamenum(m2_e)\n",
    "        #sol(N//2, m2)\n",
    "    elif isallsamenum(m3_e)!='False':\n",
    "        return isallsamenum(m3_e)\n",
    "        #sol(N//2, m3)\n",
    "    elif isallsamenum(m4_e)!='False':\n",
    "        return isallsamenum(m4_e)\n",
    "        #sol(N//2, m4)\n",
    "    return '('+sol(N//2, m1) +sol(N//2, m2)+sol(N//2, m3)+sol(N//2, m4)+')'\n",
    "    \n",
    "    \"\"\"if isallsamenum(m1_e)!='False' and isallsamenum(m2_e)!='False' and isallsamenum(m3_e)!='False' and isallsamenum(m4_e)!='False':\n",
    "        return '('+isallsamenum(m1_e) +isallsamenum(m2_e)+isallsamenum(m3_e)+isallsamenum(m4_e)+')'\n",
    "    else:\n",
    "        sol(N//2, m1)\n",
    "        sol(N//2, m2)\n",
    "        sol(N//2, m3)\n",
    "        sol(N//2, m4)\"\"\"\n",
    "    "
   ]
  },
  {
   "cell_type": "code",
   "execution_count": 56,
   "metadata": {
    "ExecuteTime": {
     "end_time": "2020-12-26T10:49:36.326346Z",
     "start_time": "2020-12-26T10:49:36.320314Z"
    }
   },
   "outputs": [],
   "source": [
    "def isallsamenum(M):\n",
    "    sum = 0\n",
    "    for i in M:\n",
    "        sum += int(i)\n",
    "    if (sum == 0):\n",
    "        return str(0)\n",
    "    elif (sum == len(M)):\n",
    "        return str(1)\n",
    "    else:\n",
    "        return 'False'"
   ]
  },
  {
   "cell_type": "code",
   "execution_count": 3,
   "metadata": {
    "ExecuteTime": {
     "end_time": "2020-12-26T10:13:31.342460Z",
     "start_time": "2020-12-26T10:13:31.335466Z"
    }
   },
   "outputs": [
    {
     "data": {
      "text/plain": [
       "4"
      ]
     },
     "execution_count": 3,
     "metadata": {},
     "output_type": "execute_result"
    }
   ],
   "source": [
    "8//2"
   ]
  },
  {
   "cell_type": "code",
   "execution_count": 45,
   "metadata": {
    "ExecuteTime": {
     "end_time": "2020-12-26T10:31:56.310565Z",
     "start_time": "2020-12-26T10:31:56.303536Z"
    }
   },
   "outputs": [
    {
     "data": {
      "text/plain": [
       "['0',\n",
       " '0',\n",
       " '0',\n",
       " '0',\n",
       " '0',\n",
       " '0',\n",
       " '0',\n",
       " '0',\n",
       " '0',\n",
       " '0',\n",
       " '1',\n",
       " '1',\n",
       " '0',\n",
       " '0',\n",
       " '1',\n",
       " '1']"
      ]
     },
     "execution_count": 45,
     "metadata": {},
     "output_type": "execute_result"
    }
   ],
   "source": [
    "a = []\n",
    "for i in range(n//2,n):\n",
    "    a.extend(mat[i][4:])\n",
    "a"
   ]
  },
  {
   "cell_type": "code",
   "execution_count": 43,
   "metadata": {
    "ExecuteTime": {
     "end_time": "2020-12-26T10:30:26.145732Z",
     "start_time": "2020-12-26T10:30:26.138734Z"
    }
   },
   "outputs": [
    {
     "data": {
      "text/plain": [
       "22"
      ]
     },
     "execution_count": 43,
     "metadata": {},
     "output_type": "execute_result"
    }
   ],
   "source": [
    "b = 0\n",
    "for i in a:\n",
    "    b+=int(i)\n",
    "b"
   ]
  },
  {
   "cell_type": "code",
   "execution_count": 41,
   "metadata": {
    "ExecuteTime": {
     "end_time": "2020-12-26T10:28:38.603758Z",
     "start_time": "2020-12-26T10:28:38.597727Z"
    }
   },
   "outputs": [
    {
     "data": {
      "text/plain": [
       "11"
      ]
     },
     "execution_count": 41,
     "metadata": {},
     "output_type": "execute_result"
    }
   ],
   "source": [
    "int(a[2])"
   ]
  },
  {
   "cell_type": "code",
   "execution_count": 42,
   "metadata": {
    "ExecuteTime": {
     "end_time": "2020-12-26T10:29:01.273747Z",
     "start_time": "2020-12-26T10:29:01.266733Z"
    }
   },
   "outputs": [
    {
     "data": {
      "text/plain": [
       "1111"
      ]
     },
     "execution_count": 42,
     "metadata": {},
     "output_type": "execute_result"
    }
   ],
   "source": [
    "int('1111')"
   ]
  },
  {
   "cell_type": "code",
   "execution_count": 77,
   "metadata": {
    "ExecuteTime": {
     "end_time": "2020-12-26T11:13:12.447766Z",
     "start_time": "2020-12-26T11:13:12.441724Z"
    }
   },
   "outputs": [
    {
     "data": {
      "text/plain": [
       "['0',\n",
       " '0',\n",
       " '0',\n",
       " '0',\n",
       " '0',\n",
       " '0',\n",
       " '0',\n",
       " '0',\n",
       " '0',\n",
       " '0',\n",
       " '1',\n",
       " '1',\n",
       " '0',\n",
       " '0',\n",
       " '1',\n",
       " '1']"
      ]
     },
     "execution_count": 77,
     "metadata": {},
     "output_type": "execute_result"
    }
   ],
   "source": [
    "a"
   ]
  },
  {
   "cell_type": "code",
   "execution_count": 81,
   "metadata": {
    "ExecuteTime": {
     "end_time": "2020-12-26T11:14:01.583728Z",
     "start_time": "2020-12-26T11:14:01.577729Z"
    }
   },
   "outputs": [
    {
     "data": {
      "text/plain": [
       "True"
      ]
     },
     "execution_count": 81,
     "metadata": {},
     "output_type": "execute_result"
    }
   ],
   "source": [
    "isallsamenum(a[14:]) != 'False'"
   ]
  },
  {
   "cell_type": "code",
   "execution_count": 92,
   "metadata": {
    "ExecuteTime": {
     "end_time": "2020-12-26T11:44:41.514598Z",
     "start_time": "2020-12-26T11:44:41.510600Z"
    }
   },
   "outputs": [
    {
     "name": "stdout",
     "output_type": "stream",
     "text": [
      "1\n"
     ]
    }
   ],
   "source": [
    "sol(n,mat)"
   ]
  },
  {
   "cell_type": "code",
   "execution_count": 95,
   "metadata": {
    "ExecuteTime": {
     "end_time": "2020-12-26T11:47:19.410663Z",
     "start_time": "2020-12-26T11:47:19.400670Z"
    }
   },
   "outputs": [
    {
     "name": "stdout",
     "output_type": "stream",
     "text": [
      "((110(0101))(0010)1(0001))\n"
     ]
    }
   ],
   "source": [
    "def isSame(r, c, size):\n",
    "    for i in range(r, r + size):\n",
    "        for j in range(c, c + size):\n",
    "            if mat[r][c] != mat[i][j]:\n",
    "                return False\n",
    "    return True\n",
    "\n",
    " \n",
    "\n",
    "def quadtree(r, c, size):\n",
    "    if isSame(r, c, size):\n",
    "        return mat[r][c]\n",
    "\n",
    "    size //= 2\n",
    "    return '(' + quadtree(r, c, size) + quadtree(r, c + size, size) + quadtree(r + size, c, size) + quadtree(r + size, c + size, size) + ')'\n",
    "\n",
    " \n",
    "\n",
    "print(quadtree(0, 0, n))\n",
    "\n",
    "\n",
    "\n",
    "#출처: https://haedallog.tistory.com/144 [SM's Development Log]"
   ]
  },
  {
   "cell_type": "code",
   "execution_count": null,
   "metadata": {},
   "outputs": [],
   "source": []
  }
 ],
 "metadata": {
  "hide_input": false,
  "kernelspec": {
   "display_name": "Python 3",
   "language": "python",
   "name": "python3"
  },
  "language_info": {
   "codemirror_mode": {
    "name": "ipython",
    "version": 3
   },
   "file_extension": ".py",
   "mimetype": "text/x-python",
   "name": "python",
   "nbconvert_exporter": "python",
   "pygments_lexer": "ipython3",
   "version": "3.7.7"
  },
  "toc": {
   "base_numbering": 1,
   "nav_menu": {},
   "number_sections": true,
   "sideBar": true,
   "skip_h1_title": false,
   "title_cell": "Table of Contents",
   "title_sidebar": "Contents",
   "toc_cell": false,
   "toc_position": {},
   "toc_section_display": true,
   "toc_window_display": false
  }
 },
 "nbformat": 4,
 "nbformat_minor": 4
}
