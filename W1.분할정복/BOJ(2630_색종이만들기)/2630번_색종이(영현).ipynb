{
 "cells": [
  {
   "cell_type": "markdown",
   "metadata": {},
   "source": [
    "# 분할정복 - 색종이 만들기\n",
    "\n",
    "입력\n",
    "\n",
    "첫째 줄에는 전체 종이의 한 변의 길이 N이 주어져 있다. N은 2, 4, 8, 16, 32, 64, 128 중 하나이다. 색종이의 각 가로줄의 정사각형칸들의 색이 윗줄부터 차례로 둘째 줄부터 마지막 줄까지 주어진다. 하얀색으로 칠해진 칸은 0, 파란색으로 칠해진 칸은 1로 주어지며, 각 숫자 사이에는 빈칸이 하나씩 있다.\n",
    "\n",
    "출력\n",
    "\n",
    "첫째 줄에는 잘라진 햐얀색 색종이의 개수를 출력하고, 둘째 줄에는 파란색 색종이의 개수를 출력한다.\n",
    "\n",
    "입력\n",
    "\n",
    "8\n",
    "\n",
    "1 1 0 0 0 0 1 1\n",
    "\n",
    "1 1 0 0 0 0 1 1\n",
    "\n",
    "0 0 0 0 1 1 0 0\n",
    "\n",
    "0 0 0 0 1 1 0 0\n",
    "\n",
    "1 0 0 0 1 1 1 1\n",
    "\n",
    "0 1 0 0 1 1 1 1\n",
    "\n",
    "0 0 1 1 1 1 1 1\n",
    "\n",
    "0 0 1 1 1 1 1 1\n",
    "\n",
    "출력\n",
    "\n",
    "9\n",
    " \n",
    "7"
   ]
  },
  {
   "cell_type": "code",
   "execution_count": 1,
   "metadata": {
    "ExecuteTime": {
     "end_time": "2020-12-26T12:00:29.134483Z",
     "start_time": "2020-12-26T12:00:04.824450Z"
    }
   },
   "outputs": [
    {
     "name": "stdout",
     "output_type": "stream",
     "text": [
      "8\n",
      "11000011\n",
      "11000011\n",
      "00001100\n",
      "00001100\n",
      "10001111\n",
      "01001111\n",
      "00111111\n",
      "00111111\n"
     ]
    }
   ],
   "source": [
    "n = int(input())\n",
    "mat = [input() for i in range(n)]"
   ]
  },
  {
   "cell_type": "code",
   "execution_count": 14,
   "metadata": {
    "ExecuteTime": {
     "end_time": "2020-12-26T12:13:40.171528Z",
     "start_time": "2020-12-26T12:13:40.164527Z"
    }
   },
   "outputs": [
    {
     "name": "stdout",
     "output_type": "stream",
     "text": [
      "9\n",
      "7\n"
     ]
    }
   ],
   "source": [
    "def isSame(r, c, size):\n",
    "    for i in range(r, r + size):\n",
    "        for j in range(c, c + size):\n",
    "            if mat[r][c] != mat[i][j]:\n",
    "                return False\n",
    "    return True\n",
    "\n",
    " \n",
    "\n",
    "def findcp(r, c, size):\n",
    "    if isSame(r, c, size):\n",
    "        return mat[r][c]\n",
    "\n",
    "    size //= 2\n",
    "    return '(' + findcp(r, c, size) + findcp(r, c + size, size) + findcp(r + size, c, size) + findcp(r + size, c + size, size) + ')'\n",
    "\n",
    "\"\"\"print(findcp(r, c, size).count('1')+findcp(r, c + size, size).count('1')+findcp(r + size, c, size).count('1') + findcp(r + size, c + size, size).count('1'), findcp(r, c, size).count('0')+findcp(r, c + size, size).count('0')+findcp(r + size, c, size).count('0') + findcp(r + size, c + size, size).count('0'), sep='\\n')\"\"\"\n",
    "\n",
    " \n",
    "\n",
    "print(findcp(0, 0, n).count('0'), findcp(0, 0, n).count('1'), sep='\\n')\n",
    "\n"
   ]
  },
  {
   "cell_type": "code",
   "execution_count": 13,
   "metadata": {
    "ExecuteTime": {
     "end_time": "2020-12-26T12:12:12.386525Z",
     "start_time": "2020-12-26T12:12:12.380523Z"
    }
   },
   "outputs": [
    {
     "name": "stdout",
     "output_type": "stream",
     "text": [
      "9\n"
     ]
    }
   ],
   "source": [
    "print(findcp(0, 0, n).count('0'))"
   ]
  },
  {
   "cell_type": "code",
   "execution_count": null,
   "metadata": {},
   "outputs": [],
   "source": []
  }
 ],
 "metadata": {
  "hide_input": false,
  "kernelspec": {
   "display_name": "Python 3",
   "language": "python",
   "name": "python3"
  },
  "language_info": {
   "codemirror_mode": {
    "name": "ipython",
    "version": 3
   },
   "file_extension": ".py",
   "mimetype": "text/x-python",
   "name": "python",
   "nbconvert_exporter": "python",
   "pygments_lexer": "ipython3",
   "version": "3.7.7"
  },
  "toc": {
   "base_numbering": 1,
   "nav_menu": {},
   "number_sections": true,
   "sideBar": true,
   "skip_h1_title": false,
   "title_cell": "Table of Contents",
   "title_sidebar": "Contents",
   "toc_cell": false,
   "toc_position": {},
   "toc_section_display": true,
   "toc_window_display": false
  }
 },
 "nbformat": 4,
 "nbformat_minor": 4
}
