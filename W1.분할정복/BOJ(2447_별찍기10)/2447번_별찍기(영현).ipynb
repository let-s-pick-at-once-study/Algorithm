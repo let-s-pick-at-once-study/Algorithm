{
 "cells": [
  {
   "cell_type": "markdown",
   "metadata": {},
   "source": [
    "# 분할정복 - 별 찍기\n",
    "\n",
    "* 분할 정복: 분할정복법은 주어진 문제를 작은 사례로 나누고(Divide) 각각의 작은 문제들을 해결하여 정복 (Conquer)하는 방법\n",
    "\n",
    "출처: https://kimch3617.tistory.com/entry/알고리즘-분할정복법-Divide-and-Conquer [코드 저장소]\n",
    "\n",
    "문제\n",
    "재귀적인 패턴으로 별을 찍어 보자. N이 3의 거듭제곱(3, 9, 27, ...)이라고 할 때, 크기 N의 패턴은 N×N 정사각형 모양이다.\n",
    "\n",
    "크기 3의 패턴은 가운데에 공백이 있고, 가운데를 제외한 모든 칸에 별이 하나씩 있는 패턴이다.\n",
    "\n",
    "\\***\n",
    "\n",
    "\\* *\n",
    "\n",
    "\\***\n",
    "\n",
    "N이 3보다 클 경우, 크기 N의 패턴은 공백으로 채워진 가운데의 (N/3)×(N/3) 정사각형을 크기 N/3의 패턴으로 둘러싼 형태이다. 예를 들어 크기 27의 패턴은 예제 출력 1과 같다.\n",
    "\n",
    "입력\n",
    "첫째 줄에 N이 주어진다. N은 3의 거듭제곱이다. 즉 어떤 정수 k에 대해 N=3k이며, 이때 1 ≤ k < 8이다.\n",
    "\n",
    "출력\n",
    "첫째 줄부터 N번째 줄까지 별을 출력한다.\n",
    "\n",
    "입력\n",
    "27\n",
    "\n",
    "\n",
    "출력\n",
    "\n",
    "***************************\n",
    "* ** ** ** ** ** ** ** ** *\n",
    "***************************\n",
    "***   ******   ******   ***\n",
    "* *   * ** *   * ** *   * *\n",
    "***   ******   ******   ***\n",
    "***************************\n",
    "* ** ** ** ** ** ** ** ** *\n",
    "***************************\n",
    "*********         *********\n",
    "* ** ** *         * ** ** *\n",
    "*********         *********\n",
    "***   ***         ***   ***\n",
    "* *   * *         * *   * *\n",
    "***   ***         ***   ***\n",
    "*********         *********\n",
    "* ** ** *         * ** ** *\n",
    "*********         *********\n",
    "***************************\n",
    "* ** ** ** ** ** ** ** ** *\n",
    "***************************\n",
    "***   ******   ******   ***\n",
    "* *   * ** *   * ** *   * *\n",
    "***   ******   ******   ***\n",
    "***************************\n",
    "* ** ** ** ** ** ** ** ** *\n",
    "***************************\n",
    "\n",
    "\n",
    "알고리즘\n",
    "1. N 크기의 패턴은 9등분으로\n",
    "2. 크기에 맞게 공백을 생성한다\n",
    "3. 생성된 나머지 8개의 패턴에 대해서 반복"
   ]
  },
  {
   "cell_type": "code",
   "execution_count": 28,
   "metadata": {
    "ExecuteTime": {
     "end_time": "2020-12-26T09:44:08.721838Z",
     "start_time": "2020-12-26T09:44:08.712841Z"
    }
   },
   "outputs": [],
   "source": [
    "def sol(N):\n",
    "    f_p = [['*']*N for _ in range(N)]\n",
    "    v=N; cnt=0\n",
    "    while v!=1:\n",
    "        v/=3\n",
    "        cnt+=1\n",
    "        \n",
    "    for cnt in range(cnt):\n",
    "        idx = [i for i in range(N) if (i//3**cnt) % 3 == 1]\n",
    "        for i in idx:\n",
    "            for j in idx:\n",
    "                f_p[i][j] = ' '\n",
    "    return print('\\n'.join([''.join([str(i) for i in row]) for row in f_p]))"
   ]
  },
  {
   "cell_type": "code",
   "execution_count": 4,
   "metadata": {
    "ExecuteTime": {
     "end_time": "2020-12-26T09:14:55.595781Z",
     "start_time": "2020-12-26T09:14:55.588747Z"
    }
   },
   "outputs": [
    {
     "data": {
      "text/plain": [
       "27"
      ]
     },
     "execution_count": 4,
     "metadata": {},
     "output_type": "execute_result"
    }
   ],
   "source": [
    "f_p = [['*']*27 for _ in range(27)]\n",
    "len(f_p)"
   ]
  },
  {
   "cell_type": "code",
   "execution_count": 5,
   "metadata": {
    "ExecuteTime": {
     "end_time": "2020-12-26T09:19:02.053742Z",
     "start_time": "2020-12-26T09:19:02.045751Z"
    }
   },
   "outputs": [
    {
     "data": {
      "text/plain": [
       "2"
      ]
     },
     "execution_count": 5,
     "metadata": {},
     "output_type": "execute_result"
    }
   ],
   "source": [
    "20//3**2 # 3의 제곱 먼저 연산"
   ]
  },
  {
   "cell_type": "code",
   "execution_count": 29,
   "metadata": {
    "ExecuteTime": {
     "end_time": "2020-12-26T09:44:10.994842Z",
     "start_time": "2020-12-26T09:44:10.990842Z"
    }
   },
   "outputs": [
    {
     "name": "stdout",
     "output_type": "stream",
     "text": [
      "***\n",
      "* *\n",
      "***\n"
     ]
    }
   ],
   "source": [
    "sol(3)"
   ]
  },
  {
   "cell_type": "code",
   "execution_count": 30,
   "metadata": {
    "ExecuteTime": {
     "end_time": "2020-12-26T09:47:03.283843Z",
     "start_time": "2020-12-26T09:47:03.276839Z"
    }
   },
   "outputs": [
    {
     "name": "stdout",
     "output_type": "stream",
     "text": [
      "***************************\n",
      "* ** ** ** ** ** ** ** ** *\n",
      "***************************\n",
      "***   ******   ******   ***\n",
      "* *   * ** *   * ** *   * *\n",
      "***   ******   ******   ***\n",
      "***************************\n",
      "* ** ** ** ** ** ** ** ** *\n",
      "***************************\n",
      "*********         *********\n",
      "* ** ** *         * ** ** *\n",
      "*********         *********\n",
      "***   ***         ***   ***\n",
      "* *   * *         * *   * *\n",
      "***   ***         ***   ***\n",
      "*********         *********\n",
      "* ** ** *         * ** ** *\n",
      "*********         *********\n",
      "***************************\n",
      "* ** ** ** ** ** ** ** ** *\n",
      "***************************\n",
      "***   ******   ******   ***\n",
      "* *   * ** *   * ** *   * *\n",
      "***   ******   ******   ***\n",
      "***************************\n",
      "* ** ** ** ** ** ** ** ** *\n",
      "***************************\n"
     ]
    }
   ],
   "source": [
    "def concat(r1, r2):\n",
    "    return [''.join(x) for x in zip(r1, r2, r1)]\n",
    "\n",
    "def star10(n):\n",
    "    if n==1:\n",
    "        return ['*']\n",
    "    n//=3\n",
    "    x = star10(n)\n",
    "    top_bottom = concat(x,x)\n",
    "    middle = concat(x, [' '*n]*n)\n",
    "    return top_bottom + middle + top_bottom\n",
    "\n",
    "print('\\n'.join(star10(27)))"
   ]
  },
  {
   "cell_type": "code",
   "execution_count": 31,
   "metadata": {
    "ExecuteTime": {
     "end_time": "2020-12-26T09:47:36.497841Z",
     "start_time": "2020-12-26T09:47:36.492837Z"
    }
   },
   "outputs": [
    {
     "name": "stdout",
     "output_type": "stream",
     "text": [
      "1\n"
     ]
    }
   ],
   "source": [
    "# 코드 설명\n",
    "n = 3 #일때\n",
    "n//=3\n",
    "print(n)"
   ]
  },
  {
   "cell_type": "code",
   "execution_count": 33,
   "metadata": {
    "ExecuteTime": {
     "end_time": "2020-12-26T09:47:49.534840Z",
     "start_time": "2020-12-26T09:47:49.525847Z"
    }
   },
   "outputs": [
    {
     "data": {
      "text/plain": [
       "['*']"
      ]
     },
     "execution_count": 33,
     "metadata": {},
     "output_type": "execute_result"
    }
   ],
   "source": [
    "x = star10(n)\n",
    "x"
   ]
  },
  {
   "cell_type": "code",
   "execution_count": 35,
   "metadata": {
    "ExecuteTime": {
     "end_time": "2020-12-26T09:48:04.121844Z",
     "start_time": "2020-12-26T09:48:04.115841Z"
    }
   },
   "outputs": [
    {
     "data": {
      "text/plain": [
       "['***']"
      ]
     },
     "execution_count": 35,
     "metadata": {},
     "output_type": "execute_result"
    }
   ],
   "source": [
    "t_b = concat(x, x)\n",
    "t_b"
   ]
  },
  {
   "cell_type": "code",
   "execution_count": 36,
   "metadata": {
    "ExecuteTime": {
     "end_time": "2020-12-26T09:48:19.801839Z",
     "start_time": "2020-12-26T09:48:19.795834Z"
    }
   },
   "outputs": [
    {
     "data": {
      "text/plain": [
       "['* *']"
      ]
     },
     "execution_count": 36,
     "metadata": {},
     "output_type": "execute_result"
    }
   ],
   "source": [
    "m = concat(x, [' '*n]*n)\n",
    "m"
   ]
  },
  {
   "cell_type": "code",
   "execution_count": 37,
   "metadata": {
    "ExecuteTime": {
     "end_time": "2020-12-26T09:48:35.730836Z",
     "start_time": "2020-12-26T09:48:35.724835Z"
    }
   },
   "outputs": [
    {
     "data": {
      "text/plain": [
       "['***', '* *', '***']"
      ]
     },
     "execution_count": 37,
     "metadata": {},
     "output_type": "execute_result"
    }
   ],
   "source": [
    "t_b + m + t_b"
   ]
  },
  {
   "cell_type": "code",
   "execution_count": 38,
   "metadata": {
    "ExecuteTime": {
     "end_time": "2020-12-26T09:49:26.002918Z",
     "start_time": "2020-12-26T09:49:25.994890Z"
    }
   },
   "outputs": [
    {
     "data": {
      "text/plain": [
       "['***', '* *', '***']"
      ]
     },
     "execution_count": 38,
     "metadata": {},
     "output_type": "execute_result"
    }
   ],
   "source": [
    "n = 9 # 일때\n",
    "n//=3 #n=3\n",
    "x=star10(n) #바로 위 3일 떄의 결과값 \n",
    "x"
   ]
  },
  {
   "cell_type": "code",
   "execution_count": 39,
   "metadata": {
    "ExecuteTime": {
     "end_time": "2020-12-26T09:50:14.736907Z",
     "start_time": "2020-12-26T09:50:14.728912Z"
    }
   },
   "outputs": [
    {
     "data": {
      "text/plain": [
       "['*********', '* ** ** *', '*********']"
      ]
     },
     "execution_count": 39,
     "metadata": {},
     "output_type": "execute_result"
    }
   ],
   "source": [
    "t_b2 = concat(x,x)\n",
    "t_b2"
   ]
  },
  {
   "cell_type": "markdown",
   "metadata": {},
   "source": [
    "> zip(): 각 리스트에서 같은 위치에 있는 원소들끼리 묶어줌"
   ]
  },
  {
   "cell_type": "code",
   "execution_count": 41,
   "metadata": {
    "ExecuteTime": {
     "end_time": "2020-12-26T09:51:37.816914Z",
     "start_time": "2020-12-26T09:51:37.807912Z"
    }
   },
   "outputs": [
    {
     "data": {
      "text/plain": [
       "['***   ***', '* *   * *', '***   ***']"
      ]
     },
     "execution_count": 41,
     "metadata": {},
     "output_type": "execute_result"
    }
   ],
   "source": [
    "m2 = concat(x,[' '*n]*n)\n",
    "m2"
   ]
  },
  {
   "cell_type": "code",
   "execution_count": 42,
   "metadata": {
    "ExecuteTime": {
     "end_time": "2020-12-26T09:51:48.959912Z",
     "start_time": "2020-12-26T09:51:48.953908Z"
    }
   },
   "outputs": [
    {
     "data": {
      "text/plain": [
       "['*********',\n",
       " '* ** ** *',\n",
       " '*********',\n",
       " '***   ***',\n",
       " '* *   * *',\n",
       " '***   ***',\n",
       " '*********',\n",
       " '* ** ** *',\n",
       " '*********']"
      ]
     },
     "execution_count": 42,
     "metadata": {},
     "output_type": "execute_result"
    }
   ],
   "source": [
    "t_b2 + m2 + t_b2"
   ]
  },
  {
   "cell_type": "markdown",
   "metadata": {},
   "source": [
    "출처: https://leedakyeong.tistory.com/entry/%EB%B0%B1%EC%A4%80-python-2447%EB%B2%88-%EB%B3%84-%EC%B0%8D%EA%B8%B0-10"
   ]
  },
  {
   "cell_type": "code",
   "execution_count": null,
   "metadata": {},
   "outputs": [],
   "source": []
  }
 ],
 "metadata": {
  "hide_input": false,
  "kernelspec": {
   "display_name": "Python 3",
   "language": "python",
   "name": "python3"
  },
  "language_info": {
   "codemirror_mode": {
    "name": "ipython",
    "version": 3
   },
   "file_extension": ".py",
   "mimetype": "text/x-python",
   "name": "python",
   "nbconvert_exporter": "python",
   "pygments_lexer": "ipython3",
   "version": "3.7.7"
  },
  "toc": {
   "base_numbering": 1,
   "nav_menu": {},
   "number_sections": true,
   "sideBar": true,
   "skip_h1_title": false,
   "title_cell": "Table of Contents",
   "title_sidebar": "Contents",
   "toc_cell": false,
   "toc_position": {},
   "toc_section_display": true,
   "toc_window_display": false
  }
 },
 "nbformat": 4,
 "nbformat_minor": 4
}
